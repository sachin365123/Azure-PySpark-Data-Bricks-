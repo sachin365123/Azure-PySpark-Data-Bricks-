{
  "nbformat": 4,
  "nbformat_minor": 0,
  "metadata": {
    "colab": {
      "provenance": []
    },
    "kernelspec": {
      "name": "python3",
      "display_name": "Python 3"
    },
    "language_info": {
      "name": "python"
    }
  },
  "cells": [
    {
      "cell_type": "code",
      "execution_count": 2,
      "metadata": {
        "id": "QNv4xUcraxVa"
      },
      "outputs": [],
      "source": [
        "# Databricks notebook source\n",
        "from pyspark.sql import SparkSession\n",
        "spark = SparkSession.builder.appName(\"Second App\").getOrCreate()"
      ]
    },
    {
      "cell_type": "code",
      "source": [
        "df= spark.read.options(header='True',inferScema='True').csv('/content/sample_data/StudentData_.csv')"
      ],
      "metadata": {
        "id": "hrxFWzYybgx1"
      },
      "execution_count": 44,
      "outputs": []
    },
    {
      "cell_type": "code",
      "source": [
        "df.show()"
      ],
      "metadata": {
        "colab": {
          "base_uri": "https://localhost:8080/"
        },
        "id": "CDH8h-z9cOgD",
        "outputId": "c393fa68-a8c2-4f88-8f53-85427deeb130"
      },
      "execution_count": 18,
      "outputs": [
        {
          "output_type": "stream",
          "name": "stdout",
          "text": [
            "+---+------+----------------+------+------+-----+--------------------+\n",
            "|age|gender|            name|course|  roll|marks|               email|\n",
            "+---+------+----------------+------+------+-----+--------------------+\n",
            "| 28|Female| Hubert Oliveras|    DB|  2984|   59|Annika Hoffman_Na...|\n",
            "| 29|Female|Toshiko Hillyard| Cloud| 12899|   62|Margene Moores_Ma...|\n",
            "| 28|  Male|  Celeste Lollis|    PF| 21267|   45|Jeannetta Golden_...|\n",
            "| 29|Female|    Elenore Choy|    DB| 32877|   29|Billi Clore_Mitzi...|\n",
            "| 28|  Male|  Sheryll Towler|   DSA| 41487|   41|Claude Panos_Judi...|\n",
            "| 28|  Male|  Margene Moores|   MVC| 52771|   32|Toshiko Hillyard_...|\n",
            "| 28|  Male|     Neda Briski|   OOP| 61973|   69|Alberta Freund_El...|\n",
            "| 28|Female|    Claude Panos| Cloud| 72409|   85|Sheryll Towler_Al...|\n",
            "| 28|  Male|  Celeste Lollis|   MVC| 81492|   64|Nicole Harwood_Cl...|\n",
            "| 29|  Male|  Cordie Harnois|   OOP| 92882|   51|Judie Chipps_Clem...|\n",
            "| 29|Female|       Kena Wild|   DSA|102285|   35|Dustin Feagins_Ma...|\n",
            "| 29|  Male| Ernest Rossbach|    DB|111449|   53|Maybell Duguay_Ab...|\n",
            "| 28|Female|  Latia Vanhoose|    DB|122502|   27|Latia Vanhoose_Mi...|\n",
            "| 29|Female|  Latia Vanhoose|   MVC|132110|   55|Eda Neathery_Nico...|\n",
            "| 29|  Male|     Neda Briski|    PF|141770|   42|Margene Moores_Mi...|\n",
            "| 29|Female|  Latia Vanhoose|    DB|152159|   27|Claude Panos_Sant...|\n",
            "| 29|  Male|  Loris Crossett|   MVC|161771|   36|Mitzi Seldon_Jenn...|\n",
            "| 29|  Male|  Annika Hoffman|   OOP|171660|   22|Taryn Brownlee_Mi...|\n",
            "| 29|  Male|   Santa Kerfien|    PF|182129|   56|Judie Chipps_Tary...|\n",
            "| 28|Female|Mickey Cortright|    DB|192537|   62|Ernest Rossbach_M...|\n",
            "+---+------+----------------+------+------+-----+--------------------+\n",
            "only showing top 20 rows\n",
            "\n"
          ]
        }
      ]
    },
    {
      "cell_type": "code",
      "source": [
        "df.printSchema()"
      ],
      "metadata": {
        "colab": {
          "base_uri": "https://localhost:8080/"
        },
        "id": "cqTM51QmeGgP",
        "outputId": "62c07b37-e3db-4112-f4a0-b30c240a7ff4"
      },
      "execution_count": 19,
      "outputs": [
        {
          "output_type": "stream",
          "name": "stdout",
          "text": [
            "root\n",
            " |-- age: string (nullable = true)\n",
            " |-- gender: string (nullable = true)\n",
            " |-- name: string (nullable = true)\n",
            " |-- course: string (nullable = true)\n",
            " |-- roll: string (nullable = true)\n",
            " |-- marks: string (nullable = true)\n",
            " |-- email: string (nullable = true)\n",
            "\n"
          ]
        }
      ]
    },
    {
      "cell_type": "code",
      "source": [
        "df.select(df.name, df.email).show()"
      ],
      "metadata": {
        "colab": {
          "base_uri": "https://localhost:8080/"
        },
        "id": "o0amr3S1cabM",
        "outputId": "2a94ebef-6205-4824-b8c0-1408147e804e"
      },
      "execution_count": 7,
      "outputs": [
        {
          "output_type": "stream",
          "name": "stdout",
          "text": [
            "+----------------+--------------------+\n",
            "|            name|               email|\n",
            "+----------------+--------------------+\n",
            "| Hubert Oliveras|Annika Hoffman_Na...|\n",
            "|Toshiko Hillyard|Margene Moores_Ma...|\n",
            "|  Celeste Lollis|Jeannetta Golden_...|\n",
            "|    Elenore Choy|Billi Clore_Mitzi...|\n",
            "|  Sheryll Towler|Claude Panos_Judi...|\n",
            "|  Margene Moores|Toshiko Hillyard_...|\n",
            "|     Neda Briski|Alberta Freund_El...|\n",
            "|    Claude Panos|Sheryll Towler_Al...|\n",
            "|  Celeste Lollis|Nicole Harwood_Cl...|\n",
            "|  Cordie Harnois|Judie Chipps_Clem...|\n",
            "|       Kena Wild|Dustin Feagins_Ma...|\n",
            "| Ernest Rossbach|Maybell Duguay_Ab...|\n",
            "|  Latia Vanhoose|Latia Vanhoose_Mi...|\n",
            "|  Latia Vanhoose|Eda Neathery_Nico...|\n",
            "|     Neda Briski|Margene Moores_Mi...|\n",
            "|  Latia Vanhoose|Claude Panos_Sant...|\n",
            "|  Loris Crossett|Mitzi Seldon_Jenn...|\n",
            "|  Annika Hoffman|Taryn Brownlee_Mi...|\n",
            "|   Santa Kerfien|Judie Chipps_Tary...|\n",
            "|Mickey Cortright|Ernest Rossbach_M...|\n",
            "+----------------+--------------------+\n",
            "only showing top 20 rows\n",
            "\n"
          ]
        }
      ]
    },
    {
      "cell_type": "code",
      "source": [
        "df.select('*').show()"
      ],
      "metadata": {
        "colab": {
          "base_uri": "https://localhost:8080/"
        },
        "id": "4CnyPmIOcep4",
        "outputId": "41d9cb8b-60dc-46d0-9b3c-8980e93b53ea"
      },
      "execution_count": 8,
      "outputs": [
        {
          "output_type": "stream",
          "name": "stdout",
          "text": [
            "+---+------+----------------+------+------+-----+--------------------+\n",
            "|age|gender|            name|course|  roll|marks|               email|\n",
            "+---+------+----------------+------+------+-----+--------------------+\n",
            "| 28|Female| Hubert Oliveras|    DB|  2984|   59|Annika Hoffman_Na...|\n",
            "| 29|Female|Toshiko Hillyard| Cloud| 12899|   62|Margene Moores_Ma...|\n",
            "| 28|  Male|  Celeste Lollis|    PF| 21267|   45|Jeannetta Golden_...|\n",
            "| 29|Female|    Elenore Choy|    DB| 32877|   29|Billi Clore_Mitzi...|\n",
            "| 28|  Male|  Sheryll Towler|   DSA| 41487|   41|Claude Panos_Judi...|\n",
            "| 28|  Male|  Margene Moores|   MVC| 52771|   32|Toshiko Hillyard_...|\n",
            "| 28|  Male|     Neda Briski|   OOP| 61973|   69|Alberta Freund_El...|\n",
            "| 28|Female|    Claude Panos| Cloud| 72409|   85|Sheryll Towler_Al...|\n",
            "| 28|  Male|  Celeste Lollis|   MVC| 81492|   64|Nicole Harwood_Cl...|\n",
            "| 29|  Male|  Cordie Harnois|   OOP| 92882|   51|Judie Chipps_Clem...|\n",
            "| 29|Female|       Kena Wild|   DSA|102285|   35|Dustin Feagins_Ma...|\n",
            "| 29|  Male| Ernest Rossbach|    DB|111449|   53|Maybell Duguay_Ab...|\n",
            "| 28|Female|  Latia Vanhoose|    DB|122502|   27|Latia Vanhoose_Mi...|\n",
            "| 29|Female|  Latia Vanhoose|   MVC|132110|   55|Eda Neathery_Nico...|\n",
            "| 29|  Male|     Neda Briski|    PF|141770|   42|Margene Moores_Mi...|\n",
            "| 29|Female|  Latia Vanhoose|    DB|152159|   27|Claude Panos_Sant...|\n",
            "| 29|  Male|  Loris Crossett|   MVC|161771|   36|Mitzi Seldon_Jenn...|\n",
            "| 29|  Male|  Annika Hoffman|   OOP|171660|   22|Taryn Brownlee_Mi...|\n",
            "| 29|  Male|   Santa Kerfien|    PF|182129|   56|Judie Chipps_Tary...|\n",
            "| 28|Female|Mickey Cortright|    DB|192537|   62|Ernest Rossbach_M...|\n",
            "+---+------+----------------+------+------+-----+--------------------+\n",
            "only showing top 20 rows\n",
            "\n"
          ]
        }
      ]
    },
    {
      "cell_type": "code",
      "source": [
        "# withColumn\n",
        "from pyspark.sql.functions import col, lit\n",
        "df=df.withColumn('roll',col('roll').cast('String'))"
      ],
      "metadata": {
        "id": "s4f3vVo3cm_-"
      },
      "execution_count": 9,
      "outputs": []
    },
    {
      "cell_type": "code",
      "source": [
        "df.printSchema()"
      ],
      "metadata": {
        "colab": {
          "base_uri": "https://localhost:8080/"
        },
        "id": "SV3wICRoc7C5",
        "outputId": "f7aa39b1-1491-41ff-e592-86368e8dbd4d"
      },
      "execution_count": 10,
      "outputs": [
        {
          "output_type": "stream",
          "name": "stdout",
          "text": [
            "root\n",
            " |-- age: string (nullable = true)\n",
            " |-- gender: string (nullable = true)\n",
            " |-- name: string (nullable = true)\n",
            " |-- course: string (nullable = true)\n",
            " |-- roll: string (nullable = true)\n",
            " |-- marks: string (nullable = true)\n",
            " |-- email: string (nullable = true)\n",
            "\n"
          ]
        }
      ]
    },
    {
      "cell_type": "code",
      "source": [
        "df=df.withColumnRenamed('roll','new_roll')"
      ],
      "metadata": {
        "id": "KIE1LmHKdBPy"
      },
      "execution_count": 14,
      "outputs": []
    },
    {
      "cell_type": "code",
      "source": [
        "df.show()"
      ],
      "metadata": {
        "colab": {
          "base_uri": "https://localhost:8080/"
        },
        "id": "rkSe83zodhSa",
        "outputId": "a66b0365-75f0-4ae0-e175-14353cfe41e0"
      },
      "execution_count": 16,
      "outputs": [
        {
          "output_type": "stream",
          "name": "stdout",
          "text": [
            "+---+------+----------------+------+--------+-----+--------------------+\n",
            "|age|gender|            name|course|new_roll|marks|               email|\n",
            "+---+------+----------------+------+--------+-----+--------------------+\n",
            "| 28|Female| Hubert Oliveras|    DB|    2984|   59|Annika Hoffman_Na...|\n",
            "| 29|Female|Toshiko Hillyard| Cloud|   12899|   62|Margene Moores_Ma...|\n",
            "| 28|  Male|  Celeste Lollis|    PF|   21267|   45|Jeannetta Golden_...|\n",
            "| 29|Female|    Elenore Choy|    DB|   32877|   29|Billi Clore_Mitzi...|\n",
            "| 28|  Male|  Sheryll Towler|   DSA|   41487|   41|Claude Panos_Judi...|\n",
            "| 28|  Male|  Margene Moores|   MVC|   52771|   32|Toshiko Hillyard_...|\n",
            "| 28|  Male|     Neda Briski|   OOP|   61973|   69|Alberta Freund_El...|\n",
            "| 28|Female|    Claude Panos| Cloud|   72409|   85|Sheryll Towler_Al...|\n",
            "| 28|  Male|  Celeste Lollis|   MVC|   81492|   64|Nicole Harwood_Cl...|\n",
            "| 29|  Male|  Cordie Harnois|   OOP|   92882|   51|Judie Chipps_Clem...|\n",
            "| 29|Female|       Kena Wild|   DSA|  102285|   35|Dustin Feagins_Ma...|\n",
            "| 29|  Male| Ernest Rossbach|    DB|  111449|   53|Maybell Duguay_Ab...|\n",
            "| 28|Female|  Latia Vanhoose|    DB|  122502|   27|Latia Vanhoose_Mi...|\n",
            "| 29|Female|  Latia Vanhoose|   MVC|  132110|   55|Eda Neathery_Nico...|\n",
            "| 29|  Male|     Neda Briski|    PF|  141770|   42|Margene Moores_Mi...|\n",
            "| 29|Female|  Latia Vanhoose|    DB|  152159|   27|Claude Panos_Sant...|\n",
            "| 29|  Male|  Loris Crossett|   MVC|  161771|   36|Mitzi Seldon_Jenn...|\n",
            "| 29|  Male|  Annika Hoffman|   OOP|  171660|   22|Taryn Brownlee_Mi...|\n",
            "| 29|  Male|   Santa Kerfien|    PF|  182129|   56|Judie Chipps_Tary...|\n",
            "| 28|Female|Mickey Cortright|    DB|  192537|   62|Ernest Rossbach_M...|\n",
            "+---+------+----------------+------+--------+-----+--------------------+\n",
            "only showing top 20 rows\n",
            "\n"
          ]
        }
      ]
    },
    {
      "cell_type": "code",
      "source": [
        "data=[('Sachin',23),('Manish',52),('Vipin',12)]\n",
        "columns= [\"name\",\"marks\"]\n",
        "\n",
        "df_custom = spark.createDataFrame(data, columns)\n",
        "\n"
      ],
      "metadata": {
        "id": "RTHrv4hWd-VT"
      },
      "execution_count": 24,
      "outputs": []
    },
    {
      "cell_type": "code",
      "source": [
        "df_custom.show()"
      ],
      "metadata": {
        "colab": {
          "base_uri": "https://localhost:8080/"
        },
        "id": "oKxK3-SFehCX",
        "outputId": "ff41bf9a-9771-4f73-fe20-30d62a9406b4"
      },
      "execution_count": 25,
      "outputs": [
        {
          "output_type": "stream",
          "name": "stdout",
          "text": [
            "+------+-----+\n",
            "|  name|marks|\n",
            "+------+-----+\n",
            "|Sachin|   23|\n",
            "|Manish|   52|\n",
            "| Vipin|   12|\n",
            "+------+-----+\n",
            "\n"
          ]
        }
      ]
    },
    {
      "cell_type": "code",
      "source": [
        "df_custom.printSchema()"
      ],
      "metadata": {
        "colab": {
          "base_uri": "https://localhost:8080/"
        },
        "id": "cGvTnl7CejAN",
        "outputId": "3a91ca30-5053-4202-b5a0-93abd59e3a1f"
      },
      "execution_count": 26,
      "outputs": [
        {
          "output_type": "stream",
          "name": "stdout",
          "text": [
            "root\n",
            " |-- name: string (nullable = true)\n",
            " |-- marks: long (nullable = true)\n",
            "\n"
          ]
        }
      ]
    },
    {
      "cell_type": "code",
      "source": [
        "# transformation\n",
        "df_with_new_column = df_custom.withColumn('marks_new',col('marks')+10)\n",
        "df_with_new_column.show()"
      ],
      "metadata": {
        "colab": {
          "base_uri": "https://localhost:8080/"
        },
        "id": "v1NXtYEIerXz",
        "outputId": "bb207cf5-cb2d-4832-c2db-c01761434df7"
      },
      "execution_count": 29,
      "outputs": [
        {
          "output_type": "stream",
          "name": "stdout",
          "text": [
            "+------+-----+---------+\n",
            "|  name|marks|marks_new|\n",
            "+------+-----+---------+\n",
            "|Sachin|   23|       33|\n",
            "|Manish|   52|       62|\n",
            "| Vipin|   12|       22|\n",
            "+------+-----+---------+\n",
            "\n"
          ]
        }
      ]
    },
    {
      "cell_type": "code",
      "source": [
        "df_with_new_update_column = df_custom.withColumn('marks',col('marks')+10)\n",
        "df_with_new_update_column.show()"
      ],
      "metadata": {
        "colab": {
          "base_uri": "https://localhost:8080/"
        },
        "id": "KzuwQbi2e_wx",
        "outputId": "e8ed3f6e-886f-4959-f544-31013fd6f9ae"
      },
      "execution_count": 30,
      "outputs": [
        {
          "output_type": "stream",
          "name": "stdout",
          "text": [
            "+------+-----+\n",
            "|  name|marks|\n",
            "+------+-----+\n",
            "|Sachin|   33|\n",
            "|Manish|   62|\n",
            "| Vipin|   22|\n",
            "+------+-----+\n",
            "\n"
          ]
        }
      ]
    },
    {
      "cell_type": "code",
      "source": [
        "df.show()"
      ],
      "metadata": {
        "colab": {
          "base_uri": "https://localhost:8080/"
        },
        "id": "KItEa6djgOLc",
        "outputId": "3a76c86c-e243-4797-83da-f85e7da810e3"
      },
      "execution_count": 34,
      "outputs": [
        {
          "output_type": "stream",
          "name": "stdout",
          "text": [
            "+---+------+----------------+------+------+-----+--------------------+\n",
            "|age|gender|            name|course|  roll|marks|               email|\n",
            "+---+------+----------------+------+------+-----+--------------------+\n",
            "| 28|Female| Hubert Oliveras|    DB|  2984|   59|Annika Hoffman_Na...|\n",
            "| 29|Female|Toshiko Hillyard| Cloud| 12899|   62|Margene Moores_Ma...|\n",
            "| 28|  Male|  Celeste Lollis|    PF| 21267|   45|Jeannetta Golden_...|\n",
            "| 29|Female|    Elenore Choy|    DB| 32877|   29|Billi Clore_Mitzi...|\n",
            "| 28|  Male|  Sheryll Towler|   DSA| 41487|   41|Claude Panos_Judi...|\n",
            "| 28|  Male|  Margene Moores|   MVC| 52771|   32|Toshiko Hillyard_...|\n",
            "| 28|  Male|     Neda Briski|   OOP| 61973|   69|Alberta Freund_El...|\n",
            "| 28|Female|    Claude Panos| Cloud| 72409|   85|Sheryll Towler_Al...|\n",
            "| 28|  Male|  Celeste Lollis|   MVC| 81492|   64|Nicole Harwood_Cl...|\n",
            "| 29|  Male|  Cordie Harnois|   OOP| 92882|   51|Judie Chipps_Clem...|\n",
            "| 29|Female|       Kena Wild|   DSA|102285|   35|Dustin Feagins_Ma...|\n",
            "| 29|  Male| Ernest Rossbach|    DB|111449|   53|Maybell Duguay_Ab...|\n",
            "| 28|Female|  Latia Vanhoose|    DB|122502|   27|Latia Vanhoose_Mi...|\n",
            "| 29|Female|  Latia Vanhoose|   MVC|132110|   55|Eda Neathery_Nico...|\n",
            "| 29|  Male|     Neda Briski|    PF|141770|   42|Margene Moores_Mi...|\n",
            "| 29|Female|  Latia Vanhoose|    DB|152159|   27|Claude Panos_Sant...|\n",
            "| 29|  Male|  Loris Crossett|   MVC|161771|   36|Mitzi Seldon_Jenn...|\n",
            "| 29|  Male|  Annika Hoffman|   OOP|171660|   22|Taryn Brownlee_Mi...|\n",
            "| 29|  Male|   Santa Kerfien|    PF|182129|   56|Judie Chipps_Tary...|\n",
            "| 28|Female|Mickey Cortright|    DB|192537|   62|Ernest Rossbach_M...|\n",
            "+---+------+----------------+------+------+-----+--------------------+\n",
            "only showing top 20 rows\n",
            "\n"
          ]
        }
      ]
    },
    {
      "cell_type": "code",
      "source": [
        "# lit command\n",
        "df= df.withColumn('Contry_name',lit('USA'))\n",
        "df.show()"
      ],
      "metadata": {
        "colab": {
          "base_uri": "https://localhost:8080/"
        },
        "id": "TXcXA7cXgW_m",
        "outputId": "5f41ca80-d77c-4c63-fcae-576e6c0dfc9b"
      },
      "execution_count": 35,
      "outputs": [
        {
          "output_type": "stream",
          "name": "stdout",
          "text": [
            "+---+------+----------------+------+------+-----+--------------------+-----------+\n",
            "|age|gender|            name|course|  roll|marks|               email|Contry_name|\n",
            "+---+------+----------------+------+------+-----+--------------------+-----------+\n",
            "| 28|Female| Hubert Oliveras|    DB|  2984|   59|Annika Hoffman_Na...|        USA|\n",
            "| 29|Female|Toshiko Hillyard| Cloud| 12899|   62|Margene Moores_Ma...|        USA|\n",
            "| 28|  Male|  Celeste Lollis|    PF| 21267|   45|Jeannetta Golden_...|        USA|\n",
            "| 29|Female|    Elenore Choy|    DB| 32877|   29|Billi Clore_Mitzi...|        USA|\n",
            "| 28|  Male|  Sheryll Towler|   DSA| 41487|   41|Claude Panos_Judi...|        USA|\n",
            "| 28|  Male|  Margene Moores|   MVC| 52771|   32|Toshiko Hillyard_...|        USA|\n",
            "| 28|  Male|     Neda Briski|   OOP| 61973|   69|Alberta Freund_El...|        USA|\n",
            "| 28|Female|    Claude Panos| Cloud| 72409|   85|Sheryll Towler_Al...|        USA|\n",
            "| 28|  Male|  Celeste Lollis|   MVC| 81492|   64|Nicole Harwood_Cl...|        USA|\n",
            "| 29|  Male|  Cordie Harnois|   OOP| 92882|   51|Judie Chipps_Clem...|        USA|\n",
            "| 29|Female|       Kena Wild|   DSA|102285|   35|Dustin Feagins_Ma...|        USA|\n",
            "| 29|  Male| Ernest Rossbach|    DB|111449|   53|Maybell Duguay_Ab...|        USA|\n",
            "| 28|Female|  Latia Vanhoose|    DB|122502|   27|Latia Vanhoose_Mi...|        USA|\n",
            "| 29|Female|  Latia Vanhoose|   MVC|132110|   55|Eda Neathery_Nico...|        USA|\n",
            "| 29|  Male|     Neda Briski|    PF|141770|   42|Margene Moores_Mi...|        USA|\n",
            "| 29|Female|  Latia Vanhoose|    DB|152159|   27|Claude Panos_Sant...|        USA|\n",
            "| 29|  Male|  Loris Crossett|   MVC|161771|   36|Mitzi Seldon_Jenn...|        USA|\n",
            "| 29|  Male|  Annika Hoffman|   OOP|171660|   22|Taryn Brownlee_Mi...|        USA|\n",
            "| 29|  Male|   Santa Kerfien|    PF|182129|   56|Judie Chipps_Tary...|        USA|\n",
            "| 28|Female|Mickey Cortright|    DB|192537|   62|Ernest Rossbach_M...|        USA|\n",
            "+---+------+----------------+------+------+-----+--------------------+-----------+\n",
            "only showing top 20 rows\n",
            "\n"
          ]
        }
      ]
    },
    {
      "cell_type": "code",
      "source": [
        "df= df.withColumn('marks',col('marks')-10).withColumn('Contry_name',lit('India'))"
      ],
      "metadata": {
        "id": "T4Qc85jvgf_6"
      },
      "execution_count": 36,
      "outputs": []
    },
    {
      "cell_type": "code",
      "source": [
        "df.show()"
      ],
      "metadata": {
        "colab": {
          "base_uri": "https://localhost:8080/"
        },
        "id": "jJCjWW6phcot",
        "outputId": "f170a3bd-a8c5-4605-a7f5-b06924813dde"
      },
      "execution_count": 37,
      "outputs": [
        {
          "output_type": "stream",
          "name": "stdout",
          "text": [
            "+---+------+----------------+------+------+-----+--------------------+-----------+\n",
            "|age|gender|            name|course|  roll|marks|               email|Contry_name|\n",
            "+---+------+----------------+------+------+-----+--------------------+-----------+\n",
            "| 28|Female| Hubert Oliveras|    DB|  2984| 49.0|Annika Hoffman_Na...|      India|\n",
            "| 29|Female|Toshiko Hillyard| Cloud| 12899| 52.0|Margene Moores_Ma...|      India|\n",
            "| 28|  Male|  Celeste Lollis|    PF| 21267| 35.0|Jeannetta Golden_...|      India|\n",
            "| 29|Female|    Elenore Choy|    DB| 32877| 19.0|Billi Clore_Mitzi...|      India|\n",
            "| 28|  Male|  Sheryll Towler|   DSA| 41487| 31.0|Claude Panos_Judi...|      India|\n",
            "| 28|  Male|  Margene Moores|   MVC| 52771| 22.0|Toshiko Hillyard_...|      India|\n",
            "| 28|  Male|     Neda Briski|   OOP| 61973| 59.0|Alberta Freund_El...|      India|\n",
            "| 28|Female|    Claude Panos| Cloud| 72409| 75.0|Sheryll Towler_Al...|      India|\n",
            "| 28|  Male|  Celeste Lollis|   MVC| 81492| 54.0|Nicole Harwood_Cl...|      India|\n",
            "| 29|  Male|  Cordie Harnois|   OOP| 92882| 41.0|Judie Chipps_Clem...|      India|\n",
            "| 29|Female|       Kena Wild|   DSA|102285| 25.0|Dustin Feagins_Ma...|      India|\n",
            "| 29|  Male| Ernest Rossbach|    DB|111449| 43.0|Maybell Duguay_Ab...|      India|\n",
            "| 28|Female|  Latia Vanhoose|    DB|122502| 17.0|Latia Vanhoose_Mi...|      India|\n",
            "| 29|Female|  Latia Vanhoose|   MVC|132110| 45.0|Eda Neathery_Nico...|      India|\n",
            "| 29|  Male|     Neda Briski|    PF|141770| 32.0|Margene Moores_Mi...|      India|\n",
            "| 29|Female|  Latia Vanhoose|    DB|152159| 17.0|Claude Panos_Sant...|      India|\n",
            "| 29|  Male|  Loris Crossett|   MVC|161771| 26.0|Mitzi Seldon_Jenn...|      India|\n",
            "| 29|  Male|  Annika Hoffman|   OOP|171660| 12.0|Taryn Brownlee_Mi...|      India|\n",
            "| 29|  Male|   Santa Kerfien|    PF|182129| 46.0|Judie Chipps_Tary...|      India|\n",
            "| 28|Female|Mickey Cortright|    DB|192537| 52.0|Ernest Rossbach_M...|      India|\n",
            "+---+------+----------------+------+------+-----+--------------------+-----------+\n",
            "only showing top 20 rows\n",
            "\n"
          ]
        }
      ]
    },
    {
      "cell_type": "code",
      "source": [
        "# renamed multiple columns in single line\n",
        "df = df.withColumnRenamed(\"gender\",\"sex\").withColumnRenamed(\"roll\", \"roll number\")\n",
        "df.show()"
      ],
      "metadata": {
        "colab": {
          "base_uri": "https://localhost:8080/"
        },
        "id": "bn8ki0F7heNQ",
        "outputId": "290e3aa5-7181-48c4-ad07-2b109968f513"
      },
      "execution_count": 38,
      "outputs": [
        {
          "output_type": "stream",
          "name": "stdout",
          "text": [
            "+---+------+----------------+------+-----------+-----+--------------------+-----------+\n",
            "|age|   sex|            name|course|roll number|marks|               email|Contry_name|\n",
            "+---+------+----------------+------+-----------+-----+--------------------+-----------+\n",
            "| 28|Female| Hubert Oliveras|    DB|       2984| 49.0|Annika Hoffman_Na...|      India|\n",
            "| 29|Female|Toshiko Hillyard| Cloud|      12899| 52.0|Margene Moores_Ma...|      India|\n",
            "| 28|  Male|  Celeste Lollis|    PF|      21267| 35.0|Jeannetta Golden_...|      India|\n",
            "| 29|Female|    Elenore Choy|    DB|      32877| 19.0|Billi Clore_Mitzi...|      India|\n",
            "| 28|  Male|  Sheryll Towler|   DSA|      41487| 31.0|Claude Panos_Judi...|      India|\n",
            "| 28|  Male|  Margene Moores|   MVC|      52771| 22.0|Toshiko Hillyard_...|      India|\n",
            "| 28|  Male|     Neda Briski|   OOP|      61973| 59.0|Alberta Freund_El...|      India|\n",
            "| 28|Female|    Claude Panos| Cloud|      72409| 75.0|Sheryll Towler_Al...|      India|\n",
            "| 28|  Male|  Celeste Lollis|   MVC|      81492| 54.0|Nicole Harwood_Cl...|      India|\n",
            "| 29|  Male|  Cordie Harnois|   OOP|      92882| 41.0|Judie Chipps_Clem...|      India|\n",
            "| 29|Female|       Kena Wild|   DSA|     102285| 25.0|Dustin Feagins_Ma...|      India|\n",
            "| 29|  Male| Ernest Rossbach|    DB|     111449| 43.0|Maybell Duguay_Ab...|      India|\n",
            "| 28|Female|  Latia Vanhoose|    DB|     122502| 17.0|Latia Vanhoose_Mi...|      India|\n",
            "| 29|Female|  Latia Vanhoose|   MVC|     132110| 45.0|Eda Neathery_Nico...|      India|\n",
            "| 29|  Male|     Neda Briski|    PF|     141770| 32.0|Margene Moores_Mi...|      India|\n",
            "| 29|Female|  Latia Vanhoose|    DB|     152159| 17.0|Claude Panos_Sant...|      India|\n",
            "| 29|  Male|  Loris Crossett|   MVC|     161771| 26.0|Mitzi Seldon_Jenn...|      India|\n",
            "| 29|  Male|  Annika Hoffman|   OOP|     171660| 12.0|Taryn Brownlee_Mi...|      India|\n",
            "| 29|  Male|   Santa Kerfien|    PF|     182129| 46.0|Judie Chipps_Tary...|      India|\n",
            "| 28|Female|Mickey Cortright|    DB|     192537| 52.0|Ernest Rossbach_M...|      India|\n",
            "+---+------+----------------+------+-----------+-----+--------------------+-----------+\n",
            "only showing top 20 rows\n",
            "\n"
          ]
        }
      ]
    },
    {
      "cell_type": "code",
      "source": [
        "df.select(col('name').alias('Full Name')).show()"
      ],
      "metadata": {
        "colab": {
          "base_uri": "https://localhost:8080/"
        },
        "id": "fZs5d53ZiY_N",
        "outputId": "e24d7fcb-e0ce-4a90-ddde-ae24cdeffa4f"
      },
      "execution_count": 39,
      "outputs": [
        {
          "output_type": "stream",
          "name": "stdout",
          "text": [
            "+----------------+\n",
            "|       Full Name|\n",
            "+----------------+\n",
            "| Hubert Oliveras|\n",
            "|Toshiko Hillyard|\n",
            "|  Celeste Lollis|\n",
            "|    Elenore Choy|\n",
            "|  Sheryll Towler|\n",
            "|  Margene Moores|\n",
            "|     Neda Briski|\n",
            "|    Claude Panos|\n",
            "|  Celeste Lollis|\n",
            "|  Cordie Harnois|\n",
            "|       Kena Wild|\n",
            "| Ernest Rossbach|\n",
            "|  Latia Vanhoose|\n",
            "|  Latia Vanhoose|\n",
            "|     Neda Briski|\n",
            "|  Latia Vanhoose|\n",
            "|  Loris Crossett|\n",
            "|  Annika Hoffman|\n",
            "|   Santa Kerfien|\n",
            "|Mickey Cortright|\n",
            "+----------------+\n",
            "only showing top 20 rows\n",
            "\n"
          ]
        }
      ]
    },
    {
      "cell_type": "code",
      "source": [
        "df.show()"
      ],
      "metadata": {
        "colab": {
          "base_uri": "https://localhost:8080/"
        },
        "id": "nNuYJ3RIiiv8",
        "outputId": "b987daef-f9de-4586-d6a8-1cf429c44fb3"
      },
      "execution_count": 40,
      "outputs": [
        {
          "output_type": "stream",
          "name": "stdout",
          "text": [
            "+---+------+----------------+------+-----------+-----+--------------------+-----------+\n",
            "|age|   sex|            name|course|roll number|marks|               email|Contry_name|\n",
            "+---+------+----------------+------+-----------+-----+--------------------+-----------+\n",
            "| 28|Female| Hubert Oliveras|    DB|       2984| 49.0|Annika Hoffman_Na...|      India|\n",
            "| 29|Female|Toshiko Hillyard| Cloud|      12899| 52.0|Margene Moores_Ma...|      India|\n",
            "| 28|  Male|  Celeste Lollis|    PF|      21267| 35.0|Jeannetta Golden_...|      India|\n",
            "| 29|Female|    Elenore Choy|    DB|      32877| 19.0|Billi Clore_Mitzi...|      India|\n",
            "| 28|  Male|  Sheryll Towler|   DSA|      41487| 31.0|Claude Panos_Judi...|      India|\n",
            "| 28|  Male|  Margene Moores|   MVC|      52771| 22.0|Toshiko Hillyard_...|      India|\n",
            "| 28|  Male|     Neda Briski|   OOP|      61973| 59.0|Alberta Freund_El...|      India|\n",
            "| 28|Female|    Claude Panos| Cloud|      72409| 75.0|Sheryll Towler_Al...|      India|\n",
            "| 28|  Male|  Celeste Lollis|   MVC|      81492| 54.0|Nicole Harwood_Cl...|      India|\n",
            "| 29|  Male|  Cordie Harnois|   OOP|      92882| 41.0|Judie Chipps_Clem...|      India|\n",
            "| 29|Female|       Kena Wild|   DSA|     102285| 25.0|Dustin Feagins_Ma...|      India|\n",
            "| 29|  Male| Ernest Rossbach|    DB|     111449| 43.0|Maybell Duguay_Ab...|      India|\n",
            "| 28|Female|  Latia Vanhoose|    DB|     122502| 17.0|Latia Vanhoose_Mi...|      India|\n",
            "| 29|Female|  Latia Vanhoose|   MVC|     132110| 45.0|Eda Neathery_Nico...|      India|\n",
            "| 29|  Male|     Neda Briski|    PF|     141770| 32.0|Margene Moores_Mi...|      India|\n",
            "| 29|Female|  Latia Vanhoose|    DB|     152159| 17.0|Claude Panos_Sant...|      India|\n",
            "| 29|  Male|  Loris Crossett|   MVC|     161771| 26.0|Mitzi Seldon_Jenn...|      India|\n",
            "| 29|  Male|  Annika Hoffman|   OOP|     171660| 12.0|Taryn Brownlee_Mi...|      India|\n",
            "| 29|  Male|   Santa Kerfien|    PF|     182129| 46.0|Judie Chipps_Tary...|      India|\n",
            "| 28|Female|Mickey Cortright|    DB|     192537| 52.0|Ernest Rossbach_M...|      India|\n",
            "+---+------+----------------+------+-----------+-----+--------------------+-----------+\n",
            "only showing top 20 rows\n",
            "\n"
          ]
        }
      ]
    },
    {
      "cell_type": "code",
      "source": [
        "# alias name of any column\n",
        "df= df.select(col('name').alias('Full Name'))"
      ],
      "metadata": {
        "id": "_G0Kne8ZiklC"
      },
      "execution_count": 41,
      "outputs": []
    },
    {
      "cell_type": "code",
      "source": [
        "df.show()"
      ],
      "metadata": {
        "colab": {
          "base_uri": "https://localhost:8080/"
        },
        "id": "bBMfI0INixu0",
        "outputId": "8f3ba08e-bde8-4a0f-ce29-333272bedeed"
      },
      "execution_count": 43,
      "outputs": [
        {
          "output_type": "stream",
          "name": "stdout",
          "text": [
            "+----------------+\n",
            "|       Full Name|\n",
            "+----------------+\n",
            "| Hubert Oliveras|\n",
            "|Toshiko Hillyard|\n",
            "|  Celeste Lollis|\n",
            "|    Elenore Choy|\n",
            "|  Sheryll Towler|\n",
            "|  Margene Moores|\n",
            "|     Neda Briski|\n",
            "|    Claude Panos|\n",
            "|  Celeste Lollis|\n",
            "|  Cordie Harnois|\n",
            "|       Kena Wild|\n",
            "| Ernest Rossbach|\n",
            "|  Latia Vanhoose|\n",
            "|  Latia Vanhoose|\n",
            "|     Neda Briski|\n",
            "|  Latia Vanhoose|\n",
            "|  Loris Crossett|\n",
            "|  Annika Hoffman|\n",
            "|   Santa Kerfien|\n",
            "|Mickey Cortright|\n",
            "+----------------+\n",
            "only showing top 20 rows\n",
            "\n"
          ]
        }
      ]
    },
    {
      "cell_type": "code",
      "source": [
        "df.show()"
      ],
      "metadata": {
        "colab": {
          "base_uri": "https://localhost:8080/"
        },
        "id": "unCm8KDqizUc",
        "outputId": "418b7c58-4dce-4c73-efb5-67bf6dbb7be2"
      },
      "execution_count": 45,
      "outputs": [
        {
          "output_type": "stream",
          "name": "stdout",
          "text": [
            "+---+------+----------------+------+------+-----+--------------------+\n",
            "|age|gender|            name|course|  roll|marks|               email|\n",
            "+---+------+----------------+------+------+-----+--------------------+\n",
            "| 28|Female| Hubert Oliveras|    DB|  2984|   59|Annika Hoffman_Na...|\n",
            "| 29|Female|Toshiko Hillyard| Cloud| 12899|   62|Margene Moores_Ma...|\n",
            "| 28|  Male|  Celeste Lollis|    PF| 21267|   45|Jeannetta Golden_...|\n",
            "| 29|Female|    Elenore Choy|    DB| 32877|   29|Billi Clore_Mitzi...|\n",
            "| 28|  Male|  Sheryll Towler|   DSA| 41487|   41|Claude Panos_Judi...|\n",
            "| 28|  Male|  Margene Moores|   MVC| 52771|   32|Toshiko Hillyard_...|\n",
            "| 28|  Male|     Neda Briski|   OOP| 61973|   69|Alberta Freund_El...|\n",
            "| 28|Female|    Claude Panos| Cloud| 72409|   85|Sheryll Towler_Al...|\n",
            "| 28|  Male|  Celeste Lollis|   MVC| 81492|   64|Nicole Harwood_Cl...|\n",
            "| 29|  Male|  Cordie Harnois|   OOP| 92882|   51|Judie Chipps_Clem...|\n",
            "| 29|Female|       Kena Wild|   DSA|102285|   35|Dustin Feagins_Ma...|\n",
            "| 29|  Male| Ernest Rossbach|    DB|111449|   53|Maybell Duguay_Ab...|\n",
            "| 28|Female|  Latia Vanhoose|    DB|122502|   27|Latia Vanhoose_Mi...|\n",
            "| 29|Female|  Latia Vanhoose|   MVC|132110|   55|Eda Neathery_Nico...|\n",
            "| 29|  Male|     Neda Briski|    PF|141770|   42|Margene Moores_Mi...|\n",
            "| 29|Female|  Latia Vanhoose|    DB|152159|   27|Claude Panos_Sant...|\n",
            "| 29|  Male|  Loris Crossett|   MVC|161771|   36|Mitzi Seldon_Jenn...|\n",
            "| 29|  Male|  Annika Hoffman|   OOP|171660|   22|Taryn Brownlee_Mi...|\n",
            "| 29|  Male|   Santa Kerfien|    PF|182129|   56|Judie Chipps_Tary...|\n",
            "| 28|Female|Mickey Cortright|    DB|192537|   62|Ernest Rossbach_M...|\n",
            "+---+------+----------------+------+------+-----+--------------------+\n",
            "only showing top 20 rows\n",
            "\n"
          ]
        }
      ]
    },
    {
      "cell_type": "markdown",
      "source": [
        "# Filter rows as SQL query"
      ],
      "metadata": {
        "id": "uN2yPrcUjJKB"
      }
    },
    {
      "cell_type": "code",
      "source": [
        "df.filter(df.course=='DB').show()"
      ],
      "metadata": {
        "colab": {
          "base_uri": "https://localhost:8080/"
        },
        "id": "mFh3n5bzjD0l",
        "outputId": "f9414992-39a9-4f8b-c929-acabcb19ac35"
      },
      "execution_count": 46,
      "outputs": [
        {
          "output_type": "stream",
          "name": "stdout",
          "text": [
            "+---+------+-----------------+------+-------+-----+--------------------+\n",
            "|age|gender|             name|course|   roll|marks|               email|\n",
            "+---+------+-----------------+------+-------+-----+--------------------+\n",
            "| 28|Female|  Hubert Oliveras|    DB|   2984|   59|Annika Hoffman_Na...|\n",
            "| 29|Female|     Elenore Choy|    DB|  32877|   29|Billi Clore_Mitzi...|\n",
            "| 29|  Male|  Ernest Rossbach|    DB| 111449|   53|Maybell Duguay_Ab...|\n",
            "| 28|Female|   Latia Vanhoose|    DB| 122502|   27|Latia Vanhoose_Mi...|\n",
            "| 29|Female|   Latia Vanhoose|    DB| 152159|   27|Claude Panos_Sant...|\n",
            "| 28|Female| Mickey Cortright|    DB| 192537|   62|Ernest Rossbach_M...|\n",
            "| 28|Female|      Anna Santos|    DB| 311589|   79|Celeste Lollis_Mi...|\n",
            "| 28|  Male|    Kizzy Brenner|    DB| 381712|   36|Paris Hutton_Kena...|\n",
            "| 28|  Male| Toshiko Hillyard|    DB| 392218|   47|Leontine Phillips...|\n",
            "| 29|  Male|     Paris Hutton|    DB| 481229|   57|Clementina Menke_...|\n",
            "| 28|Female| Mickey Cortright|    DB| 551389|   43|Tijuana Kropf_Jen...|\n",
            "| 28|Female|Leontine Phillips|    DB| 602404|   48|Neda Briski_Cheri...|\n",
            "| 28|Female|  Hubert Oliveras|    DB| 771081|   79|Kizzy Brenner_Dus...|\n",
            "| 29|Female|     Elenore Choy|    DB| 811824|   55|Maybell Duguay_Me...|\n",
            "| 29|  Male| Clementina Menke|    DB| 882200|   76|Michelle Ruggiero...|\n",
            "| 29|Female|  Sebrina Maresca|    DB| 922210|   54|Toshiko Hillyard_...|\n",
            "| 29|  Male|     Naoma Fritts|    DB| 931295|   79|Hubert Oliveras_S...|\n",
            "| 28|  Male|   Annika Hoffman|    DB|1031544|   44|Dustin Feagins_So...|\n",
            "| 28|  Male|   Nicole Harwood|    DB|1211495|   28|Melani Engberg_Jc...|\n",
            "| 29|Female|     Claude Panos|    DB|1222887|   75|Hubert Oliveras_S...|\n",
            "+---+------+-----------------+------+-------+-----+--------------------+\n",
            "only showing top 20 rows\n",
            "\n"
          ]
        }
      ]
    },
    {
      "cell_type": "code",
      "source": [
        "df.filter(df.marks>50).show()"
      ],
      "metadata": {
        "colab": {
          "base_uri": "https://localhost:8080/"
        },
        "id": "XxsdGlv9jURr",
        "outputId": "67d1d949-a986-4cf6-b2ae-45aae802602b"
      },
      "execution_count": 47,
      "outputs": [
        {
          "output_type": "stream",
          "name": "stdout",
          "text": [
            "+---+------+----------------+------+------+-----+--------------------+\n",
            "|age|gender|            name|course|  roll|marks|               email|\n",
            "+---+------+----------------+------+------+-----+--------------------+\n",
            "| 28|Female| Hubert Oliveras|    DB|  2984|   59|Annika Hoffman_Na...|\n",
            "| 29|Female|Toshiko Hillyard| Cloud| 12899|   62|Margene Moores_Ma...|\n",
            "| 28|  Male|     Neda Briski|   OOP| 61973|   69|Alberta Freund_El...|\n",
            "| 28|Female|    Claude Panos| Cloud| 72409|   85|Sheryll Towler_Al...|\n",
            "| 28|  Male|  Celeste Lollis|   MVC| 81492|   64|Nicole Harwood_Cl...|\n",
            "| 29|  Male|  Cordie Harnois|   OOP| 92882|   51|Judie Chipps_Clem...|\n",
            "| 29|  Male| Ernest Rossbach|    DB|111449|   53|Maybell Duguay_Ab...|\n",
            "| 29|Female|  Latia Vanhoose|   MVC|132110|   55|Eda Neathery_Nico...|\n",
            "| 29|  Male|   Santa Kerfien|    PF|182129|   56|Judie Chipps_Tary...|\n",
            "| 28|Female|Mickey Cortright|    DB|192537|   62|Ernest Rossbach_M...|\n",
            "| 29|Female|  Loris Crossett|    PF|201487|   96|Elenore Choy_Lati...|\n",
            "| 28|Female|       Kena Wild| Cloud|221750|   60|Mitzi Seldon_Jenn...|\n",
            "| 28|Female|    Jc Andrepont|   DSA|232060|   58|Billi Clore_Abram...|\n",
            "| 29|Female|     Anna Santos| Cloud|242254|   68|Jc Andrepont_Hube...|\n",
            "| 28|Female|  Alberta Freund|   OOP|251805|   83|Annika Hoffman_Sh...|\n",
            "| 29|Female|    Paris Hutton|   DSA|271472|   99|Sheryll Towler_Al...|\n",
            "| 28|Female|  Dustin Feagins|   DSA|291984|   82|Abram Nagao_Kena ...|\n",
            "| 29|Female|    Claude Panos| Cloud|302130|   59|Sheryll Towler_Le...|\n",
            "| 28|Female|     Anna Santos|    DB|311589|   79|Celeste Lollis_Mi...|\n",
            "| 28|Female|  Loris Crossett|    PF|332739|   62|Michelle Ruggiero...|\n",
            "+---+------+----------------+------+------+-----+--------------------+\n",
            "only showing top 20 rows\n",
            "\n"
          ]
        }
      ]
    },
    {
      "cell_type": "code",
      "source": [
        "# select * from student where course in ['DB', 'Cloud','OOP'] is in method\n",
        "course_value= ['DB', 'Cloud','OOP']\n",
        "df.filter(df.course.isin(course_value)).show()"
      ],
      "metadata": {
        "colab": {
          "base_uri": "https://localhost:8080/"
        },
        "id": "ABQCdi8EjiOG",
        "outputId": "239effe0-949e-48c7-b55e-36af28b9f20f"
      },
      "execution_count": 48,
      "outputs": [
        {
          "output_type": "stream",
          "name": "stdout",
          "text": [
            "+---+------+----------------+------+------+-----+--------------------+\n",
            "|age|gender|            name|course|  roll|marks|               email|\n",
            "+---+------+----------------+------+------+-----+--------------------+\n",
            "| 28|Female| Hubert Oliveras|    DB|  2984|   59|Annika Hoffman_Na...|\n",
            "| 29|Female|Toshiko Hillyard| Cloud| 12899|   62|Margene Moores_Ma...|\n",
            "| 29|Female|    Elenore Choy|    DB| 32877|   29|Billi Clore_Mitzi...|\n",
            "| 28|  Male|     Neda Briski|   OOP| 61973|   69|Alberta Freund_El...|\n",
            "| 28|Female|    Claude Panos| Cloud| 72409|   85|Sheryll Towler_Al...|\n",
            "| 29|  Male|  Cordie Harnois|   OOP| 92882|   51|Judie Chipps_Clem...|\n",
            "| 29|  Male| Ernest Rossbach|    DB|111449|   53|Maybell Duguay_Ab...|\n",
            "| 28|Female|  Latia Vanhoose|    DB|122502|   27|Latia Vanhoose_Mi...|\n",
            "| 29|Female|  Latia Vanhoose|    DB|152159|   27|Claude Panos_Sant...|\n",
            "| 29|  Male|  Annika Hoffman|   OOP|171660|   22|Taryn Brownlee_Mi...|\n",
            "| 28|Female|Mickey Cortright|    DB|192537|   62|Ernest Rossbach_M...|\n",
            "| 28|Female|       Kena Wild| Cloud|221750|   60|Mitzi Seldon_Jenn...|\n",
            "| 29|Female|     Anna Santos| Cloud|242254|   68|Jc Andrepont_Hube...|\n",
            "| 28|Female|  Alberta Freund|   OOP|251805|   83|Annika Hoffman_Sh...|\n",
            "| 28|Female|  Maybell Duguay| Cloud|261439|   20|Nicole Harwood_Ju...|\n",
            "| 29|Female|    Cheri Kenney| Cloud|281408|   43|Annika Hoffman_Me...|\n",
            "| 29|Female|    Claude Panos| Cloud|302130|   59|Sheryll Towler_Le...|\n",
            "| 28|Female|     Anna Santos|    DB|311589|   79|Celeste Lollis_Mi...|\n",
            "| 28|  Male| Hubert Oliveras|   OOP|351719|   63|Lawanda Wohlwend_...|\n",
            "| 28|  Male|   Kizzy Brenner|    DB|381712|   36|Paris Hutton_Kena...|\n",
            "+---+------+----------------+------+------+-----+--------------------+\n",
            "only showing top 20 rows\n",
            "\n"
          ]
        }
      ]
    },
    {
      "cell_type": "code",
      "source": [
        "# select * from student where course in ['DB', 'Cloud','OOP']\n",
        "# course_value= ['DB', 'Cloud','OOP']\n",
        "df.filter(df.course.isin(['DB', 'Cloud'])).show()"
      ],
      "metadata": {
        "colab": {
          "base_uri": "https://localhost:8080/"
        },
        "id": "b0Mbdql2j8qF",
        "outputId": "59d8f151-f288-4941-a7b5-9104f5423eda"
      },
      "execution_count": 51,
      "outputs": [
        {
          "output_type": "stream",
          "name": "stdout",
          "text": [
            "+---+------+----------------+------+------+-----+--------------------+\n",
            "|age|gender|            name|course|  roll|marks|               email|\n",
            "+---+------+----------------+------+------+-----+--------------------+\n",
            "| 28|Female| Hubert Oliveras|    DB|  2984|   59|Annika Hoffman_Na...|\n",
            "| 29|Female|Toshiko Hillyard| Cloud| 12899|   62|Margene Moores_Ma...|\n",
            "| 29|Female|    Elenore Choy|    DB| 32877|   29|Billi Clore_Mitzi...|\n",
            "| 28|Female|    Claude Panos| Cloud| 72409|   85|Sheryll Towler_Al...|\n",
            "| 29|  Male| Ernest Rossbach|    DB|111449|   53|Maybell Duguay_Ab...|\n",
            "| 28|Female|  Latia Vanhoose|    DB|122502|   27|Latia Vanhoose_Mi...|\n",
            "| 29|Female|  Latia Vanhoose|    DB|152159|   27|Claude Panos_Sant...|\n",
            "| 28|Female|Mickey Cortright|    DB|192537|   62|Ernest Rossbach_M...|\n",
            "| 28|Female|       Kena Wild| Cloud|221750|   60|Mitzi Seldon_Jenn...|\n",
            "| 29|Female|     Anna Santos| Cloud|242254|   68|Jc Andrepont_Hube...|\n",
            "| 28|Female|  Maybell Duguay| Cloud|261439|   20|Nicole Harwood_Ju...|\n",
            "| 29|Female|    Cheri Kenney| Cloud|281408|   43|Annika Hoffman_Me...|\n",
            "| 29|Female|    Claude Panos| Cloud|302130|   59|Sheryll Towler_Le...|\n",
            "| 28|Female|     Anna Santos|    DB|311589|   79|Celeste Lollis_Mi...|\n",
            "| 28|  Male|   Kizzy Brenner|    DB|381712|   36|Paris Hutton_Kena...|\n",
            "| 28|  Male|Toshiko Hillyard|    DB|392218|   47|Leontine Phillips...|\n",
            "| 28|Female|   Kizzy Brenner| Cloud|402409|   27|Ernest Rossbach_G...|\n",
            "| 29|Female|  Somer Stoecker| Cloud|442028|   34|Taryn Brownlee_Ta...|\n",
            "| 29|  Male|    Paris Hutton|    DB|481229|   57|Clementina Menke_...|\n",
            "| 29|  Male|     Billi Clore| Cloud|512047|   76|Taryn Brownlee_Ju...|\n",
            "+---+------+----------------+------+------+-----+--------------------+\n",
            "only showing top 20 rows\n",
            "\n"
          ]
        }
      ]
    },
    {
      "cell_type": "markdown",
      "source": [
        "# Search course with particular String Pattern"
      ],
      "metadata": {
        "id": "en0mcVHUkTVM"
      }
    },
    {
      "cell_type": "markdown",
      "source": [
        "# In SQL like operators\n",
        "## like 'A%'\n",
        "## like '%D%'\n",
        "## like '_S%'\n",
        "## like '__P%'\n",
        "## like '_E_' ---> 'PEn'\n",
        "## like '_[ABCDE]%'\n",
        "## like '_[^ABCDE]%'\n",
        "## like '_[A-K]%'  \n",
        "## like '_[^A-K]%'"
      ],
      "metadata": {
        "id": "PMaw8pKsknxe"
      }
    },
    {
      "cell_type": "code",
      "source": [
        "# startswith\n",
        "df.filter(df.name.startswith('A')).show()"
      ],
      "metadata": {
        "colab": {
          "base_uri": "https://localhost:8080/"
        },
        "id": "K_efV2rXkPde",
        "outputId": "3fa9c844-28bb-4c65-be20-49611be1795b"
      },
      "execution_count": 53,
      "outputs": [
        {
          "output_type": "stream",
          "name": "stdout",
          "text": [
            "+---+------+--------------+------+-------+-----+--------------------+\n",
            "|age|gender|          name|course|   roll|marks|               email|\n",
            "+---+------+--------------+------+-------+-----+--------------------+\n",
            "| 29|  Male|Annika Hoffman|   OOP| 171660|   22|Taryn Brownlee_Mi...|\n",
            "| 29|Female|   Anna Santos| Cloud| 242254|   68|Jc Andrepont_Hube...|\n",
            "| 28|Female|Alberta Freund|   OOP| 251805|   83|Annika Hoffman_Sh...|\n",
            "| 28|Female|   Anna Santos|    DB| 311589|   79|Celeste Lollis_Mi...|\n",
            "| 29|Female|   Anna Santos|   DSA| 411479|   42|Kena Wild_Mitzi S...|\n",
            "| 29|  Male|Annika Hoffman|   OOP| 472550|   35|Mitzi Seldon_Abra...|\n",
            "| 28|  Male|Annika Hoffman| Cloud| 722193|   55|Taryn Brownlee_El...|\n",
            "| 28|  Male|Alberta Freund|    PF| 781061|   75|Leontine Phillips...|\n",
            "| 28|  Male|   Anna Santos|   OOP| 822396|   47|Leontine Phillips...|\n",
            "| 29|  Male|   Abram Nagao|   MVC| 962235|   32|Jenna Montague_Go...|\n",
            "| 28|  Male|Annika Hoffman|    DB|1031544|   44|Dustin Feagins_So...|\n",
            "| 29|  Male|   Abram Nagao|    PF|1112161|   42|Nicole Harwood_Ni...|\n",
            "| 29|Female|   Abram Nagao|   DSA|1181007|   57|Anna Santos_Anna ...|\n",
            "| 28|  Male|   Abram Nagao|   DSA|1382959|   66|Michelle Ruggiero...|\n",
            "| 29|Female|Annika Hoffman|   OOP|1551846|   50|Paris Hutton_Mela...|\n",
            "| 28|  Male|   Anna Santos|   OOP|1621905|   24|Elenore Choy_Sant...|\n",
            "| 29|  Male|Alberta Freund|    DB|1671638|   98|Clementina Menke_...|\n",
            "| 29|Female|   Anna Santos|   DSA|1702439|   64|Naoma Fritts_Tosh...|\n",
            "| 28|Female|   Anna Santos|   DSA|1741879|   89|Nicole Harwood_La...|\n",
            "| 28|  Male|Alberta Freund| Cloud|1802934|   24|Maybell Duguay_Pa...|\n",
            "+---+------+--------------+------+-------+-----+--------------------+\n",
            "only showing top 20 rows\n",
            "\n"
          ]
        }
      ]
    },
    {
      "cell_type": "code",
      "source": [
        "# endswith\n",
        "df.filter(df.name.endswith('d')).show()"
      ],
      "metadata": {
        "colab": {
          "base_uri": "https://localhost:8080/"
        },
        "id": "pS01qH1hkimX",
        "outputId": "0b4dfeab-4cb6-4405-af60-9685bf1c99c7"
      },
      "execution_count": 56,
      "outputs": [
        {
          "output_type": "stream",
          "name": "stdout",
          "text": [
            "+---+------+----------------+------+-------+-----+--------------------+\n",
            "|age|gender|            name|course|   roll|marks|               email|\n",
            "+---+------+----------------+------+-------+-----+--------------------+\n",
            "| 29|Female|Toshiko Hillyard| Cloud|  12899|   62|Margene Moores_Ma...|\n",
            "| 29|Female|       Kena Wild|   DSA| 102285|   35|Dustin Feagins_Ma...|\n",
            "| 28|Female|       Kena Wild| Cloud| 221750|   60|Mitzi Seldon_Jenn...|\n",
            "| 28|Female|  Alberta Freund|   OOP| 251805|   83|Annika Hoffman_Sh...|\n",
            "| 28|  Male|Toshiko Hillyard|    DB| 392218|   47|Leontine Phillips...|\n",
            "| 29|  Male|Toshiko Hillyard|   OOP| 521221|   77|Hubert Oliveras_L...|\n",
            "| 28|  Male|  Alberta Freund|    PF| 781061|   75|Leontine Phillips...|\n",
            "| 28|Female|Lawanda Wohlwend|   DSA| 951686|   60|Loris Crossett_Ni...|\n",
            "| 28|Female|  Nicole Harwood|   MVC|1061068|   82|Santa Kerfien_Hub...|\n",
            "| 29|  Male|  Nicole Harwood| Cloud|1152571|   62|Latia Vanhoose_Ma...|\n",
            "| 28|  Male|  Nicole Harwood|    DB|1211495|   28|Melani Engberg_Jc...|\n",
            "| 28|  Male|  Nicole Harwood|   OOP|1242426|   71|Billi Clore_Loris...|\n",
            "| 28|Female|Toshiko Hillyard|   DSA|1282835|   79|Somer Stoecker_To...|\n",
            "| 28|  Male|Lawanda Wohlwend|    PF|1372552|   88|Hubert Oliveras_T...|\n",
            "| 28|Female|  Nicole Harwood|    PF|1441367|   95|Jc Andrepont_Anna...|\n",
            "| 29|Female|Lawanda Wohlwend|   MVC|1482889|   65|Gonzalo Ferebee_D...|\n",
            "| 29|  Male|  Alberta Freund|    DB|1671638|   98|Clementina Menke_...|\n",
            "| 29|Female|Lawanda Wohlwend|   MVC|1751381|   75|Jalisa Swenson_Ni...|\n",
            "| 29|  Male|  Nicole Harwood|   MVC|1761454|   34|Taryn Brownlee_Bi...|\n",
            "| 29|  Male|Toshiko Hillyard|   DSA|1791364|   50|Jc Andrepont_Nico...|\n",
            "+---+------+----------------+------+-------+-----+--------------------+\n",
            "only showing top 20 rows\n",
            "\n"
          ]
        }
      ]
    },
    {
      "cell_type": "code",
      "source": [
        "# contains\n",
        "df.filter(df.name.contains('Har')).show()"
      ],
      "metadata": {
        "colab": {
          "base_uri": "https://localhost:8080/"
        },
        "id": "JMTlG3HymTAf",
        "outputId": "611fd77f-a31d-45e6-850d-ad2fe0a2803b"
      },
      "execution_count": 57,
      "outputs": [
        {
          "output_type": "stream",
          "name": "stdout",
          "text": [
            "+---+------+--------------+------+-------+-----+--------------------+\n",
            "|age|gender|          name|course|   roll|marks|               email|\n",
            "+---+------+--------------+------+-------+-----+--------------------+\n",
            "| 29|  Male|Cordie Harnois|   OOP|  92882|   51|Judie Chipps_Clem...|\n",
            "| 28|Female|Nicole Harwood|   MVC|1061068|   82|Santa Kerfien_Hub...|\n",
            "| 29|  Male|Nicole Harwood| Cloud|1152571|   62|Latia Vanhoose_Ma...|\n",
            "| 28|  Male|Nicole Harwood|    DB|1211495|   28|Melani Engberg_Jc...|\n",
            "| 28|Female|Cordie Harnois|   OOP|1231943|   68|Mickey Cortright_...|\n",
            "| 28|  Male|Nicole Harwood|   OOP|1242426|   71|Billi Clore_Loris...|\n",
            "| 28|Female|Nicole Harwood|    PF|1441367|   95|Jc Andrepont_Anna...|\n",
            "| 28|Female|Cordie Harnois|   MVC|1501333|   94|Gonzalo Ferebee_T...|\n",
            "| 29|  Male|Nicole Harwood|   MVC|1761454|   34|Taryn Brownlee_Bi...|\n",
            "| 29|Female|Nicole Harwood|   MVC|2481418|   91|Kizzy Brenner_Pri...|\n",
            "| 29|  Male|Nicole Harwood| Cloud|2581369|   26|Paris Hutton_Albe...|\n",
            "| 29|Female|Nicole Harwood|   DSA|2751838|   47|Donna Yerby_Lawan...|\n",
            "| 29|  Male|Nicole Harwood|   OOP|3132620|   88|Jeannetta Golden_...|\n",
            "| 29|  Male|Cordie Harnois|    PF|3201624|   41|Maybell Duguay_So...|\n",
            "| 29|Female|Cordie Harnois|   MVC|3391820|   55|Paris Hutton_Albe...|\n",
            "| 28|  Male|Cordie Harnois|    PF|3991186|   69|Loris Crossett_So...|\n",
            "| 29|Female|Nicole Harwood|   DSA|4562217|   40|Anna Santos_Cheri...|\n",
            "| 29|  Male|Cordie Harnois|    PF|5691278|   24|Paris Hutton_Hube...|\n",
            "| 28|Female|Nicole Harwood|    DB|5862606|   77|Clementina Menke_...|\n",
            "| 28|Female|Nicole Harwood|    DB|6522046|   79|Naoma Fritts_Marg...|\n",
            "+---+------+--------------+------+-------+-----+--------------------+\n",
            "only showing top 20 rows\n",
            "\n"
          ]
        }
      ]
    },
    {
      "cell_type": "code",
      "source": [
        "df.filter(df.name.like('%s%e%')).show()"
      ],
      "metadata": {
        "colab": {
          "base_uri": "https://localhost:8080/"
        },
        "id": "808pKO4Hmwlz",
        "outputId": "b4af2c1c-8eca-491d-ade0-922c9f576e9f"
      },
      "execution_count": 58,
      "outputs": [
        {
          "output_type": "stream",
          "name": "stdout",
          "text": [
            "+---+------+------------------+------+-------+-----+--------------------+\n",
            "|age|gender|              name|course|   roll|marks|               email|\n",
            "+---+------+------------------+------+-------+-----+--------------------+\n",
            "| 28|  Male|    Celeste Lollis|    PF|  21267|   45|Jeannetta Golden_...|\n",
            "| 28|  Male|    Celeste Lollis|   MVC|  81492|   64|Nicole Harwood_Cl...|\n",
            "| 28|Female|    Latia Vanhoose|    DB| 122502|   27|Latia Vanhoose_Mi...|\n",
            "| 29|Female|    Latia Vanhoose|   MVC| 132110|   55|Eda Neathery_Nico...|\n",
            "| 29|Female|    Latia Vanhoose|    DB| 152159|   27|Claude Panos_Sant...|\n",
            "| 29|  Male|    Loris Crossett|   MVC| 161771|   36|Mitzi Seldon_Jenn...|\n",
            "| 29|Female|    Loris Crossett|    PF| 201487|   96|Elenore Choy_Lati...|\n",
            "| 28|Female|    Dustin Feagins|   DSA| 291984|   82|Abram Nagao_Kena ...|\n",
            "| 28|Female|    Loris Crossett|    PF| 332739|   62|Michelle Ruggiero...|\n",
            "| 29|  Male|    Jalisa Swenson|    PF| 372873|   45|Ernest Rossbach_T...|\n",
            "| 28|Female|    Jalisa Swenson|   OOP| 431352|   25|Gonzalo Ferebee_J...|\n",
            "| 28|  Male|    Dustin Feagins|    PF| 461839|   51|Neda Briski_Eleno...|\n",
            "| 29|  Male|    Celeste Lollis|   DSA| 562065|   85|Jc Andrepont_Mela...|\n",
            "| 28|  Male|Priscila Tavernier|    PF| 642594|   27|Marylee Capasso_C...|\n",
            "| 28|Female|    Celeste Lollis|   DSA| 731879|   76|Hubert Oliveras_G...|\n",
            "| 29|  Male|    Loris Crossett|    PF| 911593|   46|Gonzalo Ferebee_M...|\n",
            "| 29|Female|    Dustin Feagins|   OOP|1161607|   37|Eda Neathery_Mary...|\n",
            "| 28|  Male|    Jalisa Swenson|    PF|1192555|   77|Marylee Capasso_C...|\n",
            "| 29|  Male|    Jalisa Swenson| Cloud|1261533|   70|Dustin Feagins_Ni...|\n",
            "| 29|  Male|    Jalisa Swenson|    PF|1332072|   88|Billi Clore_Kizzy...|\n",
            "+---+------+------------------+------+-------+-----+--------------------+\n",
            "only showing top 20 rows\n",
            "\n"
          ]
        }
      ]
    },
    {
      "cell_type": "code",
      "source": [],
      "metadata": {
        "id": "UzYJAIdCm2_Z"
      },
      "execution_count": null,
      "outputs": []
    }
  ]
}