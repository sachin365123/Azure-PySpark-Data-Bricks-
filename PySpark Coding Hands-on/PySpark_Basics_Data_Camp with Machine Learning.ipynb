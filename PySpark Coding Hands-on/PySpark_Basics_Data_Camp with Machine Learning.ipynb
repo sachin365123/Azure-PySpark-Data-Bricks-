{
  "nbformat": 4,
  "nbformat_minor": 0,
  "metadata": {
    "colab": {
      "provenance": []
    },
    "kernelspec": {
      "name": "python3",
      "display_name": "Python 3"
    },
    "language_info": {
      "name": "python"
    }
  },
  "cells": [
    {
      "cell_type": "code",
      "source": [
        "\n",
        "# Import basic libraries using PySpark\n",
        "from pyspark import SparkConf, SparkContext"
      ],
      "metadata": {
        "id": "DqmBAdDlaic_"
      },
      "execution_count": null,
      "outputs": []
    },
    {
      "cell_type": "code",
      "source": [
        "\n",
        "# connect and establish dialouge\n",
        "conf= SparkConf().setAppName(\"Siva First App\")\n",
        "sc=SparkContext.getOrCreate(conf=conf)"
      ],
      "metadata": {
        "id": "7xiznz5RauEm"
      },
      "execution_count": null,
      "outputs": []
    },
    {
      "cell_type": "code",
      "execution_count": null,
      "metadata": {
        "colab": {
          "base_uri": "https://localhost:8080/",
          "height": 35
        },
        "id": "p-OwIrilVv8i",
        "outputId": "5bf1a259-013f-481e-c065-b5a0f1ab91a4"
      },
      "outputs": [
        {
          "output_type": "execute_result",
          "data": {
            "text/plain": [
              "'3.5.3'"
            ],
            "application/vnd.google.colaboratory.intrinsic+json": {
              "type": "string"
            }
          },
          "metadata": {},
          "execution_count": 5
        }
      ],
      "source": [
        "sc.version"
      ]
    },
    {
      "cell_type": "code",
      "source": [
        "sc.pythonVer"
      ],
      "metadata": {
        "colab": {
          "base_uri": "https://localhost:8080/",
          "height": 35
        },
        "id": "P1bLwNU2axQ6",
        "outputId": "205c74f1-eb4f-4fac-c363-807301340f64"
      },
      "execution_count": null,
      "outputs": [
        {
          "output_type": "execute_result",
          "data": {
            "text/plain": [
              "'3.10'"
            ],
            "application/vnd.google.colaboratory.intrinsic+json": {
              "type": "string"
            }
          },
          "metadata": {},
          "execution_count": 6
        }
      ]
    },
    {
      "cell_type": "code",
      "source": [
        "sc.master"
      ],
      "metadata": {
        "colab": {
          "base_uri": "https://localhost:8080/",
          "height": 35
        },
        "id": "08YA14RRabfM",
        "outputId": "3309f5ed-2903-405d-98a3-1bce1adea434"
      },
      "execution_count": null,
      "outputs": [
        {
          "output_type": "execute_result",
          "data": {
            "text/plain": [
              "'local[*]'"
            ],
            "application/vnd.google.colaboratory.intrinsic+json": {
              "type": "string"
            }
          },
          "metadata": {},
          "execution_count": 7
        }
      ]
    },
    {
      "cell_type": "code",
      "source": [
        "# Print the version of SparkContext\n",
        "print(\"The version of Spark Context in the PySpark shell is\", sc.version)\n",
        "\n",
        "# Print the Python version of SparkContext\n",
        "print(\"The Python version of Spark Context in the PySpark shell is\", sc.pythonVer)\n",
        "\n",
        "# Print the master of SparkContext\n",
        "print(\"The master of Spark Context in the PySpark shell is\", sc.master)"
      ],
      "metadata": {
        "colab": {
          "base_uri": "https://localhost:8080/"
        },
        "id": "3UhLEeYPbXuu",
        "outputId": "5b070645-8c80-4b7d-b5e6-602dfe2d8597"
      },
      "execution_count": null,
      "outputs": [
        {
          "output_type": "stream",
          "name": "stdout",
          "text": [
            "The version of Spark Context in the PySpark shell is 3.5.3\n",
            "The Python version of Spark Context in the PySpark shell is 3.10\n",
            "The master of Spark Context in the PySpark shell is local[*]\n"
          ]
        }
      ]
    },
    {
      "cell_type": "code",
      "source": [
        "# Create a Python list of numbers from 1 to 100\n",
        "# numb = range(____, ____)\n",
        "\n",
        "# # Load the list into PySpark\n",
        "# spark_data = sc.____(numb)"
      ],
      "metadata": {
        "id": "EFBDizg1beK6"
      },
      "execution_count": null,
      "outputs": []
    },
    {
      "cell_type": "code",
      "source": [
        "# Create a Python list of numbers from 1 to 100\n",
        "numb = range(1,101)\n",
        "\n",
        "# Load the list into PySpark\n",
        "spark_data = sc.parallelize(numb)"
      ],
      "metadata": {
        "id": "wRWQyFeAbgVF"
      },
      "execution_count": null,
      "outputs": []
    },
    {
      "cell_type": "code",
      "source": [
        "file_path='/content/sample_data/WordData.txt'\n",
        "# Load a local file into PySpark shell\n",
        "lines = sc.textFile(file_path)"
      ],
      "metadata": {
        "id": "ZZIwuKz_cXLT"
      },
      "execution_count": null,
      "outputs": []
    },
    {
      "cell_type": "code",
      "source": [
        "items=[1,2,3,4]\n",
        "list(map(lambda x:x+2, items))"
      ],
      "metadata": {
        "colab": {
          "base_uri": "https://localhost:8080/"
        },
        "id": "61L2WIWMdDDD",
        "outputId": "97bd6f38-222d-4830-a5e5-b3fbae1bda85"
      },
      "execution_count": null,
      "outputs": [
        {
          "output_type": "execute_result",
          "data": {
            "text/plain": [
              "[3, 4, 5, 6]"
            ]
          },
          "metadata": {},
          "execution_count": 12
        }
      ]
    },
    {
      "cell_type": "code",
      "source": [
        "list(filter(lambda x: (x%2!=0),items))"
      ],
      "metadata": {
        "colab": {
          "base_uri": "https://localhost:8080/"
        },
        "id": "hG28tLWwdZj8",
        "outputId": "6993d34a-d198-49d4-f423-0cd858277e73"
      },
      "execution_count": null,
      "outputs": [
        {
          "output_type": "execute_result",
          "data": {
            "text/plain": [
              "[1, 3]"
            ]
          },
          "metadata": {},
          "execution_count": 13
        }
      ]
    },
    {
      "cell_type": "code",
      "source": [
        "my_list=[1,2,3,4]"
      ],
      "metadata": {
        "id": "EMdGne4ud4ar"
      },
      "execution_count": null,
      "outputs": []
    },
    {
      "cell_type": "code",
      "source": [
        "# Print my_list in the console\n",
        "print(\"Input list is\", my_list)\n",
        "\n",
        "# Square all numbers in my_list\n",
        "squared_list_lambda = list(map(lambda x: x**2, my_list))\n",
        "\n",
        "# Print the result of the map function\n",
        "print(\"The squared numbers are\",squared_list_lambda )"
      ],
      "metadata": {
        "colab": {
          "base_uri": "https://localhost:8080/"
        },
        "id": "9EQ9lqpMd1ty",
        "outputId": "779ab05c-5217-497f-82ab-ab6cd8a7de97"
      },
      "execution_count": null,
      "outputs": [
        {
          "output_type": "stream",
          "name": "stdout",
          "text": [
            "Input list is [1, 2, 3, 4]\n",
            "The squared numbers are [1, 4, 9, 16]\n"
          ]
        }
      ]
    },
    {
      "cell_type": "code",
      "source": [
        "my_list2=[10,21,30,45]"
      ],
      "metadata": {
        "id": "BC1YjMoCeT-a"
      },
      "execution_count": null,
      "outputs": []
    },
    {
      "cell_type": "code",
      "source": [
        "# Print my_list2 in the console\n",
        "print(\"Input list is:\", my_list2)\n",
        "\n",
        "# Filter numbers divisible by 10\n",
        "filtered_list = list(filter(lambda x: (x%10 == 0), my_list2))\n",
        "\n",
        "# Print the numbers divisible by 10\n",
        "print(\"Numbers divisible by 10 are:\", filtered_list)"
      ],
      "metadata": {
        "colab": {
          "base_uri": "https://localhost:8080/"
        },
        "id": "VM5xJh0Dd82O",
        "outputId": "4361a902-7359-47a0-b156-a3ea0d53fd0c"
      },
      "execution_count": null,
      "outputs": [
        {
          "output_type": "stream",
          "name": "stdout",
          "text": [
            "Input list is: [10, 21, 30, 45]\n",
            "Numbers divisible by 10 are: [10, 30]\n"
          ]
        }
      ]
    },
    {
      "cell_type": "code",
      "source": [
        "rdd=sc.parallelize([1,2,3,4,5])"
      ],
      "metadata": {
        "id": "X07c1Mrpa731"
      },
      "execution_count": null,
      "outputs": []
    },
    {
      "cell_type": "code",
      "source": [
        "type(rdd)"
      ],
      "metadata": {
        "colab": {
          "base_uri": "https://localhost:8080/",
          "height": 172
        },
        "id": "56VOCOjnbEIr",
        "outputId": "d69a5510-1cb2-4257-803a-9060cca30690"
      },
      "execution_count": null,
      "outputs": [
        {
          "output_type": "execute_result",
          "data": {
            "text/plain": [
              "pyspark.rdd.RDD"
            ],
            "text/html": [
              "<div style=\"max-width:800px; border: 1px solid var(--colab-border-color);\"><style>\n",
              "      pre.function-repr-contents {\n",
              "        overflow-x: auto;\n",
              "        padding: 8px 12px;\n",
              "        max-height: 500px;\n",
              "      }\n",
              "\n",
              "      pre.function-repr-contents.function-repr-contents-collapsed {\n",
              "        cursor: pointer;\n",
              "        max-height: 100px;\n",
              "      }\n",
              "    </style>\n",
              "    <pre style=\"white-space: initial; background:\n",
              "         var(--colab-secondary-surface-color); padding: 8px 12px;\n",
              "         border-bottom: 1px solid var(--colab-border-color);\"><b>pyspark.rdd.RDD</b><br/>def __init__(jrdd: &#x27;JavaObject&#x27;, ctx: &#x27;SparkContext&#x27;, jrdd_deserializer: Serializer=AutoBatchedSerializer(CPickleSerializer()))</pre><pre class=\"function-repr-contents function-repr-contents-collapsed\" style=\"\"><a class=\"filepath\" style=\"display:none\" href=\"#\">/usr/local/lib/python3.10/dist-packages/pyspark/rdd.py</a>A Resilient Distributed Dataset (RDD), the basic abstraction in Spark.\n",
              "Represents an immutable, partitioned collection of elements that can be\n",
              "operated on in parallel.</pre>\n",
              "      <script>\n",
              "      if (google.colab.kernel.accessAllowed && google.colab.files && google.colab.files.view) {\n",
              "        for (const element of document.querySelectorAll('.filepath')) {\n",
              "          element.style.display = 'block'\n",
              "          element.onclick = (event) => {\n",
              "            event.preventDefault();\n",
              "            event.stopPropagation();\n",
              "            google.colab.files.view(element.textContent, 336);\n",
              "          };\n",
              "        }\n",
              "      }\n",
              "      for (const element of document.querySelectorAll('.function-repr-contents')) {\n",
              "        element.onclick = (event) => {\n",
              "          event.preventDefault();\n",
              "          event.stopPropagation();\n",
              "          element.classList.toggle('function-repr-contents-collapsed');\n",
              "        };\n",
              "      }\n",
              "      </script>\n",
              "      </div>"
            ]
          },
          "metadata": {},
          "execution_count": 20
        }
      ]
    },
    {
      "cell_type": "markdown",
      "source": [
        "## Section 2: PPT 2"
      ],
      "metadata": {
        "id": "jkqYTO1_egn3"
      }
    },
    {
      "cell_type": "code",
      "source": [
        "numRDD = sc.parallelize(range(10),minPartitions=6)"
      ],
      "metadata": {
        "id": "DNT78-LdfNqZ"
      },
      "execution_count": null,
      "outputs": []
    },
    {
      "cell_type": "code",
      "source": [
        "# Create an RDD from a list of words\n",
        "RDD = sc.parallelize([\"Spark\", \"is\", \"a\", \"framework\", \"for\", \"Big Data processing\"])\n",
        "\n",
        "# Print out the type of the created object\n",
        "print(\"The type of RDD is\", type(RDD))"
      ],
      "metadata": {
        "colab": {
          "base_uri": "https://localhost:8080/"
        },
        "id": "n2YsOoUSj2UK",
        "outputId": "2c997c8b-f56f-43b7-d7e2-5568121690c8"
      },
      "execution_count": null,
      "outputs": [
        {
          "output_type": "stream",
          "name": "stdout",
          "text": [
            "The type of RDD is <class 'pyspark.rdd.RDD'>\n"
          ]
        }
      ]
    },
    {
      "cell_type": "code",
      "source": [
        "# Print the file_path\n",
        "print(\"The file_path is\", file_path)\n",
        "\n",
        "# Create a fileRDD from file_path\n",
        "fileRDD = sc.textFile(file_path)\n",
        "\n",
        "# Check the type of fileRDD\n",
        "print(\"The file type of fileRDD is\", type(fileRDD))"
      ],
      "metadata": {
        "colab": {
          "base_uri": "https://localhost:8080/"
        },
        "id": "WIx8igN8kN-3",
        "outputId": "ac590e3b-5ddb-4544-9011-fe6a49fd423a"
      },
      "execution_count": null,
      "outputs": [
        {
          "output_type": "stream",
          "name": "stdout",
          "text": [
            "The file_path is /content/sample_data/WordData.txt\n",
            "The file type of fileRDD is <class 'pyspark.rdd.RDD'>\n"
          ]
        }
      ]
    },
    {
      "cell_type": "code",
      "source": [
        "# Check the number of partitions in fileRDD\n",
        "print(\"Number of partitions in fileRDD is\", fileRDD.getNumPartitions())\n",
        "\n",
        "# Create a fileRDD_part from file_path with 5 partitions\n",
        "fileRDD_part = sc.textFile(file_path, minPartitions = 5)\n",
        "\n",
        "# Check the number of partitions in fileRDD_part\n",
        "print(\"Number of partitions in fileRDD_part is\", fileRDD_part.getNumPartitions())"
      ],
      "metadata": {
        "colab": {
          "base_uri": "https://localhost:8080/"
        },
        "id": "j5BqK5uxj56U",
        "outputId": "c5a2798b-d764-4350-a0d8-b36e9cd7d907"
      },
      "execution_count": null,
      "outputs": [
        {
          "output_type": "stream",
          "name": "stdout",
          "text": [
            "Number of partitions in fileRDD is 2\n",
            "Number of partitions in fileRDD_part is 5\n"
          ]
        }
      ]
    },
    {
      "cell_type": "code",
      "source": [
        "numbRDD=sc.parallelize([1,2,3,4,5])"
      ],
      "metadata": {
        "id": "i-z4EvInmMwW"
      },
      "execution_count": null,
      "outputs": []
    },
    {
      "cell_type": "code",
      "source": [
        "# Create map() transformation to cube numbers\n",
        "cubedRDD = numbRDD.map(lambda x: x**3)\n",
        "\n",
        "# Collect the results\n",
        "numbers_all = cubedRDD.collect()\n",
        "\n",
        "# Print the numbers from numbers_all\n",
        "for numb in numbers_all:\n",
        "\tprint(numb)"
      ],
      "metadata": {
        "colab": {
          "base_uri": "https://localhost:8080/"
        },
        "id": "WptAkk-DmHRl",
        "outputId": "b9c2bb55-aec4-44e9-8342-1065235769c4"
      },
      "execution_count": null,
      "outputs": [
        {
          "output_type": "stream",
          "name": "stdout",
          "text": [
            "1\n",
            "8\n",
            "27\n",
            "64\n",
            "125\n"
          ]
        }
      ]
    },
    {
      "cell_type": "code",
      "source": [
        "fileRDD=sc.parallelize(['Spark','Sachin','Spark','PSpark'])"
      ],
      "metadata": {
        "id": "T5NgWsnjqmfB"
      },
      "execution_count": null,
      "outputs": []
    },
    {
      "cell_type": "code",
      "source": [
        "file_path='/content/sample_data/WordData.txt'\n"
      ],
      "metadata": {
        "id": "vDE_yjbRYY_y"
      },
      "execution_count": null,
      "outputs": []
    },
    {
      "cell_type": "code",
      "source": [
        "fileRDD=sc.textFile('/content/sample_data/WordData.txt')"
      ],
      "metadata": {
        "id": "fiiTd_VCYrBA"
      },
      "execution_count": null,
      "outputs": []
    },
    {
      "cell_type": "code",
      "source": [
        "fileRDD.collect()"
      ],
      "metadata": {
        "colab": {
          "base_uri": "https://localhost:8080/"
        },
        "id": "Cwtg3NFUZQp2",
        "outputId": "8d2dc0dc-b1c4-44d7-c92f-0f30896d7d52"
      },
      "execution_count": null,
      "outputs": [
        {
          "output_type": "execute_result",
          "data": {
            "text/plain": [
              "['Apple',\n",
              " 'Mic',\n",
              " 'Mic',\n",
              " 'Apple',\n",
              " 'Laptop',\n",
              " 'Apple',\n",
              " 'Mic',\n",
              " 'Mic',\n",
              " 'Apple',\n",
              " 'Laptop',\n",
              " 'Chair',\n",
              " 'Chair',\n",
              " 'Chair',\n",
              " 'Bag',\n",
              " 'Mobile',\n",
              " 'Book',\n",
              " 'Chair',\n",
              " 'Chair',\n",
              " 'Chair',\n",
              " 'Bag',\n",
              " 'Mobile',\n",
              " 'Book',\n",
              " 'Apple',\n",
              " 'Mic',\n",
              " 'Apple',\n",
              " 'Mic',\n",
              " 'Mic',\n",
              " 'Apple',\n",
              " 'Laptop',\n",
              " 'Chair',\n",
              " 'Chair',\n",
              " 'Chair',\n",
              " 'Bag',\n",
              " 'Mobile',\n",
              " 'Book',\n",
              " 'Mic',\n",
              " 'Apple',\n",
              " 'Laptop',\n",
              " 'Chair',\n",
              " 'Chair',\n",
              " 'Apple',\n",
              " 'Mic',\n",
              " 'Mic',\n",
              " 'Apple',\n",
              " 'Laptop',\n",
              " 'Chair',\n",
              " 'Chair',\n",
              " 'Chair',\n",
              " 'Bag',\n",
              " 'Mobile',\n",
              " 'Book',\n",
              " 'Chair',\n",
              " 'Bag',\n",
              " 'Mobile',\n",
              " 'Book']"
            ]
          },
          "metadata": {},
          "execution_count": 6
        }
      ]
    },
    {
      "cell_type": "code",
      "source": [
        "# Filter the fileRDD to select lines with Spark keyword\n",
        "fileRDD_filter = fileRDD.filter(lambda line: 'Book' in line)\n",
        "\n",
        "# How many lines are there in fileRDD?\n",
        "print(\"The total number of lines with the keyword Spark is\", fileRDD_filter.count())\n",
        "\n",
        "# Print the first Two lines of fileRDD\n",
        "for line in fileRDD_filter.take(2):\n",
        "  print(line)"
      ],
      "metadata": {
        "colab": {
          "base_uri": "https://localhost:8080/"
        },
        "id": "rRDYBgU5phoM",
        "outputId": "c8a26dd0-43ca-4131-f7b2-2c5dd3059f80"
      },
      "execution_count": null,
      "outputs": [
        {
          "output_type": "stream",
          "name": "stdout",
          "text": [
            "The total number of lines with the keyword Spark is 5\n",
            "Book\n",
            "Book\n"
          ]
        }
      ]
    },
    {
      "cell_type": "code",
      "source": [
        "# Create PairRDD Rdd with key value pairs\n",
        "Rdd = sc.parallelize([(1,2), (3,4), (3,6), (4,5)])\n",
        "\n",
        "# Apply reduceByKey() operation on Rdd\n",
        "Rdd_Reduced = Rdd.reduceByKey(lambda x, y: x + y)\n",
        "\n",
        "# Iterate over the result and print the output\n",
        "for num in Rdd_Reduced.collect():\n",
        "  print(\"Key {} has {} Counts\".format(num[0], num[1]))"
      ],
      "metadata": {
        "colab": {
          "base_uri": "https://localhost:8080/"
        },
        "id": "KeDfo8vAZdqh",
        "outputId": "9849eb35-8b4d-4852-bb20-d681916fecdd"
      },
      "execution_count": null,
      "outputs": [
        {
          "output_type": "stream",
          "name": "stdout",
          "text": [
            "Key 4 has 5 Counts\n",
            "Key 1 has 2 Counts\n",
            "Key 3 has 10 Counts\n"
          ]
        }
      ]
    },
    {
      "cell_type": "code",
      "source": [
        "# Sort the reduced RDD with the key by descending order\n",
        "Rdd_Reduced_Sort = Rdd_Reduced.sortByKey(ascending=False)\n",
        "\n",
        "# Iterate over the result and retrieve all the elements of the RDD\n",
        "for num in Rdd_Reduced_Sort.collect():\n",
        "  print(\"Key {} has {} Counts\".format(num[0], num[1]))"
      ],
      "metadata": {
        "colab": {
          "base_uri": "https://localhost:8080/"
        },
        "id": "vrzGPVo8eUUf",
        "outputId": "0bfc967c-55e5-488c-ac9e-7e2a035f7b71"
      },
      "execution_count": null,
      "outputs": [
        {
          "output_type": "stream",
          "name": "stdout",
          "text": [
            "Key 4 has 5 Counts\n",
            "Key 3 has 10 Counts\n",
            "Key 1 has 2 Counts\n"
          ]
        }
      ]
    },
    {
      "cell_type": "code",
      "source": [
        "# Count the unique keys\n",
        "total = Rdd.countByKey()\n",
        "\n",
        "# What is the type of total?\n",
        "print(\"The type of total is\", type(total))\n",
        "\n",
        "# Iterate over the total and print the output\n",
        "for k, v in total.items():\n",
        "  print(\"key\", k, \"has\", v, \"counts\")"
      ],
      "metadata": {
        "colab": {
          "base_uri": "https://localhost:8080/"
        },
        "id": "iILE375zer6V",
        "outputId": "28b0bd64-2cd0-464d-d27e-14a5c31d1bb7"
      },
      "execution_count": null,
      "outputs": [
        {
          "output_type": "stream",
          "name": "stdout",
          "text": [
            "The type of total is <class 'collections.defaultdict'>\n",
            "key 1 has 1 counts\n",
            "key 3 has 2 counts\n",
            "key 4 has 1 counts\n"
          ]
        }
      ]
    },
    {
      "cell_type": "markdown",
      "source": [
        "The volume of unstructured data (log lines, images, binary files) in existence is growing dramatically, and PySpark is an excellent framework for analyzing this type of data through RDDs. In this 3 part exercise, you will write code that calculates the most common words from Complete Works of William Shakespeare."
      ],
      "metadata": {
        "id": "8pgbQQFVfeVb"
      }
    },
    {
      "cell_type": "markdown",
      "source": [
        "## Click on this Link: https://www.gutenberg.org/ebooks/100"
      ],
      "metadata": {
        "id": "OJAESFVxfgWe"
      }
    },
    {
      "cell_type": "code",
      "source": [
        "# Create a baseRDD from the file path\n",
        "baseRDD = sc.textFile(file_path)\n",
        "\n",
        "# Split the lines of baseRDD into words\n",
        "splitRDD = baseRDD.flatMap(lambda x: x.split())\n",
        "\n",
        "# Count the total number of words\n",
        "print(\"Total number of words in splitRDD:\", splitRDD.count())\n"
      ],
      "metadata": {
        "colab": {
          "base_uri": "https://localhost:8080/"
        },
        "id": "R8A0wCj7ffkG",
        "outputId": "f404efc5-27c0-4a35-933e-0076a32d1123"
      },
      "execution_count": null,
      "outputs": [
        {
          "output_type": "stream",
          "name": "stdout",
          "text": [
            "Total number of words in splitRDD: 55\n"
          ]
        }
      ]
    },
    {
      "cell_type": "code",
      "source": [
        "stop_words= ['i', 'me', 'my', 'myself', 'we', 'our', 'ours', 'ourselves', 'you', 'your', 'yours', 'yourself', 'yourselves', 'he', 'him', 'his', 'himself', 'she', 'her', 'hers', 'herself', 'it', 'its', 'itself', 'they', 'them', 'their', 'theirs', 'themselves', 'what', 'which', 'who', 'whom', 'this', 'that', 'these', 'those', 'am', 'is', 'are', 'was', 'were', 'be', 'been', 'being', 'have', 'has', 'had', 'having', 'do', 'does', 'did', 'doing', 'a', 'an', 'the', 'and', 'but', 'if', 'or', 'because', 'as', 'until', 'while', 'of', 'at', 'by', 'for', 'with', 'about', 'against', 'between', 'into', 'through', 'during', 'before', 'after', 'above', 'below', 'to', 'from', 'up', 'down', 'in', 'out', 'on', 'off', 'over', 'under', 'again', 'further', 'then', 'once', 'here', 'there', 'when', 'where', 'why', 'how', 'all', 'any', 'both', 'each', 'few', 'more', 'most', 'other', 'some', 'such', 'no', 'nor', 'not', 'only', 'own', 'same', 'so', 'than', 'too', 'very', 'can', 'will', 'just', 'don', 'should', 'now']"
      ],
      "metadata": {
        "id": "ZSiZSGQPhCqB"
      },
      "execution_count": null,
      "outputs": []
    },
    {
      "cell_type": "code",
      "source": [
        "# Convert the words in lower case and remove stop words from the stop_words curated list\n",
        "splitRDD_no_stop = splitRDD.filter(lambda x: x.lower() not in stop_words)\n",
        "\n",
        "# Create a tuple of the word and 1\n",
        "splitRDD_no_stop_words = splitRDD_no_stop.map(lambda w: (w, 1))\n",
        "\n",
        "# Count of the number of occurences of each word\n",
        "resultRDD = splitRDD_no_stop_words.reduceByKey(lambda x, y: x + y)\n"
      ],
      "metadata": {
        "id": "Q_2OKEjKf8Uf"
      },
      "execution_count": null,
      "outputs": []
    },
    {
      "cell_type": "code",
      "source": [
        "# Display the first 10 words and their frequencies from the input RDD\n",
        "for word in resultRDD.take(10):\n",
        "\tprint(word)\n",
        "\n",
        "# Swap the keys and values from the input RDD\n",
        "resultRDD_swap = resultRDD.map(lambda x: (x[1], x[0]))\n",
        "\n",
        "# Sort the keys in descending order\n",
        "resultRDD_swap_sort = resultRDD_swap.sortByKey(ascending=False)\n",
        "\n",
        "# Show the top 10 most frequent words and their frequencies from the sorted RDD\n",
        "for word in resultRDD_swap_sort.take(10):\n",
        "\tprint(\"{},{}\". format(word[1], word[0]))"
      ],
      "metadata": {
        "colab": {
          "base_uri": "https://localhost:8080/"
        },
        "id": "iPaB5asmhWGf",
        "outputId": "949a2b50-1620-49a7-d5d2-d7f8467e079b"
      },
      "execution_count": null,
      "outputs": [
        {
          "output_type": "stream",
          "name": "stdout",
          "text": [
            "('Apple', 10)\n",
            "('Chair', 15)\n",
            "('Bag', 5)\n",
            "('Mobile', 5)\n",
            "('Book', 5)\n",
            "('Mic', 10)\n",
            "('Laptop', 5)\n",
            "Chair,15\n",
            "Apple,10\n",
            "Mic,10\n",
            "Bag,5\n",
            "Mobile,5\n",
            "Book,5\n",
            "Laptop,5\n"
          ]
        }
      ]
    },
    {
      "cell_type": "markdown",
      "source": [
        "## Section 3: PPT 3"
      ],
      "metadata": {
        "id": "n-LySbj4hsTQ"
      }
    },
    {
      "cell_type": "markdown",
      "source": [
        "Similar to RDDs, DataFrames are immutable and distributed data structures in Spark. Even though RDDs are a fundamental data structure in Spark, working with data in DataFrames is easier than in RDDs. So, understanding of how to convert an RDD to a DataFrame is necessary."
      ],
      "metadata": {
        "id": "YqDht4psV8xt"
      }
    },
    {
      "cell_type": "code",
      "source": [
        "from pyspark.sql import SparkSession\n",
        "\n",
        "# Initialize SparkSession\n",
        "spark = SparkSession.builder.appName(\"example\").getOrCreate()"
      ],
      "metadata": {
        "id": "icsIOcwRXX9q"
      },
      "execution_count": null,
      "outputs": []
    },
    {
      "cell_type": "code",
      "source": [
        "sample_list=[('Mona',20), ('Jennifer',34),('John',20), ('Jim',26)]"
      ],
      "metadata": {
        "id": "OnGIzMuYhw_u"
      },
      "execution_count": null,
      "outputs": []
    },
    {
      "cell_type": "code",
      "source": [
        "# Create an RDD from the list\n",
        "rdd = sc.parallelize(sample_list)\n",
        "\n",
        "# Create a PySpark DataFrame\n",
        "names_df = spark.createDataFrame(rdd, schema =['Name', 'Age'])\n",
        "\n",
        "# Check the type of names_df\n",
        "print(\"The type of names_df is\", type(names_df))"
      ],
      "metadata": {
        "colab": {
          "base_uri": "https://localhost:8080/"
        },
        "id": "eevdIwvYW0PB",
        "outputId": "5f8901fc-75e9-4c90-a6c5-cb505336676c"
      },
      "execution_count": null,
      "outputs": [
        {
          "output_type": "stream",
          "name": "stdout",
          "text": [
            "The type of names_df is <class 'pyspark.sql.dataframe.DataFrame'>\n"
          ]
        }
      ]
    },
    {
      "cell_type": "code",
      "source": [
        "file_path='/content/sample_data/circuits.csv'"
      ],
      "metadata": {
        "id": "v-OaPUqKYNqC"
      },
      "execution_count": null,
      "outputs": []
    },
    {
      "cell_type": "code",
      "source": [
        "# Create an DataFrame from file_path\n",
        "people_df = spark.read.csv(file_path, header=True, inferSchema=True)\n",
        "\n",
        "# Check the type of people_df\n",
        "print(\"The type of people_df is\", type(people_df))"
      ],
      "metadata": {
        "colab": {
          "base_uri": "https://localhost:8080/"
        },
        "id": "riDifTlEYQKu",
        "outputId": "28a2a0af-5715-4d1b-dc26-ca7dec6e02b5"
      },
      "execution_count": null,
      "outputs": [
        {
          "output_type": "stream",
          "name": "stdout",
          "text": [
            "The type of people_df is <class 'pyspark.sql.dataframe.DataFrame'>\n"
          ]
        }
      ]
    },
    {
      "cell_type": "markdown",
      "source": [
        "## Inspecting data in PySpark DataFrame\n",
        "Inspecting data is very crucial before performing analysis such as plotting, modeling, training etc."
      ],
      "metadata": {
        "id": "UvQan1yPZo08"
      }
    },
    {
      "cell_type": "code",
      "source": [
        "# Print the first 10 observations\n",
        "people_df.show(10)\n",
        "\n",
        "# Count the number of rows\n",
        "print(\"There are {} rows in the people_df DataFrame.\".format(people_df.count()))\n",
        "\n",
        "# Count the number of columns and print their names\n",
        "print(\"There are {} columns in the people_df DataFrame and their names are {}\".format(len(people_df.columns), people_df.columns))"
      ],
      "metadata": {
        "colab": {
          "base_uri": "https://localhost:8080/"
        },
        "id": "ka2qWezoZkZJ",
        "outputId": "0d55f3d6-dc4e-4cfb-a0fb-4159db23dfbe"
      },
      "execution_count": null,
      "outputs": [
        {
          "output_type": "stream",
          "name": "stdout",
          "text": [
            "+---------+--------------+--------------------+------------+---------+--------+--------+---+--------------------+\n",
            "|circuitId|    circuitRef|                name|    location|  country|     lat|     lng|alt|                 url|\n",
            "+---------+--------------+--------------------+------------+---------+--------+--------+---+--------------------+\n",
            "|        1|   albert_park|Albert Park Grand...|   Melbourne|Australia|-37.8497| 144.968| 10|http://en.wikiped...|\n",
            "|        2|        sepang|Sepang Internatio...|Kuala Lumpur| Malaysia| 2.76083| 101.738| 18|http://en.wikiped...|\n",
            "|        3|       bahrain|Bahrain Internati...|      Sakhir|  Bahrain| 26.0325| 50.5106|  7|http://en.wikiped...|\n",
            "|        4|     catalunya|Circuit de Barcel...|    Montmeló|    Spain|   41.57| 2.26111|109|http://en.wikiped...|\n",
            "|        5|      istanbul|       Istanbul Park|    Istanbul|   Turkey| 40.9517|  29.405|130|http://en.wikiped...|\n",
            "|        6|        monaco|   Circuit de Monaco| Monte-Carlo|   Monaco| 43.7347| 7.42056|  7|http://en.wikiped...|\n",
            "|        7|    villeneuve|Circuit Gilles Vi...|    Montreal|   Canada|    45.5|-73.5228| 13|http://en.wikiped...|\n",
            "|        8|   magny_cours|Circuit de Nevers...| Magny Cours|   France| 46.8642| 3.16361|228|http://en.wikiped...|\n",
            "|        9|   silverstone| Silverstone Circuit| Silverstone|       UK| 52.0786|-1.01694|153|http://en.wikiped...|\n",
            "|       10|hockenheimring|      Hockenheimring|  Hockenheim|  Germany| 49.3278| 8.56583|103|http://en.wikiped...|\n",
            "+---------+--------------+--------------------+------------+---------+--------+--------+---+--------------------+\n",
            "only showing top 10 rows\n",
            "\n",
            "There are 77 rows in the people_df DataFrame.\n",
            "There are 9 columns in the people_df DataFrame and their names are ['circuitId', 'circuitRef', 'name', 'location', 'country', 'lat', 'lng', 'alt', 'url']\n"
          ]
        }
      ]
    },
    {
      "cell_type": "code",
      "source": [
        "# Select name, sex and date of birth columns\n",
        "people_df_sub = people_df.select('name', 'location', 'country')\n",
        "\n",
        "# Print the first 10 observations from people_df_sub\n",
        "people_df_sub.show(10)\n",
        "\n",
        "# Remove duplicate entries from people_df_sub\n",
        "people_df_sub_nodup = people_df_sub.dropDuplicates()\n",
        "\n",
        "# Count the number of rows\n",
        "print(\"There were {} rows before removing duplicates, and {} rows after removing duplicates\".format(people_df_sub.count(), people_df_sub_nodup.count()))"
      ],
      "metadata": {
        "colab": {
          "base_uri": "https://localhost:8080/"
        },
        "id": "U1czUH2Va0uT",
        "outputId": "3e6ea81e-8d37-4fbb-c08e-ffea8a72f87c"
      },
      "execution_count": null,
      "outputs": [
        {
          "output_type": "stream",
          "name": "stdout",
          "text": [
            "+--------------------+------------+---------+\n",
            "|                name|    location|  country|\n",
            "+--------------------+------------+---------+\n",
            "|Albert Park Grand...|   Melbourne|Australia|\n",
            "|Sepang Internatio...|Kuala Lumpur| Malaysia|\n",
            "|Bahrain Internati...|      Sakhir|  Bahrain|\n",
            "|Circuit de Barcel...|    Montmeló|    Spain|\n",
            "|       Istanbul Park|    Istanbul|   Turkey|\n",
            "|   Circuit de Monaco| Monte-Carlo|   Monaco|\n",
            "|Circuit Gilles Vi...|    Montreal|   Canada|\n",
            "|Circuit de Nevers...| Magny Cours|   France|\n",
            "| Silverstone Circuit| Silverstone|       UK|\n",
            "|      Hockenheimring|  Hockenheim|  Germany|\n",
            "+--------------------+------------+---------+\n",
            "only showing top 10 rows\n",
            "\n",
            "There were 77 rows before removing duplicates, and 77 rows after removing duplicates\n"
          ]
        }
      ]
    },
    {
      "cell_type": "code",
      "source": [
        "# Filter people_df to select females\n",
        "people_df_Germany = people_df.filter(people_df.country == \"Germany\")\n",
        "\n",
        "# Filter people_df to select males\n",
        "people_df_UK = people_df.filter( people_df.country == \"UK\")\n",
        "\n",
        "# Count the number of rows\n",
        "print(\"There are {} rows in the people_df_people_df_Germany DataFrame and {} rows in the people_df_UK DataFrame\".format(people_df_Germany.count(), people_df_UK.count()))"
      ],
      "metadata": {
        "colab": {
          "base_uri": "https://localhost:8080/"
        },
        "id": "G0_DtHVdbb1K",
        "outputId": "2dff7d07-4afa-4a6a-a7e7-83fec6ea9a1e"
      },
      "execution_count": null,
      "outputs": [
        {
          "output_type": "stream",
          "name": "stdout",
          "text": [
            "There are 3 rows in the people_df_people_df_Germany DataFrame and 4 rows in the people_df_UK DataFrame\n"
          ]
        }
      ]
    },
    {
      "cell_type": "code",
      "source": [
        "# Create a temporary table \"people\"\n",
        "people_df.createOrReplaceTempView(\"people\")\n",
        "\n",
        "# Construct a query to select the names of the people from the temporary table \"people\"\n",
        "query = '''SELECT name FROM people'''\n",
        "\n",
        "# Assign the result of Spark's query to people_df_names\n",
        "people_df_names = spark.sql(query)\n",
        "\n",
        "# Print the top 10 names of the people\n",
        "people_df_names.show(10)"
      ],
      "metadata": {
        "colab": {
          "base_uri": "https://localhost:8080/"
        },
        "id": "9mPAG84JcdOJ",
        "outputId": "d52a2c81-320c-436d-ea7b-e82d010bef1d"
      },
      "execution_count": null,
      "outputs": [
        {
          "output_type": "stream",
          "name": "stdout",
          "text": [
            "+--------------------+\n",
            "|                name|\n",
            "+--------------------+\n",
            "|Albert Park Grand...|\n",
            "|Sepang Internatio...|\n",
            "|Bahrain Internati...|\n",
            "|Circuit de Barcel...|\n",
            "|       Istanbul Park|\n",
            "|   Circuit de Monaco|\n",
            "|Circuit Gilles Vi...|\n",
            "|Circuit de Nevers...|\n",
            "| Silverstone Circuit|\n",
            "|      Hockenheimring|\n",
            "+--------------------+\n",
            "only showing top 10 rows\n",
            "\n"
          ]
        }
      ]
    },
    {
      "cell_type": "code",
      "source": [
        "# Construct a query to select all columns of the people from the temporary table \"people\"\n",
        "query = '''SELECT * FROM people'''\n",
        "\n",
        "# Assign the result of Spark's query to people_df_names\n",
        "people_df_names = spark.sql(query)\n",
        "\n",
        "# Print the top 10 names of the people\n",
        "people_df_names.show(10)"
      ],
      "metadata": {
        "colab": {
          "base_uri": "https://localhost:8080/"
        },
        "id": "KbFDxiF2d1tU",
        "outputId": "4895da2d-166c-4f50-eabb-e7206af07267"
      },
      "execution_count": null,
      "outputs": [
        {
          "output_type": "stream",
          "name": "stdout",
          "text": [
            "+---------+--------------+--------------------+------------+---------+--------+--------+---+--------------------+\n",
            "|circuitId|    circuitRef|                name|    location|  country|     lat|     lng|alt|                 url|\n",
            "+---------+--------------+--------------------+------------+---------+--------+--------+---+--------------------+\n",
            "|        1|   albert_park|Albert Park Grand...|   Melbourne|Australia|-37.8497| 144.968| 10|http://en.wikiped...|\n",
            "|        2|        sepang|Sepang Internatio...|Kuala Lumpur| Malaysia| 2.76083| 101.738| 18|http://en.wikiped...|\n",
            "|        3|       bahrain|Bahrain Internati...|      Sakhir|  Bahrain| 26.0325| 50.5106|  7|http://en.wikiped...|\n",
            "|        4|     catalunya|Circuit de Barcel...|    Montmeló|    Spain|   41.57| 2.26111|109|http://en.wikiped...|\n",
            "|        5|      istanbul|       Istanbul Park|    Istanbul|   Turkey| 40.9517|  29.405|130|http://en.wikiped...|\n",
            "|        6|        monaco|   Circuit de Monaco| Monte-Carlo|   Monaco| 43.7347| 7.42056|  7|http://en.wikiped...|\n",
            "|        7|    villeneuve|Circuit Gilles Vi...|    Montreal|   Canada|    45.5|-73.5228| 13|http://en.wikiped...|\n",
            "|        8|   magny_cours|Circuit de Nevers...| Magny Cours|   France| 46.8642| 3.16361|228|http://en.wikiped...|\n",
            "|        9|   silverstone| Silverstone Circuit| Silverstone|       UK| 52.0786|-1.01694|153|http://en.wikiped...|\n",
            "|       10|hockenheimring|      Hockenheimring|  Hockenheim|  Germany| 49.3278| 8.56583|103|http://en.wikiped...|\n",
            "+---------+--------------+--------------------+------------+---------+--------+--------+---+--------------------+\n",
            "only showing top 10 rows\n",
            "\n"
          ]
        }
      ]
    },
    {
      "cell_type": "code",
      "source": [
        "# Filter the people table to country == \"Germany\"\n",
        "people_Germany = spark.sql('SELECT * FROM people WHERE country == \"Germany\"')\n",
        "\n",
        "# Filter the people table DataFrame to country == \"UK\"\n",
        "people_UK = spark.sql('SELECT * from people where country == \"UK\"')\n",
        "\n",
        "# Count the number of rows in both people_df_female and people_male_df DataFrames\n",
        "print(\"There are {} rows in the people_female_df and {} rows in the people_male_df DataFrames\".format(people_Germany.count(), people_UK.count()))"
      ],
      "metadata": {
        "colab": {
          "base_uri": "https://localhost:8080/"
        },
        "id": "COinoTmDd725",
        "outputId": "583640b2-2a5e-4b94-d3b3-3aea3922129e"
      },
      "execution_count": null,
      "outputs": [
        {
          "output_type": "stream",
          "name": "stdout",
          "text": [
            "There are 3 rows in the people_female_df and 4 rows in the people_male_df DataFrames\n"
          ]
        }
      ]
    },
    {
      "cell_type": "markdown",
      "source": [
        "## PySpark DataFrame visualization\n",
        "Graphical representations or visualization of data is imperative for understanding as well as interpreting the data. In this simple data visualization exercise, you'll first print the column names of names_df DataFrame that you have created earlier, then convert the names_df to Pandas DataFrame, and finally plot the contents as horizontal bar plot with names of the people on the x-axis and their age on the y-axis."
      ],
      "metadata": {
        "id": "hcGaj2Wfgjk8"
      }
    },
    {
      "cell_type": "code",
      "source": [
        "# Create a new DataFrame with the first 10 rows\n",
        "first_10_df = people_df.limit(10)\n",
        "\n",
        "# Display the new DataFrame\n",
        "first_10_df.show()\n"
      ],
      "metadata": {
        "colab": {
          "base_uri": "https://localhost:8080/"
        },
        "id": "MEH4j_IYhLo0",
        "outputId": "ab78b170-0635-4d0e-9af2-f259711da3ce"
      },
      "execution_count": null,
      "outputs": [
        {
          "output_type": "stream",
          "name": "stdout",
          "text": [
            "+---------+--------------+--------------------+------------+---------+--------+--------+---+--------------------+\n",
            "|circuitId|    circuitRef|                name|    location|  country|     lat|     lng|alt|                 url|\n",
            "+---------+--------------+--------------------+------------+---------+--------+--------+---+--------------------+\n",
            "|        1|   albert_park|Albert Park Grand...|   Melbourne|Australia|-37.8497| 144.968| 10|http://en.wikiped...|\n",
            "|        2|        sepang|Sepang Internatio...|Kuala Lumpur| Malaysia| 2.76083| 101.738| 18|http://en.wikiped...|\n",
            "|        3|       bahrain|Bahrain Internati...|      Sakhir|  Bahrain| 26.0325| 50.5106|  7|http://en.wikiped...|\n",
            "|        4|     catalunya|Circuit de Barcel...|    Montmeló|    Spain|   41.57| 2.26111|109|http://en.wikiped...|\n",
            "|        5|      istanbul|       Istanbul Park|    Istanbul|   Turkey| 40.9517|  29.405|130|http://en.wikiped...|\n",
            "|        6|        monaco|   Circuit de Monaco| Monte-Carlo|   Monaco| 43.7347| 7.42056|  7|http://en.wikiped...|\n",
            "|        7|    villeneuve|Circuit Gilles Vi...|    Montreal|   Canada|    45.5|-73.5228| 13|http://en.wikiped...|\n",
            "|        8|   magny_cours|Circuit de Nevers...| Magny Cours|   France| 46.8642| 3.16361|228|http://en.wikiped...|\n",
            "|        9|   silverstone| Silverstone Circuit| Silverstone|       UK| 52.0786|-1.01694|153|http://en.wikiped...|\n",
            "|       10|hockenheimring|      Hockenheimring|  Hockenheim|  Germany| 49.3278| 8.56583|103|http://en.wikiped...|\n",
            "+---------+--------------+--------------------+------------+---------+--------+--------+---+--------------------+\n",
            "\n"
          ]
        }
      ]
    },
    {
      "cell_type": "code",
      "source": [
        "import matplotlib.pyplot as plt\n",
        "# Check the column names of names_df\n",
        "print(\"The column names of names_df are\", first_10_df.columns)\n",
        "\n",
        "# Convert to Pandas DataFrame\n",
        "df_pandas = first_10_df.toPandas()\n",
        "\n",
        "# Create a horizontal bar plot\n",
        "df_pandas.plot(kind='barh', x='country', y='alt', colormap='winter_r')\n",
        "plt.show()\n"
      ],
      "metadata": {
        "colab": {
          "base_uri": "https://localhost:8080/",
          "height": 467
        },
        "id": "eBiy8JiMfQES",
        "outputId": "4864bbb4-a19c-45d8-f8a5-e2f89a86a55c"
      },
      "execution_count": null,
      "outputs": [
        {
          "output_type": "stream",
          "name": "stdout",
          "text": [
            "The column names of names_df are ['circuitId', 'circuitRef', 'name', 'location', 'country', 'lat', 'lng', 'alt', 'url']\n"
          ]
        },
        {
          "output_type": "display_data",
          "data": {
            "text/plain": [
              "<Figure size 640x480 with 1 Axes>"
            ],
            "image/png": "[encoded data removed]"
          },
          "metadata": {}
        }
      ]
    },
    {
      "cell_type": "code",
      "source": [
        "# Load the Dataframe\n",
        "fifa_df = spark.read.csv(file_path, header=True, inferSchema=True)\n",
        "\n",
        "# Check the schema of columns\n",
        "fifa_df.printSchema()\n",
        "\n",
        "# Show the first 10 observations\n",
        "fifa_df.show(10)\n",
        "\n",
        "# Print the total number of rows\n",
        "print(\"There are {} rows in the fifa_df DataFrame\".format(fifa_df.count()))"
      ],
      "metadata": {
        "colab": {
          "base_uri": "https://localhost:8080/"
        },
        "id": "m39xc_YKhjUa",
        "outputId": "5e3db392-69f2-4f74-9aa4-9eff0b48dc51"
      },
      "execution_count": null,
      "outputs": [
        {
          "output_type": "stream",
          "name": "stdout",
          "text": [
            "root\n",
            " |-- circuitId: integer (nullable = true)\n",
            " |-- circuitRef: string (nullable = true)\n",
            " |-- name: string (nullable = true)\n",
            " |-- location: string (nullable = true)\n",
            " |-- country: string (nullable = true)\n",
            " |-- lat: double (nullable = true)\n",
            " |-- lng: double (nullable = true)\n",
            " |-- alt: integer (nullable = true)\n",
            " |-- url: string (nullable = true)\n",
            "\n",
            "+---------+--------------+--------------------+------------+---------+--------+--------+---+--------------------+\n",
            "|circuitId|    circuitRef|                name|    location|  country|     lat|     lng|alt|                 url|\n",
            "+---------+--------------+--------------------+------------+---------+--------+--------+---+--------------------+\n",
            "|        1|   albert_park|Albert Park Grand...|   Melbourne|Australia|-37.8497| 144.968| 10|http://en.wikiped...|\n",
            "|        2|        sepang|Sepang Internatio...|Kuala Lumpur| Malaysia| 2.76083| 101.738| 18|http://en.wikiped...|\n",
            "|        3|       bahrain|Bahrain Internati...|      Sakhir|  Bahrain| 26.0325| 50.5106|  7|http://en.wikiped...|\n",
            "|        4|     catalunya|Circuit de Barcel...|    Montmeló|    Spain|   41.57| 2.26111|109|http://en.wikiped...|\n",
            "|        5|      istanbul|       Istanbul Park|    Istanbul|   Turkey| 40.9517|  29.405|130|http://en.wikiped...|\n",
            "|        6|        monaco|   Circuit de Monaco| Monte-Carlo|   Monaco| 43.7347| 7.42056|  7|http://en.wikiped...|\n",
            "|        7|    villeneuve|Circuit Gilles Vi...|    Montreal|   Canada|    45.5|-73.5228| 13|http://en.wikiped...|\n",
            "|        8|   magny_cours|Circuit de Nevers...| Magny Cours|   France| 46.8642| 3.16361|228|http://en.wikiped...|\n",
            "|        9|   silverstone| Silverstone Circuit| Silverstone|       UK| 52.0786|-1.01694|153|http://en.wikiped...|\n",
            "|       10|hockenheimring|      Hockenheimring|  Hockenheim|  Germany| 49.3278| 8.56583|103|http://en.wikiped...|\n",
            "+---------+--------------+--------------------+------------+---------+--------+--------+---+--------------------+\n",
            "only showing top 10 rows\n",
            "\n",
            "There are 77 rows in the fifa_df DataFrame\n"
          ]
        }
      ]
    },
    {
      "cell_type": "code",
      "source": [
        "# Create a temporary view of fifa_df\n",
        "fifa_df.createOrReplaceTempView('fifa_df_table')\n",
        "\n",
        "# Construct the \"query\"\n",
        "query = '''SELECT * FROM fifa_df_table WHERE country == \"Germany\"'''\n",
        "\n",
        "# Apply the SQL \"query\"\n",
        "fifa_df_germany_age = spark.sql(query)\n",
        "\n",
        "# Generate basic statistics\n",
        "fifa_df_germany_age.describe().show()"
      ],
      "metadata": {
        "colab": {
          "base_uri": "https://localhost:8080/"
        },
        "id": "s1T9psDqhFLR",
        "outputId": "f8ee9310-b666-4620-d2ed-74112e39ea63"
      },
      "execution_count": null,
      "outputs": [
        {
          "output_type": "stream",
          "name": "stdout",
          "text": [
            "+-------+------------------+-----------+-----------+--------+-------+------------------+-----------------+------------------+--------------------+\n",
            "|summary|         circuitId| circuitRef|       name|location|country|               lat|              lng|               alt|                 url|\n",
            "+-------+------------------+-----------+-----------+--------+-------+------------------+-----------------+------------------+--------------------+\n",
            "|  count|                 3|          3|          3|       3|      3|                 3|                3|                 3|                   3|\n",
            "|   mean|30.333333333333332|       NULL|       NULL|    NULL|   NULL|50.714666666666666|9.588243333333333|244.66666666666666|                NULL|\n",
            "| stddev| 27.02468007827906|       NULL|       NULL|    NULL|   NULL| 1.610219119664569|3.273955645795058|289.75564417856185|                NULL|\n",
            "|    min|                10|       avus|       AVUS|  Berlin|Germany|           49.3278|           6.9475|                53|http://en.wikiped...|\n",
            "|    max|                61|nurburgring|Nürburgring| Nürburg|Germany|           52.4806|          13.2514|               578|http://en.wikiped...|\n",
            "+-------+------------------+-----------+-----------+--------+-------+------------------+-----------------+------------------+--------------------+\n",
            "\n"
          ]
        }
      ]
    },
    {
      "cell_type": "code",
      "source": [
        "# Create a temporary view of fifa_df\n",
        "fifa_df.createOrReplaceTempView('fifa_df_table')\n",
        "\n",
        "# Construct the \"query\"\n",
        "query = '''SELECT lat FROM fifa_df_table WHERE country == \"Germany\"'''\n",
        "\n",
        "# Apply the SQL \"query\"\n",
        "fifa_df_germany_age = spark.sql(query)\n",
        "\n",
        "# Generate basic statistics\n",
        "fifa_df_germany_age.describe().show()"
      ],
      "metadata": {
        "colab": {
          "base_uri": "https://localhost:8080/"
        },
        "id": "d69u66eWkFlZ",
        "outputId": "e9a4cab8-1061-4370-b385-5c55324f8909"
      },
      "execution_count": null,
      "outputs": [
        {
          "output_type": "stream",
          "name": "stdout",
          "text": [
            "+-------+------------------+\n",
            "|summary|               lat|\n",
            "+-------+------------------+\n",
            "|  count|                 3|\n",
            "|   mean|50.714666666666666|\n",
            "| stddev| 1.610219119664569|\n",
            "|    min|           49.3278|\n",
            "|    max|           52.4806|\n",
            "+-------+------------------+\n",
            "\n"
          ]
        }
      ]
    },
    {
      "cell_type": "code",
      "source": [
        "# Convert fifa_df to fifa_df_germany_age_pandas DataFrame\n",
        "fifa_df_germany_age_pandas = fifa_df_germany_age.toPandas()\n",
        "\n",
        "# Plot the 'Age' density of Germany Players\n",
        "fifa_df_germany_age_pandas.plot(kind='density')\n",
        "plt.show()"
      ],
      "metadata": {
        "colab": {
          "base_uri": "https://localhost:8080/",
          "height": 430
        },
        "id": "5wZh5Hcnj7PM",
        "outputId": "de06150e-c2ab-428c-ccdf-d0149032b3c8"
      },
      "execution_count": null,
      "outputs": [
        {
          "output_type": "display_data",
          "data": {
            "text/plain": [
              "<Figure size 640x480 with 1 Axes>"
            ],
            "image/png": "[encoded data removed]"
          },
          "metadata": {}
        }
      ]
    },
    {
      "cell_type": "markdown",
      "source": [
        "## Section 4: PPT 4"
      ],
      "metadata": {
        "id": "3ufIjF_q0aSO"
      }
    },
    {
      "cell_type": "markdown",
      "source": [
        "## Dataset: https://grouplens.org/datasets/movielens/100k/"
      ],
      "metadata": {
        "id": "L7txx-r01Uox"
      }
    },
    {
      "cell_type": "code",
      "source": [
        "file_path='/content/sample_data/ratings_.csv'"
      ],
      "metadata": {
        "id": "sBvM9wvW2PvV"
      },
      "execution_count": 14,
      "outputs": []
    },
    {
      "cell_type": "markdown",
      "source": [
        "## Loading Movie Lens dataset into RDDs\n",
        "Collaborative filtering is a technique for recommender systems wherein users' ratings and interactions with various products are used to recommend new ones. With the advent of Machine Learning and parallelized processing of data, recommender systems have become widely popular in recent years, and are utilized in a variety of areas including movies, music, news, books, research articles, search queries, social tags. In this 3-part exercise, your goal is to develop a simple movie recommendation system using PySpark MLlib using a subset of MovieLens 100k dataset.\n",
        "\n",
        "In the first part, you'll first load the MovieLens data (ratings.csv) into RDD and from each line in the RDD which is formatted as userId,movieId,rating,timestamp, you'll need to map the MovieLens data to a Ratings object (userID, productID, rating) after removing timestamp column and finally you'll split the RDD into training and test RDDs."
      ],
      "metadata": {
        "id": "UKgHT93Ryli2"
      }
    },
    {
      "cell_type": "code",
      "source": [
        "# Import the library for ALS\n",
        "from pyspark.mllib.recommendation import ALS, Rating\n",
        "\n",
        "# Import the library for Logistic Regression\n",
        "from pyspark.mllib.classification import LogisticRegressionWithLBFGS\n",
        "\n",
        "# Import the library for Kmeans\n",
        "from pyspark.mllib.clustering import KMeans"
      ],
      "metadata": {
        "id": "cx-taab30auP"
      },
      "execution_count": 9,
      "outputs": []
    },
    {
      "cell_type": "code",
      "source": [
        "# from pyspark import SparkContext, SparkConf\n",
        "\n",
        "# # Set up Spark configuration and context\n",
        "# conf = SparkConf().setAppName(\"AppName\").setMaster(\"local\")  # Specify app name and master\n",
        "# sc = SparkContext(conf=conf)"
      ],
      "metadata": {
        "id": "68mVL_oF4Azo"
      },
      "execution_count": 11,
      "outputs": []
    },
    {
      "cell_type": "code",
      "source": [
        "# Load the data into RDD\n",
        "data = sc.textFile(file_path)\n",
        "\n",
        "# Split the RDD\n",
        "ratings = data.map(lambda l: l.split(','))\n",
        "\n",
        "# Transform the ratings RDD\n",
        "ratings_final = ratings.map(lambda line: Rating(int(line[0]), int(line[1]), float(line[2])))\n",
        "\n",
        "# Split the data into training and test\n",
        "training_data, test_data = ratings_final.randomSplit([0.8, 0.2])"
      ],
      "metadata": {
        "id": "3mEQtWcB0kgW"
      },
      "execution_count": 15,
      "outputs": []
    },
    {
      "cell_type": "code",
      "source": [
        "from pyspark.mllib.recommendation import ALS\n",
        "# Create the ALS model on the training data\n",
        "model = ALS.train(training_data, rank=10, iterations=10)\n",
        "\n",
        "# Drop the ratings column\n",
        "testdata_no_rating = test_data.map(lambda p: (p[0], p[1]))\n",
        "\n",
        "# Predict the model\n",
        "predictions = model.predictAll(testdata_no_rating)\n",
        "\n",
        "# Return the first 2 rows of the RDD\n",
        "predictions.take(2)\n"
      ],
      "metadata": {
        "colab": {
          "base_uri": "https://localhost:8080/"
        },
        "id": "AKusdSce3z6J",
        "outputId": "449373bf-bb73-46f5-f79c-dd10076e08fc"
      },
      "execution_count": 16,
      "outputs": [
        {
          "output_type": "execute_result",
          "data": {
            "text/plain": [
              "[]"
            ]
          },
          "metadata": {},
          "execution_count": 16
        }
      ]
    },
    {
      "cell_type": "code",
      "source": [
        "# Prepare ratings data\n",
        "rates = ratings_final.map(lambda r: ((r[0], r[1]), r[2]))\n",
        "\n",
        "# Prepare predictions data\n",
        "preds = predictions.map(lambda r: ((r[0], r[1]), r[2]))\n",
        "\n",
        "# Join the ratings data with predictions data\n",
        "rates_and_preds = rates.join(preds)\n",
        "\n",
        "# Calculate and print MSE\n",
        "MSE = rates_and_preds.map(lambda r: (r[1][0] - r[1][1])**2).mean()\n",
        "print(\"Mean Squared Error of the model for the test data = {:.2f}\".format(MSE))\n"
      ],
      "metadata": {
        "colab": {
          "base_uri": "https://localhost:8080/"
        },
        "id": "0ouinNk9kK-G",
        "outputId": "0f709dfe-82cf-4b62-ae1a-cb5d54705265"
      },
      "execution_count": 17,
      "outputs": [
        {
          "output_type": "stream",
          "name": "stdout",
          "text": [
            "Mean Squared Error of the model for the test data = 0.00\n"
          ]
        }
      ]
    },
    {
      "cell_type": "markdown",
      "source": [
        "## Loading spam and non-spam data\n",
        "Logistic Regression is a popular method to predict a categorical response. Probably one of the most common applications of the logistic regression is the message or email spam classification. In this 3-part exercise, you'll create an email spam classifier with logistic regression using Spark MLlib. Here are the brief steps for creating a spam classifier.\n",
        "\n",
        "Create an RDD of strings representing email.\n",
        "Run MLlib’s feature extraction algorithms to convert text into an RDD of vectors.\n",
        "Call a classification algorithm on the RDD of vectors to return a model object to classify new points.\n",
        "Evaluate the model on a test dataset using one of MLlib’s evaluation functions."
      ],
      "metadata": {
        "id": "t4TgKXyLyfB-"
      }
    },
    {
      "cell_type": "code",
      "source": [
        "import pandas as pd\n",
        "\n",
        "# Load the CSV data\n",
        "data = pd.read_csv(\"spam.csv\")\n",
        "\n",
        "# Filter spam and ham messages\n",
        "spam_messages = data[data['Type'] == 'spam']['Message']\n",
        "non_spam_messages = data[data['Type'] == 'ham']['Message']\n",
        "\n",
        "# Save spam messages to file_path_spam\n",
        "with open(\"file_path_spam.txt\", \"w\") as spam_file:\n",
        "    for message in spam_messages:\n",
        "        spam_file.write(message + \"\\n\")\n",
        "\n",
        "# Save non-spam messages to file_path_non_spam\n",
        "with open(\"file_path_non_spam.txt\", \"w\") as non_spam_file:\n",
        "    for message in non_spam_messages:\n",
        "        non_spam_file.write(message + \"\\n\")\n"
      ],
      "metadata": {
        "id": "9oSsDfMc2V_c"
      },
      "execution_count": null,
      "outputs": []
    },
    {
      "cell_type": "code",
      "source": [
        "# Load the datasets into RDDs\n",
        "spam_rdd = sc.textFile(file_path_spam)\n",
        "non_spam_rdd = sc.textFile(file_path_non_spam)\n",
        "\n",
        "# Split the email messages into words\n",
        "spam_words = spam_rdd.flatMap(lambda email: email.split(' '))\n",
        "non_spam_words = non_spam_rdd.flatMap(lambda email: email.split(' '))\n",
        "\n",
        "# Print the first element in the split RDD\n",
        "print(\"The first element in spam_words is\", spam_words.first())\n",
        "print(\"The first element in non_spam_words is\", non_spam_words.first())\n"
      ],
      "metadata": {
        "id": "RRG1YsUEs-It"
      },
      "execution_count": null,
      "outputs": []
    },
    {
      "cell_type": "code",
      "source": [
        "from pyspark.mllib.feature import HashingTF\n",
        "from pyspark.mllib.regression import LabeledPoint\n",
        "\n",
        "# Create a HashingTF instance with 200 features\n",
        "tf = HashingTF(numFeatures=200)\n",
        "\n",
        "# Map each word to one feature\n",
        "spam_features = tf.transform(spam_words)\n",
        "non_spam_features = tf.transform(non_spam_words)\n",
        "\n",
        "# Label the features: 1 for spam, 0 for non-spam\n",
        "spam_samples = spam_features.map(lambda features: LabeledPoint(1, features))\n",
        "non_spam_samples = non_spam_features.map(lambda features: LabeledPoint(0, features))\n",
        "\n",
        "# Combine the two datasets\n",
        "samples = spam_samples.union(non_spam_samples)\n"
      ],
      "metadata": {
        "id": "7wMLdELPs_DG"
      },
      "execution_count": null,
      "outputs": []
    },
    {
      "cell_type": "code",
      "source": [
        "from pyspark.mllib.classification import LogisticRegressionWithLBFGS\n",
        "\n",
        "# Split the data into training and testing\n",
        "train_samples, test_samples = samples.randomSplit([0.8, 0.2])\n",
        "\n",
        "# Train the model\n",
        "model = LogisticRegressionWithLBFGS.train(train_samples)\n",
        "\n",
        "# Create a prediction label from the test data\n",
        "predictions = model.predict(test_samples.map(lambda x: x.features))\n",
        "\n",
        "# Combine original labels with the predicted labels\n",
        "labels_and_preds = test_samples.map(lambda x: x.label).zip(predictions)\n",
        "\n",
        "# Check the accuracy of the model on the test data\n",
        "accuracy = labels_and_preds.filter(lambda x: x[0] == x[1]).count() / float(test_samples.count())\n",
        "print(\"Model accuracy : {:.2f}\".format(accuracy))\n"
      ],
      "metadata": {
        "id": "31GlKXTHtB8_"
      },
      "execution_count": null,
      "outputs": []
    },
    {
      "cell_type": "code",
      "source": [
        "# Load the dataset into an RDD\n",
        "clusterRDD = sc.textFile(file_path)\n",
        "\n",
        "# Split the RDD based on tab\n",
        "rdd_split = clusterRDD.map(lambda x: x.split('\\t'))\n",
        "\n",
        "# Transform the split RDD by creating a list of integers\n",
        "rdd_split_int = rdd_split.map(lambda x: [int(x[0]), int(x[1])])\n",
        "\n",
        "# Count the number of rows in RDD\n",
        "print(\"There are {} rows in the rdd_split_int dataset\".format(rdd_split_int.count()))\n"
      ],
      "metadata": {
        "id": "lAKBQR34tHul"
      },
      "execution_count": null,
      "outputs": []
    },
    {
      "cell_type": "code",
      "source": [
        "# Train the model with clusters from 13 to 16 and compute WSSSE\n",
        "for clst in range(13, 17):\n",
        "    model = KMeans.train(rdd_split_int, clst, seed=1)\n",
        "    WSSSE = rdd_split_int.map(lambda point: error(point)).reduce(lambda x, y: x + y)\n",
        "    print(\"The cluster {} has Within Set Sum of Squared Error {}\".format(clst, WSSSE))\n",
        "\n",
        "# Train the model again with the best k\n",
        "model = KMeans.train(rdd_split_int, k=16, seed=1)\n",
        "\n",
        "# Get cluster centers\n",
        "cluster_centers = model.clusterCenters"
      ],
      "metadata": {
        "id": "5bV59WcrtIWL"
      },
      "execution_count": null,
      "outputs": []
    }
  ]
}