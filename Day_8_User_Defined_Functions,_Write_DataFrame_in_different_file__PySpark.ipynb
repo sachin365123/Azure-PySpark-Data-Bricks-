{
  "nbformat": 4,
  "nbformat_minor": 0,
  "metadata": {
    "colab": {
      "provenance": []
    },
    "kernelspec": {
      "name": "python3",
      "display_name": "Python 3"
    },
    "language_info": {
      "name": "python"
    }
  },
  "cells": [
    {
      "cell_type": "markdown",
      "source": [
        "# User Defined Functions in PySpark"
      ],
      "metadata": {
        "id": "Jm7szwwsvALq"
      }
    },
    {
      "cell_type": "code",
      "source": [
        "from pyspark.sql.functions import col, lit, udf\n",
        "from pyspark.sql.types import IntegerType\n",
        "\n",
        "df = spark.read.options(header='True', inferSchema='True').csv('/content/sample_data/OfficeData.csv')\n",
        "df.show()\n",
        "\n",
        "# ------------------------ first UDF\n",
        "\n",
        "def get_total_salary(salary):\n",
        "  return salary + 100\n",
        "\n",
        "\n",
        "totalSalaryUDF = udf(lambda x: get_total_salary(x), IntegerType())\n",
        "\n",
        "df.withColumn(\"total_salary\", totalSalaryUDF(df.salary)).show()\n",
        "\n",
        "\n",
        "\n",
        "\n"
      ],
      "metadata": {
        "colab": {
          "base_uri": "https://localhost:8080/"
        },
        "id": "UP5PeGImt-XD",
        "outputId": "599d9685-52b3-43f6-ffb8-49d4d33f4c88"
      },
      "execution_count": null,
      "outputs": [
        {
          "output_type": "stream",
          "name": "stdout",
          "text": [
            "+-------------+----------+-----+------+---+-----+\n",
            "|employee_name|department|state|salary|age|bonus|\n",
            "+-------------+----------+-----+------+---+-----+\n",
            "|        James|     Sales|   NY| 90000| 34|10000|\n",
            "|      Michael|     Sales|   NY| 86000| 56|20000|\n",
            "|       Robert|     Sales|   CA| 81000| 30|23000|\n",
            "|        Maria|   Finance|   CA| 90000| 24|23000|\n",
            "|        Raman|   Finance|   CA| 99000| 40|24000|\n",
            "|        Scott|   Finance|   NY| 83000| 36|19000|\n",
            "|          Jen|   Finance|   NY| 79000| 53|15000|\n",
            "|         Jeff| Marketing|   CA| 80000| 25|18000|\n",
            "|        Kumar| Marketing|   NY| 91000| 50|21000|\n",
            "+-------------+----------+-----+------+---+-----+\n",
            "\n",
            "+-------------+----------+-----+------+---+-----+------------------+\n",
            "|employee_name|department|state|salary|age|bonus|total_bonus_salary|\n",
            "+-------------+----------+-----+------+---+-----+------------------+\n",
            "|        James|     Sales|   NY| 90000| 34|10000|            100000|\n",
            "|      Michael|     Sales|   NY| 86000| 56|20000|            106000|\n",
            "|       Robert|     Sales|   CA| 81000| 30|23000|            104000|\n",
            "|        Maria|   Finance|   CA| 90000| 24|23000|            113000|\n",
            "|        Raman|   Finance|   CA| 99000| 40|24000|            123000|\n",
            "|        Scott|   Finance|   NY| 83000| 36|19000|            102000|\n",
            "|          Jen|   Finance|   NY| 79000| 53|15000|             94000|\n",
            "|         Jeff| Marketing|   CA| 80000| 25|18000|             98000|\n",
            "|        Kumar| Marketing|   NY| 91000| 50|21000|            112000|\n",
            "+-------------+----------+-----+------+---+-----+------------------+\n",
            "\n"
          ]
        }
      ]
    },
    {
      "cell_type": "code",
      "source": [
        "# ------------------------------ another UDF\n",
        "\n",
        "def get_salary_and_bonus(salary,bonus):\n",
        "  return salary + bonus\n",
        "\n",
        "totalSalaryUDF_bonus = udf(lambda x,y: get_salary_and_bonus(x,y), IntegerType())\n",
        "\n",
        "df.withColumn(\"total_bonus_salary\", totalSalaryUDF_bonus(df.salary,df.bonus)).show()"
      ],
      "metadata": {
        "id": "pnghcXg2v-5J"
      },
      "execution_count": null,
      "outputs": []
    },
    {
      "cell_type": "code",
      "source": [
        "df.show()"
      ],
      "metadata": {
        "colab": {
          "base_uri": "https://localhost:8080/"
        },
        "id": "Q8l6j4_nrWZz",
        "outputId": "ff127edf-34da-4dce-ba41-de2a6d49082d"
      },
      "execution_count": null,
      "outputs": [
        {
          "output_type": "stream",
          "name": "stdout",
          "text": [
            "+-------------+----------+-----+------+---+-----+\n",
            "|employee_name|department|state|salary|age|bonus|\n",
            "+-------------+----------+-----+------+---+-----+\n",
            "|        James|     Sales|   NY| 90000| 34|10000|\n",
            "|      Michael|     Sales|   NY| 86000| 56|20000|\n",
            "|       Robert|     Sales|   CA| 81000| 30|23000|\n",
            "|        Maria|   Finance|   CA| 90000| 24|23000|\n",
            "|        Raman|   Finance|   CA| 99000| 40|24000|\n",
            "|        Scott|   Finance|   NY| 83000| 36|19000|\n",
            "|          Jen|   Finance|   NY| 79000| 53|15000|\n",
            "|         Jeff| Marketing|   CA| 80000| 25|18000|\n",
            "|        Kumar| Marketing|   NY| 91000| 50|21000|\n",
            "+-------------+----------+-----+------+---+-----+\n",
            "\n"
          ]
        }
      ]
    },
    {
      "cell_type": "code",
      "source": [
        "from pyspark.sql.types import DoubleType\n",
        "\n",
        "\n",
        "def get_incr(state, salary, bonus):\n",
        "  sum = 0\n",
        "  if state == \"NY\":\n",
        "    sum = salary * 0.10\n",
        "    sum += bonus * 0.05\n",
        "  elif state == \"CA\":\n",
        "    sum = salary * 0.12\n",
        "    sum += bonus * 0.03\n",
        "  return sum\n",
        "\n",
        "incrUDF = udf(lambda x,y,z: get_incr(x,y,z), DoubleType())\n",
        "\n",
        "df.withColumn(\"increment\", incrUDF(df.state, df.salary, df.bonus)).show()"
      ],
      "metadata": {
        "colab": {
          "base_uri": "https://localhost:8080/"
        },
        "id": "HfdyT4surWcy",
        "outputId": "c9632fca-4b00-4e36-daf6-d23d3c64297d"
      },
      "execution_count": null,
      "outputs": [
        {
          "output_type": "stream",
          "name": "stdout",
          "text": [
            "+-------------+----------+-----+------+---+-----+---------+\n",
            "|employee_name|department|state|salary|age|bonus|increment|\n",
            "+-------------+----------+-----+------+---+-----+---------+\n",
            "|        James|     Sales|   NY| 90000| 34|10000|   9500.0|\n",
            "|      Michael|     Sales|   NY| 86000| 56|20000|   9600.0|\n",
            "|       Robert|     Sales|   CA| 81000| 30|23000|  10410.0|\n",
            "|        Maria|   Finance|   CA| 90000| 24|23000|  11490.0|\n",
            "|        Raman|   Finance|   CA| 99000| 40|24000|  12600.0|\n",
            "|        Scott|   Finance|   NY| 83000| 36|19000|   9250.0|\n",
            "|          Jen|   Finance|   NY| 79000| 53|15000|   8650.0|\n",
            "|         Jeff| Marketing|   CA| 80000| 25|18000|  10140.0|\n",
            "|        Kumar| Marketing|   NY| 91000| 50|21000|  10150.0|\n",
            "+-------------+----------+-----+------+---+-----+---------+\n",
            "\n"
          ]
        }
      ]
    },
    {
      "cell_type": "markdown",
      "source": [
        "# cache() in PySpark"
      ],
      "metadata": {
        "id": "2oh0G-ocxZYb"
      }
    },
    {
      "cell_type": "markdown",
      "source": [
        "In PySpark, cache() is used to persist a DataFrame or RDD in memory, so that future actions on that DataFrame are faster. Normally, when you perform transformations (like filter, select, or groupBy) on a DataFrame in PySpark, those transformations are lazy — meaning they are not executed until an action (like count() or show()) is called. Without caching, each time an action is triggered, all the transformations are recalculated from the original data source.\n",
        "\n",
        "Why use cache()?\n",
        "When you call df.cache(), PySpark stores the DataFrame (or RDD) in memory, meaning it keeps the intermediate result in memory after the first action is executed. Subsequent actions on this DataFrame can reuse the cached data, instead of recalculating the entire sequence of transformations. This can result in significant performance improvements, especially when you plan to reuse the DataFrame multiple times.\n",
        "\n",
        "Example:\n",
        "python\n",
        "Copy code\n",
        "# Caching the DataFrame\n",
        "df.cache()\n",
        "\n",
        "# First action - triggers the caching\n",
        "df.count()\n",
        "\n",
        "# Subsequent actions will be faster as they use the cached data\n",
        "df.show()\n",
        "Key Points:\n",
        "When to use: Use cache() when you have a DataFrame that you are going to use multiple times in your workflow.\n",
        "Storage: By default, cache() stores the DataFrame in memory (as deserialized Java objects). If the data does not fit into memory, it will spill to disk.\n",
        "Persistence levels: If you need more control over where the data is cached (memory or disk), you can use the persist() method, which allows you to specify the storage level (e.g., memory-only, memory-and-disk, etc.).\n",
        "Benefits:\n",
        "Improved performance for repeated operations on the same DataFrame.\n",
        "Avoid recomputation of expensive transformations."
      ],
      "metadata": {
        "id": "BRBC_s6dxI5y"
      }
    },
    {
      "cell_type": "code",
      "source": [
        "df.cache()"
      ],
      "metadata": {
        "colab": {
          "base_uri": "https://localhost:8080/"
        },
        "id": "Kmn15Ey5rWfs",
        "outputId": "02dd3589-9441-48f1-963a-9f8fca12804a"
      },
      "execution_count": null,
      "outputs": [
        {
          "output_type": "execute_result",
          "data": {
            "text/plain": [
              "DataFrame[employee_name: string, department: string, state: string, salary: int, age: int, bonus: int]"
            ]
          },
          "metadata": {},
          "execution_count": 43
        }
      ]
    },
    {
      "cell_type": "code",
      "source": [
        "# COMMAND ----------\n",
        "\n",
        "df.show()\n",
        "\n",
        "# COMMAND ----------"
      ],
      "metadata": {
        "colab": {
          "base_uri": "https://localhost:8080/"
        },
        "id": "K2Fx7qzMnk0F",
        "outputId": "72c96eb8-96c3-477c-eec6-1ab05535e2df"
      },
      "execution_count": null,
      "outputs": [
        {
          "output_type": "stream",
          "name": "stdout",
          "text": [
            "+-------------+----------+-----+------+---+-----+\n",
            "|employee_name|department|state|salary|age|bonus|\n",
            "+-------------+----------+-----+------+---+-----+\n",
            "|        James|     Sales|   NY| 90000| 34|10000|\n",
            "|      Michael|     Sales|   NY| 86000| 56|20000|\n",
            "|       Robert|     Sales|   CA| 81000| 30|23000|\n",
            "|        Maria|   Finance|   CA| 90000| 24|23000|\n",
            "|        Raman|   Finance|   CA| 99000| 40|24000|\n",
            "|        Scott|   Finance|   NY| 83000| 36|19000|\n",
            "|          Jen|   Finance|   NY| 79000| 53|15000|\n",
            "|         Jeff| Marketing|   CA| 80000| 25|18000|\n",
            "|        Kumar| Marketing|   NY| 91000| 50|21000|\n",
            "+-------------+----------+-----+------+---+-----+\n",
            "\n"
          ]
        }
      ]
    },
    {
      "cell_type": "markdown",
      "source": [
        "# Convert data from dataframe to RDD"
      ],
      "metadata": {
        "id": "mJnilUJkxuRt"
      }
    },
    {
      "cell_type": "code",
      "source": [
        "df.show()\n",
        "\n",
        "# COMMAND ----------\n",
        "\n",
        "type(df)\n",
        "\n"
      ],
      "metadata": {
        "colab": {
          "base_uri": "https://localhost:8080/",
          "height": 436
        },
        "id": "yeGmL_Mtnk3T",
        "outputId": "7e04e202-3e5a-40cd-9b24-5a9de742b575"
      },
      "execution_count": null,
      "outputs": [
        {
          "output_type": "stream",
          "name": "stdout",
          "text": [
            "+-------------+----------+-----+------+---+-----+\n",
            "|employee_name|department|state|salary|age|bonus|\n",
            "+-------------+----------+-----+------+---+-----+\n",
            "|        James|     Sales|   NY| 90000| 34|10000|\n",
            "|      Michael|     Sales|   NY| 86000| 56|20000|\n",
            "|       Robert|     Sales|   CA| 81000| 30|23000|\n",
            "|        Maria|   Finance|   CA| 90000| 24|23000|\n",
            "|        Raman|   Finance|   CA| 99000| 40|24000|\n",
            "|        Scott|   Finance|   NY| 83000| 36|19000|\n",
            "|          Jen|   Finance|   NY| 79000| 53|15000|\n",
            "|         Jeff| Marketing|   CA| 80000| 25|18000|\n",
            "|        Kumar| Marketing|   NY| 91000| 50|21000|\n",
            "+-------------+----------+-----+------+---+-----+\n",
            "\n"
          ]
        },
        {
          "output_type": "execute_result",
          "data": {
            "text/plain": [
              "pyspark.sql.dataframe.DataFrame"
            ],
            "text/html": [
              "<div style=\"max-width:800px; border: 1px solid var(--colab-border-color);\"><style>\n",
              "      pre.function-repr-contents {\n",
              "        overflow-x: auto;\n",
              "        padding: 8px 12px;\n",
              "        max-height: 500px;\n",
              "      }\n",
              "\n",
              "      pre.function-repr-contents.function-repr-contents-collapsed {\n",
              "        cursor: pointer;\n",
              "        max-height: 100px;\n",
              "      }\n",
              "    </style>\n",
              "    <pre style=\"white-space: initial; background:\n",
              "         var(--colab-secondary-surface-color); padding: 8px 12px;\n",
              "         border-bottom: 1px solid var(--colab-border-color);\"><b>pyspark.sql.dataframe.DataFrame</b><br/>def __init__(jdf: JavaObject, sql_ctx: Union[&#x27;SQLContext&#x27;, &#x27;SparkSession&#x27;])</pre><pre class=\"function-repr-contents function-repr-contents-collapsed\" style=\"\"><a class=\"filepath\" style=\"display:none\" href=\"#\">/usr/local/lib/python3.10/dist-packages/pyspark/sql/dataframe.py</a>A distributed collection of data grouped into named columns.\n",
              "\n",
              ".. versionadded:: 1.3.0\n",
              "\n",
              ".. versionchanged:: 3.4.0\n",
              "    Supports Spark Connect.\n",
              "\n",
              "Examples\n",
              "--------\n",
              "A :class:`DataFrame` is equivalent to a relational table in Spark SQL,\n",
              "and can be created using various functions in :class:`SparkSession`:\n",
              "\n",
              "&gt;&gt;&gt; people = spark.createDataFrame([\n",
              "...     {&quot;deptId&quot;: 1, &quot;age&quot;: 40, &quot;name&quot;: &quot;Hyukjin Kwon&quot;, &quot;gender&quot;: &quot;M&quot;, &quot;salary&quot;: 50},\n",
              "...     {&quot;deptId&quot;: 1, &quot;age&quot;: 50, &quot;name&quot;: &quot;Takuya Ueshin&quot;, &quot;gender&quot;: &quot;M&quot;, &quot;salary&quot;: 100},\n",
              "...     {&quot;deptId&quot;: 2, &quot;age&quot;: 60, &quot;name&quot;: &quot;Xinrong Meng&quot;, &quot;gender&quot;: &quot;F&quot;, &quot;salary&quot;: 150},\n",
              "...     {&quot;deptId&quot;: 3, &quot;age&quot;: 20, &quot;name&quot;: &quot;Haejoon Lee&quot;, &quot;gender&quot;: &quot;M&quot;, &quot;salary&quot;: 200}\n",
              "... ])\n",
              "\n",
              "Once created, it can be manipulated using the various domain-specific-language\n",
              "(DSL) functions defined in: :class:`DataFrame`, :class:`Column`.\n",
              "\n",
              "To select a column from the :class:`DataFrame`, use the apply method:\n",
              "\n",
              "&gt;&gt;&gt; age_col = people.age\n",
              "\n",
              "A more concrete example:\n",
              "\n",
              "&gt;&gt;&gt; # To create DataFrame using SparkSession\n",
              "... department = spark.createDataFrame([\n",
              "...     {&quot;id&quot;: 1, &quot;name&quot;: &quot;PySpark&quot;},\n",
              "...     {&quot;id&quot;: 2, &quot;name&quot;: &quot;ML&quot;},\n",
              "...     {&quot;id&quot;: 3, &quot;name&quot;: &quot;Spark SQL&quot;}\n",
              "... ])\n",
              "\n",
              "&gt;&gt;&gt; people.filter(people.age &gt; 30).join(\n",
              "...     department, people.deptId == department.id).groupBy(\n",
              "...     department.name, &quot;gender&quot;).agg({&quot;salary&quot;: &quot;avg&quot;, &quot;age&quot;: &quot;max&quot;}).show()\n",
              "+-------+------+-----------+--------+\n",
              "|   name|gender|avg(salary)|max(age)|\n",
              "+-------+------+-----------+--------+\n",
              "|     ML|     F|      150.0|      60|\n",
              "|PySpark|     M|       75.0|      50|\n",
              "+-------+------+-----------+--------+\n",
              "\n",
              "Notes\n",
              "-----\n",
              "A DataFrame should only be created as described above. It should not be directly\n",
              "created via using the constructor.</pre>\n",
              "      <script>\n",
              "      if (google.colab.kernel.accessAllowed && google.colab.files && google.colab.files.view) {\n",
              "        for (const element of document.querySelectorAll('.filepath')) {\n",
              "          element.style.display = 'block'\n",
              "          element.onclick = (event) => {\n",
              "            event.preventDefault();\n",
              "            event.stopPropagation();\n",
              "            google.colab.files.view(element.textContent, 80);\n",
              "          };\n",
              "        }\n",
              "      }\n",
              "      for (const element of document.querySelectorAll('.function-repr-contents')) {\n",
              "        element.onclick = (event) => {\n",
              "          event.preventDefault();\n",
              "          event.stopPropagation();\n",
              "          element.classList.toggle('function-repr-contents-collapsed');\n",
              "        };\n",
              "      }\n",
              "      </script>\n",
              "      </div>"
            ]
          },
          "metadata": {},
          "execution_count": 45
        }
      ]
    },
    {
      "cell_type": "code",
      "source": [
        "# COMMAND ----------\n",
        "\n",
        "rdd = df.rdd\n",
        "\n",
        "# COMMAND ----------\n",
        "\n",
        "type(rdd)\n",
        "\n"
      ],
      "metadata": {
        "colab": {
          "base_uri": "https://localhost:8080/",
          "height": 172
        },
        "id": "5YdeLuYonk6A",
        "outputId": "855436c4-94d9-4076-94d7-58c1fc9efc03"
      },
      "execution_count": null,
      "outputs": [
        {
          "output_type": "execute_result",
          "data": {
            "text/plain": [
              "pyspark.rdd.RDD"
            ],
            "text/html": [
              "<div style=\"max-width:800px; border: 1px solid var(--colab-border-color);\"><style>\n",
              "      pre.function-repr-contents {\n",
              "        overflow-x: auto;\n",
              "        padding: 8px 12px;\n",
              "        max-height: 500px;\n",
              "      }\n",
              "\n",
              "      pre.function-repr-contents.function-repr-contents-collapsed {\n",
              "        cursor: pointer;\n",
              "        max-height: 100px;\n",
              "      }\n",
              "    </style>\n",
              "    <pre style=\"white-space: initial; background:\n",
              "         var(--colab-secondary-surface-color); padding: 8px 12px;\n",
              "         border-bottom: 1px solid var(--colab-border-color);\"><b>pyspark.rdd.RDD</b><br/>def __init__(jrdd: &#x27;JavaObject&#x27;, ctx: &#x27;SparkContext&#x27;, jrdd_deserializer: Serializer=AutoBatchedSerializer(CPickleSerializer()))</pre><pre class=\"function-repr-contents function-repr-contents-collapsed\" style=\"\"><a class=\"filepath\" style=\"display:none\" href=\"#\">/usr/local/lib/python3.10/dist-packages/pyspark/rdd.py</a>A Resilient Distributed Dataset (RDD), the basic abstraction in Spark.\n",
              "Represents an immutable, partitioned collection of elements that can be\n",
              "operated on in parallel.</pre>\n",
              "      <script>\n",
              "      if (google.colab.kernel.accessAllowed && google.colab.files && google.colab.files.view) {\n",
              "        for (const element of document.querySelectorAll('.filepath')) {\n",
              "          element.style.display = 'block'\n",
              "          element.onclick = (event) => {\n",
              "            event.preventDefault();\n",
              "            event.stopPropagation();\n",
              "            google.colab.files.view(element.textContent, 336);\n",
              "          };\n",
              "        }\n",
              "      }\n",
              "      for (const element of document.querySelectorAll('.function-repr-contents')) {\n",
              "        element.onclick = (event) => {\n",
              "          event.preventDefault();\n",
              "          event.stopPropagation();\n",
              "          element.classList.toggle('function-repr-contents-collapsed');\n",
              "        };\n",
              "      }\n",
              "      </script>\n",
              "      </div>"
            ]
          },
          "metadata": {},
          "execution_count": 46
        }
      ]
    },
    {
      "cell_type": "code",
      "source": [
        "# COMMAND ----------\n",
        "\n",
        "rdd.collect()\n",
        "\n",
        "# COMMAND ----------\n",
        "\n",
        "rdd.filter(lambda x: x[2] == 'NY' ).collect()\n",
        "\n",
        "\n"
      ],
      "metadata": {
        "id": "UzYJAIdCm2_Z",
        "colab": {
          "base_uri": "https://localhost:8080/"
        },
        "outputId": "e4feeb53-ba94-4287-acc6-9a083b5a1db7"
      },
      "execution_count": null,
      "outputs": [
        {
          "output_type": "execute_result",
          "data": {
            "text/plain": [
              "[Row(employee_name='James', department='Sales', state='NY', salary=90000, age=34, bonus=10000),\n",
              " Row(employee_name='Michael', department='Sales', state='NY', salary=86000, age=56, bonus=20000),\n",
              " Row(employee_name='Scott', department='Finance', state='NY', salary=83000, age=36, bonus=19000),\n",
              " Row(employee_name='Jen', department='Finance', state='NY', salary=79000, age=53, bonus=15000),\n",
              " Row(employee_name='Kumar', department='Marketing', state='NY', salary=91000, age=50, bonus=21000)]"
            ]
          },
          "metadata": {},
          "execution_count": 48
        }
      ]
    },
    {
      "cell_type": "code",
      "source": [
        "# COMMAND ----------\n",
        "\n",
        "rdd.filter(lambda x: x[\"salary\"] >87000 ).collect()"
      ],
      "metadata": {
        "colab": {
          "base_uri": "https://localhost:8080/"
        },
        "id": "x9Udhj9pyLhc",
        "outputId": "714dc510-b87c-4b58-9ac6-8af4a3b90c11"
      },
      "execution_count": null,
      "outputs": [
        {
          "output_type": "execute_result",
          "data": {
            "text/plain": [
              "[Row(employee_name='James', department='Sales', state='NY', salary=90000, age=34, bonus=10000),\n",
              " Row(employee_name='Maria', department='Finance', state='CA', salary=90000, age=24, bonus=23000),\n",
              " Row(employee_name='Raman', department='Finance', state='CA', salary=99000, age=40, bonus=24000),\n",
              " Row(employee_name='Kumar', department='Marketing', state='NY', salary=91000, age=50, bonus=21000)]"
            ]
          },
          "metadata": {},
          "execution_count": 49
        }
      ]
    },
    {
      "cell_type": "markdown",
      "source": [
        "# Spark SQL"
      ],
      "metadata": {
        "id": "d5gUcW_3yhyg"
      }
    },
    {
      "cell_type": "code",
      "source": [
        "\n",
        "df = spark.read.options(header='True', inferSchema='True').csv('/content/sample_data/StudentData_.csv')\n",
        "df.show()\n",
        "\n",
        "# COMMAND ----------\n",
        "\n",
        "df.createOrReplaceTempView(\"Student\")\n",
        "\n",
        "# COMMAND ----------\n"
      ],
      "metadata": {
        "colab": {
          "base_uri": "https://localhost:8080/"
        },
        "id": "eGMc77fnyTmJ",
        "outputId": "7e699fb7-2b2a-42c2-8cc5-3ca2194a563a"
      },
      "execution_count": null,
      "outputs": [
        {
          "output_type": "stream",
          "name": "stdout",
          "text": [
            "+---+------+----------------+------+------+-----+--------------------+\n",
            "|age|gender|            name|course|  roll|marks|               email|\n",
            "+---+------+----------------+------+------+-----+--------------------+\n",
            "| 28|Female| Hubert Oliveras|    DB|  2984|   59|Annika Hoffman_Na...|\n",
            "| 29|Female|Toshiko Hillyard| Cloud| 12899|   62|Margene Moores_Ma...|\n",
            "| 28|  Male|  Celeste Lollis|    PF| 21267|   45|Jeannetta Golden_...|\n",
            "| 29|Female|    Elenore Choy|    DB| 32877|   29|Billi Clore_Mitzi...|\n",
            "| 28|  Male|  Sheryll Towler|   DSA| 41487|   41|Claude Panos_Judi...|\n",
            "| 28|  Male|  Margene Moores|   MVC| 52771|   32|Toshiko Hillyard_...|\n",
            "| 28|  Male|     Neda Briski|   OOP| 61973|   69|Alberta Freund_El...|\n",
            "| 28|Female|    Claude Panos| Cloud| 72409|   85|Sheryll Towler_Al...|\n",
            "| 28|  Male|  Celeste Lollis|   MVC| 81492|   64|Nicole Harwood_Cl...|\n",
            "| 29|  Male|  Cordie Harnois|   OOP| 92882|   51|Judie Chipps_Clem...|\n",
            "| 29|Female|       Kena Wild|   DSA|102285|   35|Dustin Feagins_Ma...|\n",
            "| 29|  Male| Ernest Rossbach|    DB|111449|   53|Maybell Duguay_Ab...|\n",
            "| 28|Female|  Latia Vanhoose|    DB|122502|   27|Latia Vanhoose_Mi...|\n",
            "| 29|Female|  Latia Vanhoose|   MVC|132110|   55|Eda Neathery_Nico...|\n",
            "| 29|  Male|     Neda Briski|    PF|141770|   42|Margene Moores_Mi...|\n",
            "| 29|Female|  Latia Vanhoose|    DB|152159|   27|Claude Panos_Sant...|\n",
            "| 29|  Male|  Loris Crossett|   MVC|161771|   36|Mitzi Seldon_Jenn...|\n",
            "| 29|  Male|  Annika Hoffman|   OOP|171660|   22|Taryn Brownlee_Mi...|\n",
            "| 29|  Male|   Santa Kerfien|    PF|182129|   56|Judie Chipps_Tary...|\n",
            "| 28|Female|Mickey Cortright|    DB|192537|   62|Ernest Rossbach_M...|\n",
            "+---+------+----------------+------+------+-----+--------------------+\n",
            "only showing top 20 rows\n",
            "\n"
          ]
        }
      ]
    },
    {
      "cell_type": "code",
      "source": [
        "# Student.collect()   ----> Not running\n",
        "# Student.show()   ----> Not running"
      ],
      "metadata": {
        "id": "W32vJQG1yySP"
      },
      "execution_count": null,
      "outputs": []
    },
    {
      "cell_type": "code",
      "source": [
        "\n",
        "spark.sql(\"select course, gender, count(*) from Student group by course, gender\").show()\n",
        "df.groupBy(\"course\", \"gender\").count().show()"
      ],
      "metadata": {
        "colab": {
          "base_uri": "https://localhost:8080/"
        },
        "id": "GwrR2-FHyssQ",
        "outputId": "6974f843-204b-4a37-8ac6-8b9426acaeec"
      },
      "execution_count": null,
      "outputs": [
        {
          "output_type": "stream",
          "name": "stdout",
          "text": [
            "+------+------+--------+\n",
            "|course|gender|count(1)|\n",
            "+------+------+--------+\n",
            "|   OOP|  Male|      70|\n",
            "|    DB|  Male|      82|\n",
            "| Cloud|Female|     106|\n",
            "|  NULL|  NULL|       1|\n",
            "|   MVC|  Male|      86|\n",
            "|   DSA|Female|      98|\n",
            "|   DSA| Male |       1|\n",
            "|    PF|  Male|      97|\n",
            "|   MVC|Female|      71|\n",
            "| Cloud|  Male|      86|\n",
            "|    PF|Female|      69|\n",
            "|   DSA|  Male|      78|\n",
            "|    DB|Female|      75|\n",
            "|   OOP|Female|      82|\n",
            "+------+------+--------+\n",
            "\n",
            "+------+------+-----+\n",
            "|course|gender|count|\n",
            "+------+------+-----+\n",
            "|   OOP|  Male|   70|\n",
            "|    DB|  Male|   82|\n",
            "| Cloud|Female|  106|\n",
            "|  NULL|  NULL|    1|\n",
            "|   MVC|  Male|   86|\n",
            "|   DSA|Female|   98|\n",
            "|   DSA| Male |    1|\n",
            "|    PF|  Male|   97|\n",
            "|   MVC|Female|   71|\n",
            "| Cloud|  Male|   86|\n",
            "|    PF|Female|   69|\n",
            "|   DSA|  Male|   78|\n",
            "|    DB|Female|   75|\n",
            "|   OOP|Female|   82|\n",
            "+------+------+-----+\n",
            "\n"
          ]
        }
      ]
    },
    {
      "cell_type": "markdown",
      "source": [
        "# Write DataFrame in different file"
      ],
      "metadata": {
        "id": "Ut8IBBltzLVF"
      }
    },
    {
      "cell_type": "code",
      "source": [
        "df.show()"
      ],
      "metadata": {
        "colab": {
          "base_uri": "https://localhost:8080/"
        },
        "id": "JMmZq2bczPrn",
        "outputId": "2eb1771f-038a-4a3e-b685-76567fc0ac70"
      },
      "execution_count": null,
      "outputs": [
        {
          "output_type": "stream",
          "name": "stdout",
          "text": [
            "+---+------+----------------+------+------+-----+--------------------+\n",
            "|age|gender|            name|course|  roll|marks|               email|\n",
            "+---+------+----------------+------+------+-----+--------------------+\n",
            "| 28|Female| Hubert Oliveras|    DB|  2984|   59|Annika Hoffman_Na...|\n",
            "| 29|Female|Toshiko Hillyard| Cloud| 12899|   62|Margene Moores_Ma...|\n",
            "| 28|  Male|  Celeste Lollis|    PF| 21267|   45|Jeannetta Golden_...|\n",
            "| 29|Female|    Elenore Choy|    DB| 32877|   29|Billi Clore_Mitzi...|\n",
            "| 28|  Male|  Sheryll Towler|   DSA| 41487|   41|Claude Panos_Judi...|\n",
            "| 28|  Male|  Margene Moores|   MVC| 52771|   32|Toshiko Hillyard_...|\n",
            "| 28|  Male|     Neda Briski|   OOP| 61973|   69|Alberta Freund_El...|\n",
            "| 28|Female|    Claude Panos| Cloud| 72409|   85|Sheryll Towler_Al...|\n",
            "| 28|  Male|  Celeste Lollis|   MVC| 81492|   64|Nicole Harwood_Cl...|\n",
            "| 29|  Male|  Cordie Harnois|   OOP| 92882|   51|Judie Chipps_Clem...|\n",
            "| 29|Female|       Kena Wild|   DSA|102285|   35|Dustin Feagins_Ma...|\n",
            "| 29|  Male| Ernest Rossbach|    DB|111449|   53|Maybell Duguay_Ab...|\n",
            "| 28|Female|  Latia Vanhoose|    DB|122502|   27|Latia Vanhoose_Mi...|\n",
            "| 29|Female|  Latia Vanhoose|   MVC|132110|   55|Eda Neathery_Nico...|\n",
            "| 29|  Male|     Neda Briski|    PF|141770|   42|Margene Moores_Mi...|\n",
            "| 29|Female|  Latia Vanhoose|    DB|152159|   27|Claude Panos_Sant...|\n",
            "| 29|  Male|  Loris Crossett|   MVC|161771|   36|Mitzi Seldon_Jenn...|\n",
            "| 29|  Male|  Annika Hoffman|   OOP|171660|   22|Taryn Brownlee_Mi...|\n",
            "| 29|  Male|   Santa Kerfien|    PF|182129|   56|Judie Chipps_Tary...|\n",
            "| 28|Female|Mickey Cortright|    DB|192537|   62|Ernest Rossbach_M...|\n",
            "+---+------+----------------+------+------+-----+--------------------+\n",
            "only showing top 20 rows\n",
            "\n"
          ]
        }
      ]
    },
    {
      "cell_type": "code",
      "source": [
        "df.write.mode(\"overwrite\").options(header='True').csv('/content/sample_data/output_sachin')\n",
        "\n",
        "# COMMAND ----------\n"
      ],
      "metadata": {
        "id": "2M6PUIk0zAeG"
      },
      "execution_count": null,
      "outputs": []
    },
    {
      "cell_type": "code",
      "source": [
        "\n",
        "df = spark.read.options(header='True', inferSchema='True').csv('/content/sample_data/output_sachin')\n",
        "df.show()"
      ],
      "metadata": {
        "colab": {
          "base_uri": "https://localhost:8080/"
        },
        "id": "cuYE3OUOzaWu",
        "outputId": "1307ba1a-6478-4380-d8f2-231a0b2659f9"
      },
      "execution_count": null,
      "outputs": [
        {
          "output_type": "stream",
          "name": "stdout",
          "text": [
            "+---+------+----------------+------+------+-----+--------------------+\n",
            "|age|gender|            name|course|  roll|marks|               email|\n",
            "+---+------+----------------+------+------+-----+--------------------+\n",
            "| 28|Female| Hubert Oliveras|    DB|  2984|   59|Annika Hoffman_Na...|\n",
            "| 29|Female|Toshiko Hillyard| Cloud| 12899|   62|Margene Moores_Ma...|\n",
            "| 28|  Male|  Celeste Lollis|    PF| 21267|   45|Jeannetta Golden_...|\n",
            "| 29|Female|    Elenore Choy|    DB| 32877|   29|Billi Clore_Mitzi...|\n",
            "| 28|  Male|  Sheryll Towler|   DSA| 41487|   41|Claude Panos_Judi...|\n",
            "| 28|  Male|  Margene Moores|   MVC| 52771|   32|Toshiko Hillyard_...|\n",
            "| 28|  Male|     Neda Briski|   OOP| 61973|   69|Alberta Freund_El...|\n",
            "| 28|Female|    Claude Panos| Cloud| 72409|   85|Sheryll Towler_Al...|\n",
            "| 28|  Male|  Celeste Lollis|   MVC| 81492|   64|Nicole Harwood_Cl...|\n",
            "| 29|  Male|  Cordie Harnois|   OOP| 92882|   51|Judie Chipps_Clem...|\n",
            "| 29|Female|       Kena Wild|   DSA|102285|   35|Dustin Feagins_Ma...|\n",
            "| 29|  Male| Ernest Rossbach|    DB|111449|   53|Maybell Duguay_Ab...|\n",
            "| 28|Female|  Latia Vanhoose|    DB|122502|   27|Latia Vanhoose_Mi...|\n",
            "| 29|Female|  Latia Vanhoose|   MVC|132110|   55|Eda Neathery_Nico...|\n",
            "| 29|  Male|     Neda Briski|    PF|141770|   42|Margene Moores_Mi...|\n",
            "| 29|Female|  Latia Vanhoose|    DB|152159|   27|Claude Panos_Sant...|\n",
            "| 29|  Male|  Loris Crossett|   MVC|161771|   36|Mitzi Seldon_Jenn...|\n",
            "| 29|  Male|  Annika Hoffman|   OOP|171660|   22|Taryn Brownlee_Mi...|\n",
            "| 29|  Male|   Santa Kerfien|    PF|182129|   56|Judie Chipps_Tary...|\n",
            "| 28|Female|Mickey Cortright|    DB|192537|   62|Ernest Rossbach_M...|\n",
            "+---+------+----------------+------+------+-----+--------------------+\n",
            "only showing top 20 rows\n",
            "\n"
          ]
        }
      ]
    }
  ]
}