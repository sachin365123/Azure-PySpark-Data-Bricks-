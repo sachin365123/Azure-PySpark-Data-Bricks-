{
 "cells": [
  {
   "cell_type": "markdown",
   "metadata": {
    "application/vnd.databricks.v1+cell": {
     "cellMetadata": {},
     "inputWidgets": {},
     "nuid": "2a2421c3-a315-4291-ad8b-264ee3b555bf",
     "showTitle": false,
     "tableResultSettingsMap": {},
     "title": ""
    }
   },
   "source": [
    "%md\n",
    "Pyspark Coding Interview Qusetion:\n",
    "==========================\n",
    "#### Run this file in Databricks Azure cloud"
   ]
  },
  {
   "cell_type": "code",
   "execution_count": 0,
   "metadata": {
    "application/vnd.databricks.v1+cell": {
     "cellMetadata": {},
     "inputWidgets": {},
     "nuid": "604ef9e6-bc97-468d-ab39-df43607e4c12",
     "showTitle": false,
     "tableResultSettingsMap": {},
     "title": ""
    }
   },
   "outputs": [],
   "source": [
    "# Stop SparkSession\n",
    "# It will clear the history of Compute -> Cluster -> Spark UI -> Jobs and Stages\n",
    "spark.stop()"
   ]
  },
  {
   "cell_type": "markdown",
   "metadata": {
    "application/vnd.databricks.v1+cell": {
     "cellMetadata": {},
     "inputWidgets": {},
     "nuid": "10f47590-36a8-4570-b2dd-631b47e582bb",
     "showTitle": false,
     "tableResultSettingsMap": {},
     "title": ""
    }
   },
   "source": [
    "#### getNumPartitions() is neither an action nor a transformation in PySpark or Apache Spark. Instead, it is a method used to retrieve the number of partitions of an RDD."
   ]
  },
  {
   "cell_type": "code",
   "execution_count": 0,
   "metadata": {
    "application/vnd.databricks.v1+cell": {
     "cellMetadata": {
      "byteLimit": 2048000,
      "rowLimit": 10000
     },
     "inputWidgets": {},
     "nuid": "433a753d-c2eb-4665-98d9-1e4cee08cde5",
     "showTitle": false,
     "tableResultSettingsMap": {},
     "title": ""
    }
   },
   "outputs": [
    {
     "output_type": "stream",
     "name": "stdout",
     "output_type": "stream",
     "text": [
      "Hello\n"
     ]
    }
   ],
   "source": [
    "print(\"Hello\")"
   ]
  },
  {
   "cell_type": "markdown",
   "metadata": {
    "application/vnd.databricks.v1+cell": {
     "cellMetadata": {},
     "inputWidgets": {},
     "nuid": "c236b180-c50b-41ff-b8d2-d77701e9c023",
     "showTitle": false,
     "tableResultSettingsMap": {},
     "title": ""
    }
   },
   "source": [
    "Pyspark Coding Interview Qusetion:\n",
    "==========================\n",
    "1. Create df in pyspark.\n",
    "2. find avg stock value on daily basis for each stock.\n",
    "3. find max avg stock value of each stock."
   ]
  },
  {
   "cell_type": "markdown",
   "metadata": {
    "application/vnd.databricks.v1+cell": {
     "cellMetadata": {},
     "inputWidgets": {},
     "nuid": "9769aacb-c59f-4c85-a075-5a84b23ab87a",
     "showTitle": false,
     "tableResultSettingsMap": {},
     "title": ""
    }
   },
   "source": [
    "#### 1. Create df in pyspark.\n",
    "#### ============================="
   ]
  },
  {
   "cell_type": "code",
   "execution_count": 0,
   "metadata": {
    "application/vnd.databricks.v1+cell": {
     "cellMetadata": {
      "byteLimit": 2048000,
      "rowLimit": 10000
     },
     "inputWidgets": {},
     "nuid": "c7199e66-ca36-426a-a7f1-1e4356c5a6d2",
     "showTitle": false,
     "tableResultSettingsMap": {},
     "title": ""
    }
   },
   "outputs": [],
   "source": [
    "from pyspark.sql.functions import *\n",
    "from pyspark.sql.types import *\n",
    "data = [(\"2023-01-01\",\"APPL\",150.00),\\\n",
    " (\"2023-01-02\",\"AAPL\",155.00),\\\n",
    " (\"2023-01-01\",\"GOOG\",2500.00),\\\n",
    " (\"2023-01-02\",\"GOOG\",2550.00),\\\n",
    " (\"2023-01-01\",\"MFST\",300.00),\\\n",
    " (\"2023-01-02\",\"MFST\",310.0)]\n"
   ]
  },
  {
   "cell_type": "code",
   "execution_count": 0,
   "metadata": {
    "application/vnd.databricks.v1+cell": {
     "cellMetadata": {
      "byteLimit": 2048000,
      "rowLimit": 10000
     },
     "inputWidgets": {},
     "nuid": "3e11bf29-8b4e-4f27-b076-b2305a2f69aa",
     "showTitle": false,
     "tableResultSettingsMap": {},
     "title": ""
    }
   },
   "outputs": [
    {
     "output_type": "display_data",
     "data": {
      "text/html": [
       "<style scoped>\n",
       "  .table-result-container {\n",
       "    max-height: 300px;\n",
       "    overflow: auto;\n",
       "  }\n",
       "  table, th, td {\n",
       "    border: 1px solid black;\n",
       "    border-collapse: collapse;\n",
       "  }\n",
       "  th, td {\n",
       "    padding: 5px;\n",
       "  }\n",
       "  th {\n",
       "    text-align: left;\n",
       "  }\n",
       "</style><div class='table-result-container'><table class='table-result'><thead style='background-color: white'><tr><th>date</th><th>stock</th><th>value</th></tr></thead><tbody><tr><td>2023-01-01</td><td>APPL</td><td>150.0</td></tr><tr><td>2023-01-02</td><td>AAPL</td><td>155.0</td></tr><tr><td>2023-01-01</td><td>GOOG</td><td>2500.0</td></tr><tr><td>2023-01-02</td><td>GOOG</td><td>2550.0</td></tr><tr><td>2023-01-01</td><td>MFST</td><td>300.0</td></tr><tr><td>2023-01-02</td><td>MFST</td><td>310.0</td></tr></tbody></table></div>"
      ]
     },
     "metadata": {
      "application/vnd.databricks.v1+output": {
       "addedWidgets": {},
       "aggData": [],
       "aggError": "",
       "aggOverflow": false,
       "aggSchema": [],
       "aggSeriesLimitReached": false,
       "aggType": "",
       "arguments": {},
       "columnCustomDisplayInfos": {},
       "data": [
        [
         "2023-01-01",
         "APPL",
         150.0
        ],
        [
         "2023-01-02",
         "AAPL",
         155.0
        ],
        [
         "2023-01-01",
         "GOOG",
         2500.0
        ],
        [
         "2023-01-02",
         "GOOG",
         2550.0
        ],
        [
         "2023-01-01",
         "MFST",
         300.0
        ],
        [
         "2023-01-02",
         "MFST",
         310.0
        ]
       ],
       "datasetInfos": [],
       "dbfsResultPath": null,
       "isJsonSchema": true,
       "metadata": {},
       "overflow": false,
       "plotOptions": {
        "customPlotOptions": {},
        "displayType": "table",
        "pivotAggregation": null,
        "pivotColumns": null,
        "xColumns": null,
        "yColumns": null
       },
       "removedWidgets": [],
       "schema": [
        {
         "metadata": "{}",
         "name": "date",
         "type": "\"string\""
        },
        {
         "metadata": "{}",
         "name": "stock",
         "type": "\"string\""
        },
        {
         "metadata": "{}",
         "name": "value",
         "type": "\"double\""
        }
       ],
       "type": "table"
      }
     },
     "output_type": "display_data"
    },
    {
     "output_type": "stream",
     "name": "stdout",
     "output_type": "stream",
     "text": [
      "root\n |-- date: string (nullable = true)\n |-- stock: string (nullable = true)\n |-- value: double (nullable = true)\n\n"
     ]
    }
   ],
   "source": [
    "schema = [\"date\",\"stock\",\"value\"]\n",
    "df = spark.createDataFrame(data=data,schema=schema)\n",
    "display(df)\n",
    "df.printSchema()"
   ]
  },
  {
   "cell_type": "markdown",
   "metadata": {
    "application/vnd.databricks.v1+cell": {
     "cellMetadata": {},
     "inputWidgets": {},
     "nuid": "b8d548bf-a637-47da-b0d9-8eaf742b98ff",
     "showTitle": false,
     "tableResultSettingsMap": {},
     "title": ""
    }
   },
   "source": [
    "#### 2. find avg stock value on daily basis for each stock.:\n",
    "====================================\n",
    "#### i. Convert the \"date\" column from string to date type:"
   ]
  },
  {
   "cell_type": "code",
   "execution_count": 0,
   "metadata": {
    "application/vnd.databricks.v1+cell": {
     "cellMetadata": {
      "byteLimit": 2048000,
      "rowLimit": 10000
     },
     "inputWidgets": {},
     "nuid": "d07ebb9e-39a8-42a1-93ac-005d595e104e",
     "showTitle": false,
     "tableResultSettingsMap": {},
     "title": ""
    }
   },
   "outputs": [
    {
     "output_type": "display_data",
     "data": {
      "text/html": [
       "<style scoped>\n",
       "  .table-result-container {\n",
       "    max-height: 300px;\n",
       "    overflow: auto;\n",
       "  }\n",
       "  table, th, td {\n",
       "    border: 1px solid black;\n",
       "    border-collapse: collapse;\n",
       "  }\n",
       "  th, td {\n",
       "    padding: 5px;\n",
       "  }\n",
       "  th {\n",
       "    text-align: left;\n",
       "  }\n",
       "</style><div class='table-result-container'><table class='table-result'><thead style='background-color: white'><tr><th>date</th><th>stock</th><th>value</th></tr></thead><tbody><tr><td>2023-01-01</td><td>APPL</td><td>150.0</td></tr><tr><td>2023-01-02</td><td>AAPL</td><td>155.0</td></tr><tr><td>2023-01-01</td><td>GOOG</td><td>2500.0</td></tr><tr><td>2023-01-02</td><td>GOOG</td><td>2550.0</td></tr><tr><td>2023-01-01</td><td>MFST</td><td>300.0</td></tr><tr><td>2023-01-02</td><td>MFST</td><td>310.0</td></tr></tbody></table></div>"
      ]
     },
     "metadata": {
      "application/vnd.databricks.v1+output": {
       "addedWidgets": {},
       "aggData": [],
       "aggError": "",
       "aggOverflow": false,
       "aggSchema": [],
       "aggSeriesLimitReached": false,
       "aggType": "",
       "arguments": {},
       "columnCustomDisplayInfos": {},
       "data": [
        [
         "2023-01-01",
         "APPL",
         150.0
        ],
        [
         "2023-01-02",
         "AAPL",
         155.0
        ],
        [
         "2023-01-01",
         "GOOG",
         2500.0
        ],
        [
         "2023-01-02",
         "GOOG",
         2550.0
        ],
        [
         "2023-01-01",
         "MFST",
         300.0
        ],
        [
         "2023-01-02",
         "MFST",
         310.0
        ]
       ],
       "datasetInfos": [],
       "dbfsResultPath": null,
       "isJsonSchema": true,
       "metadata": {},
       "overflow": false,
       "plotOptions": {
        "customPlotOptions": {},
        "displayType": "table",
        "pivotAggregation": null,
        "pivotColumns": null,
        "xColumns": null,
        "yColumns": null
       },
       "removedWidgets": [],
       "schema": [
        {
         "metadata": "{}",
         "name": "date",
         "type": "\"date\""
        },
        {
         "metadata": "{}",
         "name": "stock",
         "type": "\"string\""
        },
        {
         "metadata": "{}",
         "name": "value",
         "type": "\"double\""
        }
       ],
       "type": "table"
      }
     },
     "output_type": "display_data"
    },
    {
     "output_type": "stream",
     "name": "stdout",
     "output_type": "stream",
     "text": [
      "root\n |-- date: date (nullable = true)\n |-- stock: string (nullable = true)\n |-- value: double (nullable = true)\n\n"
     ]
    }
   ],
   "source": [
    "df1 = df.withColumn(\"date\",to_date(col(\"date\")))\n",
    "display(df1)\n",
    "df1.printSchema()"
   ]
  },
  {
   "cell_type": "code",
   "execution_count": 0,
   "metadata": {
    "application/vnd.databricks.v1+cell": {
     "cellMetadata": {
      "byteLimit": 2048000,
      "rowLimit": 10000
     },
     "inputWidgets": {},
     "nuid": "03b93133-c099-4f26-85ca-eba94863b1b3",
     "showTitle": false,
     "tableResultSettingsMap": {},
     "title": ""
    }
   },
   "outputs": [
    {
     "output_type": "display_data",
     "data": {
      "text/html": [
       "<style scoped>\n",
       "  .table-result-container {\n",
       "    max-height: 300px;\n",
       "    overflow: auto;\n",
       "  }\n",
       "  table, th, td {\n",
       "    border: 1px solid black;\n",
       "    border-collapse: collapse;\n",
       "  }\n",
       "  th, td {\n",
       "    padding: 5px;\n",
       "  }\n",
       "  th {\n",
       "    text-align: left;\n",
       "  }\n",
       "</style><div class='table-result-container'><table class='table-result'><thead style='background-color: white'><tr><th>date</th><th>stock</th><th>avg_stock_value</th></tr></thead><tbody><tr><td>2023-01-02</td><td>GOOG</td><td>2550.0</td></tr><tr><td>2023-01-01</td><td>GOOG</td><td>2500.0</td></tr><tr><td>2023-01-02</td><td>MFST</td><td>310.0</td></tr><tr><td>2023-01-01</td><td>MFST</td><td>300.0</td></tr><tr><td>2023-01-02</td><td>AAPL</td><td>155.0</td></tr><tr><td>2023-01-01</td><td>APPL</td><td>150.0</td></tr></tbody></table></div>"
      ]
     },
     "metadata": {
      "application/vnd.databricks.v1+output": {
       "addedWidgets": {},
       "aggData": [],
       "aggError": "",
       "aggOverflow": false,
       "aggSchema": [],
       "aggSeriesLimitReached": false,
       "aggType": "",
       "arguments": {},
       "columnCustomDisplayInfos": {},
       "data": [
        [
         "2023-01-02",
         "GOOG",
         2550.0
        ],
        [
         "2023-01-01",
         "GOOG",
         2500.0
        ],
        [
         "2023-01-02",
         "MFST",
         310.0
        ],
        [
         "2023-01-01",
         "MFST",
         300.0
        ],
        [
         "2023-01-02",
         "AAPL",
         155.0
        ],
        [
         "2023-01-01",
         "APPL",
         150.0
        ]
       ],
       "datasetInfos": [],
       "dbfsResultPath": null,
       "isJsonSchema": true,
       "metadata": {},
       "overflow": false,
       "plotOptions": {
        "customPlotOptions": {},
        "displayType": "table",
        "pivotAggregation": null,
        "pivotColumns": null,
        "xColumns": null,
        "yColumns": null
       },
       "removedWidgets": [],
       "schema": [
        {
         "metadata": "{}",
         "name": "date",
         "type": "\"date\""
        },
        {
         "metadata": "{}",
         "name": "stock",
         "type": "\"string\""
        },
        {
         "metadata": "{}",
         "name": "avg_stock_value",
         "type": "\"double\""
        }
       ],
       "type": "table"
      }
     },
     "output_type": "display_data"
    }
   ],
   "source": [
    "from pyspark.sql.functions import *\n",
    "df_avg = df1.groupBy(col(\"date\"),col(\"stock\"))\\\n",
    " .agg(avg(col(\"value\"))\\\n",
    " .alias(\"avg_stock_value\"))\\\n",
    " .orderBy(col(\"avg_stock_value\").desc())\n",
    "display(df_avg)"
   ]
  },
  {
   "cell_type": "code",
   "execution_count": 0,
   "metadata": {
    "application/vnd.databricks.v1+cell": {
     "cellMetadata": {
      "byteLimit": 2048000,
      "rowLimit": 10000
     },
     "inputWidgets": {},
     "nuid": "e8182d5e-52c8-4abf-a558-a3fe006dd05b",
     "showTitle": false,
     "tableResultSettingsMap": {},
     "title": ""
    }
   },
   "outputs": [
    {
     "output_type": "stream",
     "name": "stdout",
     "output_type": "stream",
     "text": [
      "+----------+-----+---------------+\n|date      |stock|avg_stock_value|\n+----------+-----+---------------+\n|2023-01-02|GOOG |2550.0         |\n|2023-01-01|GOOG |2500.0         |\n|2023-01-02|MFST |310.0          |\n|2023-01-01|MFST |300.0          |\n|2023-01-02|AAPL |155.0          |\n|2023-01-01|APPL |150.0          |\n+----------+-----+---------------+\n\n"
     ]
    }
   ],
   "source": [
    "df1.createOrReplaceTempView(\"avg_stock_value_table\")\n",
    "spark.sql(\"select date,stock,avg(value) as avg_stock_value from avg_stock_value_table group by date,stock order by avg_stock_value desc\").show(truncate=False)"
   ]
  },
  {
   "cell_type": "markdown",
   "metadata": {
    "application/vnd.databricks.v1+cell": {
     "cellMetadata": {},
     "inputWidgets": {},
     "nuid": "0130c0bc-3c73-4ef7-b7a3-d89b5562022a",
     "showTitle": false,
     "tableResultSettingsMap": {},
     "title": ""
    }
   },
   "source": [
    "#### 3. find max avg stock value of each stock.:\n",
    "#### ============================="
   ]
  },
  {
   "cell_type": "code",
   "execution_count": 0,
   "metadata": {
    "application/vnd.databricks.v1+cell": {
     "cellMetadata": {
      "byteLimit": 2048000,
      "rowLimit": 10000
     },
     "inputWidgets": {},
     "nuid": "1f7cf9dc-dfc6-4f28-982d-3a04b27f5f03",
     "showTitle": false,
     "tableResultSettingsMap": {},
     "title": ""
    }
   },
   "outputs": [
    {
     "output_type": "display_data",
     "data": {
      "text/html": [
       "<style scoped>\n",
       "  .table-result-container {\n",
       "    max-height: 300px;\n",
       "    overflow: auto;\n",
       "  }\n",
       "  table, th, td {\n",
       "    border: 1px solid black;\n",
       "    border-collapse: collapse;\n",
       "  }\n",
       "  th, td {\n",
       "    padding: 5px;\n",
       "  }\n",
       "  th {\n",
       "    text-align: left;\n",
       "  }\n",
       "</style><div class='table-result-container'><table class='table-result'><thead style='background-color: white'><tr><th>stock</th><th>max_avg_stock</th></tr></thead><tbody><tr><td>APPL</td><td>150.0</td></tr><tr><td>GOOG</td><td>2550.0</td></tr><tr><td>AAPL</td><td>155.0</td></tr><tr><td>MFST</td><td>310.0</td></tr></tbody></table></div>"
      ]
     },
     "metadata": {
      "application/vnd.databricks.v1+output": {
       "addedWidgets": {},
       "aggData": [],
       "aggError": "",
       "aggOverflow": false,
       "aggSchema": [],
       "aggSeriesLimitReached": false,
       "aggType": "",
       "arguments": {},
       "columnCustomDisplayInfos": {},
       "data": [
        [
         "APPL",
         150.0
        ],
        [
         "GOOG",
         2550.0
        ],
        [
         "AAPL",
         155.0
        ],
        [
         "MFST",
         310.0
        ]
       ],
       "datasetInfos": [],
       "dbfsResultPath": null,
       "isJsonSchema": true,
       "metadata": {},
       "overflow": false,
       "plotOptions": {
        "customPlotOptions": {},
        "displayType": "table",
        "pivotAggregation": null,
        "pivotColumns": null,
        "xColumns": null,
        "yColumns": null
       },
       "removedWidgets": [],
       "schema": [
        {
         "metadata": "{}",
         "name": "stock",
         "type": "\"string\""
        },
        {
         "metadata": "{}",
         "name": "max_avg_stock",
         "type": "\"double\""
        }
       ],
       "type": "table"
      }
     },
     "output_type": "display_data"
    }
   ],
   "source": [
    "df_avg_max_stock = df_avg.groupBy(col(\"stock\"))\\\n",
    " .agg(max(col(\"avg_stock_value\"))\\\n",
    " .alias(\"max_avg_stock\"))\n",
    "display(df_avg_max_stock)"
   ]
  },
  {
   "cell_type": "code",
   "execution_count": 0,
   "metadata": {
    "application/vnd.databricks.v1+cell": {
     "cellMetadata": {
      "byteLimit": 2048000,
      "rowLimit": 10000
     },
     "inputWidgets": {},
     "nuid": "fb6a39c0-d19a-47d7-9b3b-64ce21d67b57",
     "showTitle": false,
     "tableResultSettingsMap": {},
     "title": ""
    }
   },
   "outputs": [
    {
     "output_type": "stream",
     "name": "stdout",
     "output_type": "stream",
     "text": [
      "+-----+-------------+\n|stock|max_avg_stock|\n+-----+-------------+\n|APPL |150.0        |\n|GOOG |2525.0       |\n|AAPL |155.0        |\n|MFST |305.0        |\n+-----+-------------+\n\n"
     ]
    }
   ],
   "source": [
    "df_avg.createOrReplaceTempView(\"avg_stock\")\n",
    "spark.sql(\"select stock,avg(avg_stock_value) as max_avg_stock from avg_stock group by stock\").show(truncate=False)"
   ]
  }
 ],
 "metadata": {
  "application/vnd.databricks.v1+notebook": {
   "computePreferences": null,
   "dashboards": [],
   "environmentMetadata": {
    "base_environment": "",
    "client": "1"
   },
   "language": "python",
   "notebookMetadata": {
    "pythonIndentUnit": 4
   },
   "notebookName": "Day 11 Pyspark Coding Interview Qusetion",
   "widgets": {}
  },
  "language_info": {
   "name": "python"
  }
 },
 "nbformat": 4,
 "nbformat_minor": 0
}