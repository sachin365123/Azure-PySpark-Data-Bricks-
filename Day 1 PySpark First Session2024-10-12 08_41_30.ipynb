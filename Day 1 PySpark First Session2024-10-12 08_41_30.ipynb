{
 "cells": [
  {
   "cell_type": "code",
   "execution_count": 0,
   "metadata": {
    "application/vnd.databricks.v1+cell": {
     "cellMetadata": {
      "byteLimit": 2048000,
      "rowLimit": 10000
     },
     "inputWidgets": {},
     "nuid": "de1e09c2-c5b8-424b-a83f-d5b373224a96",
     "showTitle": false,
     "title": ""
    }
   },
   "outputs": [],
   "source": [
    "# Import basic libraries using PySpark\n",
    "from pyspark import SparkConf, SparkContext "
   ]
  },
  {
   "cell_type": "code",
   "execution_count": 0,
   "metadata": {
    "application/vnd.databricks.v1+cell": {
     "cellMetadata": {
      "byteLimit": 2048000,
      "rowLimit": 10000
     },
     "inputWidgets": {},
     "nuid": "dbb22f16-89bf-4959-8dba-92910dc9bc38",
     "showTitle": false,
     "title": ""
    }
   },
   "outputs": [],
   "source": [
    "# connect and establish dialouge\n",
    "conf= SparkConf().setAppName(\"Siva First App\")\n",
    "sc=SparkContext.getOrCreate(conf=conf)"
   ]
  },
  {
   "cell_type": "code",
   "execution_count": 0,
   "metadata": {
    "application/vnd.databricks.v1+cell": {
     "cellMetadata": {
      "byteLimit": 2048000,
      "rowLimit": 10000
     },
     "inputWidgets": {},
     "nuid": "b913e0e0-889d-4dbb-801f-41237da7b635",
     "showTitle": false,
     "title": ""
    }
   },
   "outputs": [],
   "source": [
    "# uploaded text file on DataBricks and then map it here\n",
    "rdd= sc.textFile('/FileStore/tables/Sample-1.txt')"
   ]
  },
  {
   "cell_type": "code",
   "execution_count": 0,
   "metadata": {
    "application/vnd.databricks.v1+cell": {
     "cellMetadata": {
      "byteLimit": 2048000,
      "rowLimit": 10000
     },
     "inputWidgets": {},
     "nuid": "2b8a276d-d90a-4b37-9050-35d97847e065",
     "showTitle": false,
     "title": ""
    }
   },
   "outputs": [
    {
     "output_type": "stream",
     "name": "stdout",
     "output_type": "stream",
     "text": [
      "Out[5]: ['1 2 3 4 5', '3 4 5 66 77', '12 43 6 7 8', '12 12 33']"
     ]
    }
   ],
   "source": [
    "# Display File Content\n",
    "rdd.collect()"
   ]
  },
  {
   "cell_type": "code",
   "execution_count": 0,
   "metadata": {
    "application/vnd.databricks.v1+cell": {
     "cellMetadata": {
      "byteLimit": 2048000,
      "rowLimit": 10000
     },
     "inputWidgets": {},
     "nuid": "81a0fb62-155a-4973-bd2e-17fbb9b5851e",
     "showTitle": false,
     "title": ""
    }
   },
   "outputs": [
    {
     "output_type": "stream",
     "name": "stdout",
     "output_type": "stream",
     "text": [
      "Out[6]: [['1', '2', '3', '4', '5'],\n ['3', '4', '5', '66', '77'],\n ['12', '43', '6', '7', '8'],\n ['12', '12', '33']]"
     ]
    }
   ],
   "source": [
    "# To split all values\n",
    "rdd2=rdd.map(lambda x: x.split(' '))\n",
    "rdd2.collect()"
   ]
  },
  {
   "cell_type": "code",
   "execution_count": 0,
   "metadata": {
    "application/vnd.databricks.v1+cell": {
     "cellMetadata": {},
     "inputWidgets": {},
     "nuid": "c18895a9-2bca-49dd-be56-8b4fc905b3bd",
     "showTitle": false,
     "title": ""
    }
   },
   "outputs": [],
   "source": []
  }
 ],
 "metadata": {
  "application/vnd.databricks.v1+notebook": {
   "dashboards": [],
   "environmentMetadata": null,
   "language": "python",
   "notebookMetadata": {
    "pythonIndentUnit": 4
   },
   "notebookName": "Day 1 PySpark First Session2024-10-12 08:41:30",
   "widgets": {}
  }
 },
 "nbformat": 4,
 "nbformat_minor": 0
}
