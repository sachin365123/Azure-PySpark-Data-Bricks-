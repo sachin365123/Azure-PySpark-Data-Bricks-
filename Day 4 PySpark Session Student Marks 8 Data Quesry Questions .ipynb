{
 "cells": [
  {
   "cell_type": "code",
   "execution_count": 0,
   "metadata": {
    "application/vnd.databricks.v1+cell": {
     "cellMetadata": {
      "byteLimit": 2048000,
      "rowLimit": 10000
     },
     "inputWidgets": {},
     "nuid": "a75fe6b6-d383-4774-a00b-c556038a8e4f",
     "showTitle": false,
     "title": ""
    }
   },
   "outputs": [],
   "source": [
    "# Databricks source\n",
    "from pyspark import SparkConf, SparkContext\n",
    "conf= SparkConf().setAppName(\"Mini Praoject \")\n",
    "sc= SparkContext.getOrCreate(conf=conf)"
   ]
  },
  {
   "cell_type": "code",
   "execution_count": 0,
   "metadata": {
    "application/vnd.databricks.v1+cell": {
     "cellMetadata": {
      "byteLimit": 2048000,
      "rowLimit": 10000
     },
     "inputWidgets": {},
     "nuid": "2d5fa5b2-382c-47cb-bd6a-5d79fe8e0b1d",
     "showTitle": false,
     "title": ""
    }
   },
   "outputs": [],
   "source": [
    "rdd = sc.textFile('/FileStore/tables/StudentData-3.csv')\n",
    "headers = rdd.first()\n",
    "rdd= rdd.filter(lambda x: x!=headers)\n",
    "rdd=rdd.map(lambda x: x.split(','))\n"
   ]
  },
  {
   "cell_type": "code",
   "execution_count": 0,
   "metadata": {
    "application/vnd.databricks.v1+cell": {
     "cellMetadata": {
      "byteLimit": 2048000,
      "rowLimit": 10000
     },
     "inputWidgets": {},
     "nuid": "6d54f2a8-573c-4b7f-acfc-e7a3c0ca156d",
     "showTitle": false,
     "title": ""
    }
   },
   "outputs": [
    {
     "output_type": "stream",
     "name": "stdout",
     "output_type": "stream",
     "text": [
      "Out[10]: [['28',\n  'Female',\n  'Hubert Oliveras',\n  'DB',\n  '02984',\n  '59',\n  'Annika Hoffman_Naoma Fritts@OOP.com'],\n ['29',\n  'Female',\n  'Toshiko Hillyard',\n  'Cloud',\n  '12899',\n  '62',\n  'Margene Moores_Marylee Capasso@DB.com'],\n ['28',\n  'Male',\n  'Celeste Lollis',\n  'PF',\n  '21267',\n  '45',\n  'Jeannetta Golden_Jenna Montague@DSA.com'],\n ['29',\n  'Female',\n  'Elenore Choy',\n  'DB',\n  '32877',\n  '29',\n  'Billi Clore_Mitzi Seldon@DB.com'],\n ['28',\n  'Male',\n  'Sheryll Towler',\n  'DSA',\n  '41487',\n  '41',\n  'Claude Panos_Judie Chipps@OOP.com'],\n ['28',\n  'Male',\n  'Margene Moores',\n  'MVC',\n  '52771',\n  '32',\n  'Toshiko Hillyard_Clementina Menke@MVC.com'],\n ['28',\n  'Male',\n  'Neda Briski',\n  'OOP',\n  '61973',\n  '69',\n  'Alberta Freund_Elenore Choy@DB.com'],\n ['28',\n  'Female',\n  'Claude Panos',\n  'Cloud',\n  '72409',\n  '85',\n  'Sheryll Towler_Alberta Freund@Cloud.com'],\n ['28',\n  'Male',\n  'Celeste Lollis',\n  'MVC',\n  '81492',\n  '64',\n  'Nicole Harwood_Claude Panos@MVC.com'],\n ['29',\n  'Male',\n  'Cordie Harnois',\n  'OOP',\n  '92882',\n  '51',\n  'Judie Chipps_Clementina Menke@MVC.com'],\n ['29',\n  'Female',\n  'Kena Wild',\n  'DSA',\n  '102285',\n  '35',\n  'Dustin Feagins_Margene Moores@OOP.com'],\n ['29',\n  'Male',\n  'Ernest Rossbach',\n  'DB',\n  '111449',\n  '53',\n  'Maybell Duguay_Abram Nagao@OOP.com'],\n ['28',\n  'Female',\n  'Latia Vanhoose',\n  'DB',\n  '122502',\n  '27',\n  'Latia Vanhoose_Mitzi Seldon@OOP.com'],\n ['29',\n  'Female',\n  'Latia Vanhoose',\n  'MVC',\n  '132110',\n  '55',\n  'Eda Neathery_Nicole Harwood@Cloud.com'],\n ['29',\n  'Male',\n  'Neda Briski',\n  'PF',\n  '141770',\n  '42',\n  'Margene Moores_Michelle Ruggiero@MVC.com'],\n ['29',\n  'Female',\n  'Latia Vanhoose',\n  'DB',\n  '152159',\n  '27',\n  'Claude Panos_Santa Kerfien@DB.com'],\n ['29',\n  'Male',\n  'Loris Crossett',\n  'MVC',\n  '161771',\n  '36',\n  'Mitzi Seldon_Jenna Montague@MVC.com'],\n ['29',\n  'Male',\n  'Annika Hoffman',\n  'OOP',\n  '171660',\n  '22',\n  'Taryn Brownlee_Mitzi Seldon@MVC.com'],\n ['29',\n  'Male',\n  'Santa Kerfien',\n  'PF',\n  '182129',\n  '56',\n  'Judie Chipps_Taryn Brownlee@Cloud.com'],\n ['28',\n  'Female',\n  'Mickey Cortright',\n  'DB',\n  '192537',\n  '62',\n  'Ernest Rossbach_Marylee Capasso@Cloud.com'],\n ['29',\n  'Female',\n  'Loris Crossett',\n  'PF',\n  '201487',\n  '96',\n  'Elenore Choy_Latia Vanhoose@Cloud.com'],\n ['29',\n  'Female',\n  'Niki Klimek',\n  'PF',\n  '211508',\n  '23',\n  'Cordie Harnois_Judie Chipps@PF.com'],\n ['28',\n  'Female',\n  'Kena Wild',\n  'Cloud',\n  '221750',\n  '60',\n  'Mitzi Seldon_Jenna Montague@DSA.com'],\n ['28',\n  'Female',\n  'Jc Andrepont',\n  'DSA',\n  '232060',\n  '58',\n  'Billi Clore_Abram Nagao@MVC.com'],\n ['29',\n  'Female',\n  'Anna Santos',\n  'Cloud',\n  '242254',\n  '68',\n  'Jc Andrepont_Hubert Oliveras@Cloud.com'],\n ['28',\n  'Female',\n  'Alberta Freund',\n  'OOP',\n  '251805',\n  '83',\n  'Annika Hoffman_Sheryll Towler@MVC.com'],\n ['28',\n  'Female',\n  'Maybell Duguay',\n  'Cloud',\n  '261439',\n  '20',\n  'Nicole Harwood_Judie Chipps@DB.com'],\n ['29',\n  'Female',\n  'Paris Hutton',\n  'DSA',\n  '271472',\n  '99',\n  'Sheryll Towler_Alberta Freund@DSA.com'],\n ['29',\n  'Female',\n  'Cheri Kenney',\n  'Cloud',\n  '281408',\n  '43',\n  'Annika Hoffman_Melani Engberg@Cloud.com'],\n ['28',\n  'Female',\n  'Dustin Feagins',\n  'DSA',\n  '291984',\n  '82',\n  'Abram Nagao_Kena Wild@Cloud.com'],\n ['29',\n  'Female',\n  'Claude Panos',\n  'Cloud',\n  '302130',\n  '59',\n  'Sheryll Towler_Leontine Phillips@PF.com'],\n ['28',\n  'Female',\n  'Anna Santos',\n  'DB',\n  '311589',\n  '79',\n  'Celeste Lollis_Mickey Cortright@DSA.com'],\n ['28',\n  'Female',\n  'Cheri Kenney',\n  'MVC',\n  '321816',\n  '24',\n  'Kena Wild_Michelle Ruggiero@DB.com'],\n ['28',\n  'Female',\n  'Loris Crossett',\n  'PF',\n  '332739',\n  '62',\n  'Michelle Ruggiero_Clementina Menke@DB.com'],\n ['28',\n  'Female',\n  'Mickey Cortright',\n  'DSA',\n  '342003',\n  '44',\n  'Mitzi Seldon_Jeannetta Golden@PF.com'],\n ['28',\n  'Male',\n  'Hubert Oliveras',\n  'OOP',\n  '351719',\n  '63',\n  'Lawanda Wohlwend_Abram Nagao@MVC.com'],\n ['28',\n  'Male',\n  'Sebrina Maresca',\n  'PF',\n  '361316',\n  '62',\n  'Nicole Harwood_Latia Vanhoose@DB.com'],\n ['29',\n  'Male',\n  'Jalisa Swenson',\n  'PF',\n  '372873',\n  '45',\n  'Ernest Rossbach_Toshiko Hillyard@DB.com'],\n ['28',\n  'Male',\n  'Kizzy Brenner',\n  'DB',\n  '381712',\n  '36',\n  'Paris Hutton_Kena Wild@MVC.com'],\n ['28',\n  'Male',\n  'Toshiko Hillyard',\n  'DB',\n  '392218',\n  '47',\n  'Leontine Phillips_Billi Clore@MVC.com'],\n ['28',\n  'Female',\n  'Kizzy Brenner',\n  'Cloud',\n  '402409',\n  '27',\n  'Ernest Rossbach_Gonzalo Ferebee@OOP.com'],\n ['29',\n  'Female',\n  'Anna Santos',\n  'DSA',\n  '411479',\n  '42',\n  'Kena Wild_Mitzi Seldon@DB.com'],\n ['28',\n  'Male',\n  'Elenore Choy',\n  'PF',\n  '422704',\n  '66',\n  'Marylee Capasso_Nicole Harwood@MVC.com'],\n ['28',\n  'Female',\n  'Jalisa Swenson',\n  'OOP',\n  '431352',\n  '25',\n  'Gonzalo Ferebee_Judie Chipps@DB.com'],\n ['29',\n  'Female',\n  'Somer Stoecker',\n  'Cloud',\n  '442028',\n  '34',\n  'Taryn Brownlee_Taryn Brownlee@MVC.com'],\n ['28',\n  'Female',\n  'Maybell Duguay',\n  'DSA',\n  '452141',\n  '29',\n  'Leontine Phillips_Elenore Choy@Cloud.com'],\n ['28',\n  'Male',\n  'Dustin Feagins',\n  'PF',\n  '461839',\n  '51',\n  'Neda Briski_Elenore Choy@Cloud.com'],\n ['29',\n  'Male',\n  'Annika Hoffman',\n  'OOP',\n  '472550',\n  '35',\n  'Mitzi Seldon_Abram Nagao@DSA.com'],\n ['29',\n  'Male',\n  'Paris Hutton',\n  'DB',\n  '481229',\n  '57',\n  'Clementina Menke_Paris Hutton@MVC.com'],\n ['29',\n  'Female',\n  'Paris Hutton',\n  'DSA',\n  '492159',\n  '60',\n  'Nicole Harwood_Marylee Capasso@OOP.com'],\n ['29',\n  'Female',\n  'Jenna Montague',\n  'MVC',\n  '502585',\n  '43',\n  'Hubert Oliveras_Jc Andrepont@DSA.com'],\n ['29',\n  'Male',\n  'Billi Clore',\n  'Cloud',\n  '512047',\n  '76',\n  'Taryn Brownlee_Judie Chipps@DSA.com'],\n ['29',\n  'Male',\n  'Toshiko Hillyard',\n  'OOP',\n  '521221',\n  '77',\n  'Hubert Oliveras_Latia Vanhoose@MVC.com'],\n ['28',\n  'Male',\n  'Margene Moores',\n  'PF',\n  '531530',\n  '53',\n  'Cheri Kenney_Melani Engberg@OOP.com'],\n ['29',\n  'Female',\n  'Claude Panos',\n  'OOP',\n  '542821',\n  '28',\n  'Hubert Oliveras_Priscila Tavernier@PF.com'],\n ['28',\n  'Female',\n  'Mickey Cortright',\n  'DB',\n  '551389',\n  '43',\n  'Tijuana Kropf_Jenna Montague@DB.com'],\n ['29',\n  'Male',\n  'Celeste Lollis',\n  'DSA',\n  '562065',\n  '85',\n  'Jc Andrepont_Melani Engberg@OOP.com'],\n ['28',\n  'Female',\n  'Tijuana Kropf',\n  'PF',\n  '571047',\n  '41',\n  'Loris Crossett_Sebrina Maresca@PF.com'],\n ['28',\n  'Male',\n  'Marylee Capasso',\n  'OOP',\n  '581756',\n  '52',\n  'Jeannetta Golden_Loris Crossett@MVC.com'],\n ['29',\n  'Male',\n  'Maybell Duguay',\n  'DSA',\n  '592061',\n  '83',\n  'Eda Neathery_Jenna Montague@Cloud.com'],\n ['28',\n  'Female',\n  'Leontine Phillips',\n  'DB',\n  '602404',\n  '48',\n  'Neda Briski_Cheri Kenney@PF.com'],\n ['28',\n  'Female',\n  'Somer Stoecker',\n  'Cloud',\n  '612490',\n  '82',\n  'Sebrina Maresca_Gonzalo Ferebee@DSA.com'],\n ['28',\n  'Male',\n  'Mitzi Seldon',\n  'DSA',\n  '622981',\n  '45',\n  'Lawanda Wohlwend_Loris Crossett@DSA.com'],\n ['29',\n  'Female',\n  'Judie Chipps',\n  'Cloud',\n  '632793',\n  '75',\n  'Tijuana Kropf_Elenore Choy@PF.com'],\n ['28',\n  'Male',\n  'Priscila Tavernier',\n  'PF',\n  '642594',\n  '27',\n  'Marylee Capasso_Claude Panos@DSA.com'],\n ['29',\n  'Male',\n  'Tamera Blakley',\n  'MVC',\n  '651649',\n  '92',\n  'Latia Vanhoose_Toshiko Hillyard@MVC.com'],\n ['28',\n  'Male',\n  'Sheryll Towler',\n  'MVC',\n  '661079',\n  '89',\n  'Tijuana Kropf_Mickey Cortright@DB.com'],\n ['29',\n  'Male',\n  'Hubert Oliveras',\n  'MVC',\n  '672451',\n  '28',\n  'Annika Hoffman_Mickey Cortright@DSA.com'],\n ['29',\n  'Male',\n  'Sheryll Towler',\n  'PF',\n  '682533',\n  '42',\n  'Billi Clore_Anna Santos@PF.com'],\n ['28',\n  'Female',\n  'Jenna Montague',\n  'DSA',\n  '691564',\n  '26',\n  'Mitzi Seldon_Sebrina Maresca@Cloud.com'],\n ['29',\n  'Male',\n  'Maybell Duguay',\n  'PF',\n  '701486',\n  '99',\n  'Clementina Menke_Latia Vanhoose@Cloud.com'],\n ['29',\n  'Male',\n  'Jenna Montague',\n  'MVC',\n  '711153',\n  '45',\n  'Marylee Capasso_Hubert Oliveras@DB.com'],\n ['28',\n  'Male',\n  'Annika Hoffman',\n  'Cloud',\n  '722193',\n  '55',\n  'Taryn Brownlee_Elenore Choy@DB.com'],\n ['28',\n  'Female',\n  'Celeste Lollis',\n  'DSA',\n  '731879',\n  '76',\n  'Hubert Oliveras_Gonzalo Ferebee@DSA.com'],\n ['29',\n  'Male',\n  'Jeannetta Golden',\n  'MVC',\n  '741875',\n  '57',\n  'Sheryll Towler_Cheri Kenney@DSA.com'],\n ['29',\n  'Male',\n  'Paris Hutton',\n  'MVC',\n  '752504',\n  '22',\n  'Elenore Choy_Elenore Choy@DB.com'],\n ['29',\n  'Female',\n  'Margene Moores',\n  'MVC',\n  '761843',\n  '48',\n  'Ernest Rossbach_Mickey Cortright@DSA.com'],\n ['28',\n  'Female',\n  'Hubert Oliveras',\n  'DB',\n  '771081',\n  '79',\n  'Kizzy Brenner_Dustin Feagins@MVC.com'],\n ['28',\n  'Male',\n  'Alberta Freund',\n  'PF',\n  '781061',\n  '75',\n  'Leontine Phillips_Bonita Higuera@PF.com'],\n ['29',\n  'Female',\n  'Billi Clore',\n  'OOP',\n  '791519',\n  '93',\n  'Elenore Choy_Jalisa Swenson@MVC.com'],\n ['28',\n  'Female',\n  'Billi Clore',\n  'Cloud',\n  '801693',\n  '38',\n  'Niki Klimek_Kizzy Brenner@DB.com'],\n ['29',\n  'Female',\n  'Elenore Choy',\n  'DB',\n  '811824',\n  '55',\n  'Maybell Duguay_Melani Engberg@DB.com'],\n ['28',\n  'Male',\n  'Anna Santos',\n  'OOP',\n  '822396',\n  '47',\n  'Leontine Phillips_Gonzalo Ferebee@Cloud.com'],\n ['28',\n  'Male',\n  'Sheryll Towler',\n  'DSA',\n  '831562',\n  '59',\n  'Kena Wild_Gonzalo Ferebee@Cloud.com'],\n ['29',\n  'Male',\n  'Neda Briski',\n  'PF',\n  '842515',\n  '68',\n  'Neda Briski_Hubert Oliveras@OOP.com'],\n ['28',\n  'Female',\n  'Santa Kerfien',\n  'Cloud',\n  '851620',\n  '34',\n  'Melani Engberg_Sheryll Towler@PF.com'],\n ['29',\n  'Female',\n  'Taryn Brownlee',\n  'MVC',\n  '861849',\n  '39',\n  'Billi Clore_Toshiko Hillyard@MVC.com'],\n ['28',\n  'Female',\n  'Sheryll Towler',\n  'DSA',\n  '871967',\n  '64',\n  'Michelle Ruggiero_Billi Clore@Cloud.com'],\n ['29',\n  'Male',\n  'Clementina Menke',\n  'DB',\n  '882200',\n  '76',\n  'Michelle Ruggiero_Jenna Montague@MVC.com'],\n ['28',\n  'Male',\n  'Margene Moores',\n  'DSA',\n  '892010',\n  '93',\n  'Anna Santos_Naoma Fritts@DSA.com'],\n ['28',\n  'Female',\n  'Somer Stoecker',\n  'DSA',\n  '901958',\n  '64',\n  'Kizzy Brenner_Jc Andrepont@DB.com'],\n ['29',\n  'Male',\n  'Loris Crossett',\n  'PF',\n  '911593',\n  '46',\n  'Gonzalo Ferebee_Mitzi Seldon@PF.com'],\n ['29',\n  'Female',\n  'Sebrina Maresca',\n  'DB',\n  '922210',\n  '54',\n  'Toshiko Hillyard_Santa Kerfien@MVC.com'],\n ['29',\n  'Male',\n  'Naoma Fritts',\n  'DB',\n  '931295',\n  '79',\n  'Hubert Oliveras_Sheryll Towler@DSA.com'],\n ['28',\n  'Female',\n  'Santa Kerfien',\n  'MVC',\n  '941783',\n  '94',\n  'Paris Hutton_Naoma Fritts@DB.com'],\n ['28',\n  'Female',\n  'Lawanda Wohlwend',\n  'DSA',\n  '951686',\n  '60',\n  'Loris Crossett_Nicole Harwood@DSA.com'],\n ['29',\n  'Male',\n  'Abram Nagao',\n  'MVC',\n  '962235',\n  '32',\n  'Jenna Montague_Gonzalo Ferebee@DSA.com'],\n ['28',\n  'Female',\n  'Jc Andrepont',\n  'PF',\n  '972733',\n  '20',\n  'Eda Neathery_Eda Neathery@MVC.com'],\n ['29',\n  'Male',\n  'Niki Klimek',\n  'PF',\n  '982443',\n  '94',\n  'Santa Kerfien_Kizzy Brenner@DB.com'],\n ['28',\n  'Female',\n  'Marylee Capasso',\n  'OOP',\n  '991770',\n  '86',\n  'Margene Moores_Clementina Menke@DB.com'],\n ['28',\n  'Male',\n  'Jenna Montague',\n  'DSA',\n  '1002103',\n  '36',\n  'Melani Engberg_Hubert Oliveras@PF.com'],\n ['29',\n  'Female',\n  'Eda Neathery',\n  'Cloud',\n  '1011971',\n  '91',\n  'Margene Moores_Elenore Choy@MVC.com'],\n ['29',\n  'Male',\n  'Michelle Ruggiero',\n  'DSA',\n  '1022971',\n  '99',\n  'Cordie Harnois_Clementina Menke@OOP.com'],\n ['28',\n  'Male',\n  'Annika Hoffman',\n  'DB',\n  '1031544',\n  '44',\n  'Dustin Feagins_Somer Stoecker@DB.com'],\n ['29',\n  'Female',\n  'Hubert Oliveras',\n  'DSA',\n  '1041483',\n  '28',\n  'Billi Clore_Santa Kerfien@DSA.com'],\n ['28',\n  'Male',\n  'Billi Clore',\n  'MVC',\n  '1052566',\n  '78',\n  'Naoma Fritts_Margene Moores@DSA.com'],\n ['28',\n  'Female',\n  'Nicole Harwood',\n  'MVC',\n  '1061068',\n  '82',\n  'Santa Kerfien_Hubert Oliveras@MVC.com'],\n ['29',\n  'Male',\n  'Clementina Menke',\n  'PF',\n  '1071717',\n  '54',\n  'Celeste Lollis_Leontine Phillips@OOP.com'],\n ['28',\n  'Female',\n  'Claude Panos',\n  'OOP',\n  '1081294',\n  '94',\n  'Kizzy Brenner_Anna Santos@OOP.com'],\n ['29',\n  'Male',\n  'Donna Yerby',\n  'DSA',\n  '1092702',\n  '79',\n  'Marylee Capasso_Alberta Freund@OOP.com'],\n ['29',\n  'Female',\n  'Maybell Duguay',\n  'MVC',\n  '1102536',\n  '22',\n  'Somer Stoecker_Marylee Capasso@OOP.com'],\n ['29',\n  'Male',\n  'Abram Nagao',\n  'PF',\n  '1112161',\n  '42',\n  'Nicole Harwood_Niki Klimek@DB.com'],\n ['28',\n  'Female',\n  'Bonita Higuera',\n  'DSA',\n  '1122348',\n  '51',\n  'Somer Stoecker_Jenna Montague@DB.com'],\n ['29',\n  'Female',\n  'Melani Engberg',\n  'OOP',\n  '1132093',\n  '76',\n  'Kena Wild_Neda Briski@Cloud.com'],\n ['29',\n  'Female',\n  'Marylee Capasso',\n  'OOP',\n  '1142653',\n  '61',\n  'Cordie Harnois_Alberta Freund@DSA.com'],\n ['29',\n  'Male',\n  'Nicole Harwood',\n  'Cloud',\n  '1152571',\n  '62',\n  'Latia Vanhoose_Maybell Duguay@PF.com'],\n ['29',\n  'Female',\n  'Dustin Feagins',\n  'OOP',\n  '1161607',\n  '37',\n  'Eda Neathery_Marylee Capasso@MVC.com'],\n ['28',\n  'Female',\n  'Niki Klimek',\n  'PF',\n  '1172784',\n  '24',\n  'Jeannetta Golden_Abram Nagao@MVC.com'],\n ['29',\n  'Female',\n  'Abram Nagao',\n  'DSA',\n  '1181007',\n  '57',\n  'Anna Santos_Anna Santos@DSA.com'],\n ['28',\n  'Male',\n  'Jalisa Swenson',\n  'PF',\n  '1192555',\n  '77',\n  'Marylee Capasso_Celeste Lollis@Cloud.com'],\n ['29',\n  'Female',\n  'Ernest Rossbach',\n  'MVC',\n  '1201427',\n  '80',\n  'Elenore Choy_Jenna Montague@OOP.com'],\n ['28',\n  'Male',\n  'Nicole Harwood',\n  'DB',\n  '1211495',\n  '28',\n  'Melani Engberg_Jc Andrepont@Cloud.com'],\n ['29',\n  'Female',\n  'Claude Panos',\n  'DB',\n  '1222887',\n  '75',\n  'Hubert Oliveras_Somer Stoecker@Cloud.com'],\n ['28',\n  'Female',\n  'Cordie Harnois',\n  'OOP',\n  '1231943',\n  '68',\n  'Mickey Cortright_Kizzy Brenner@OOP.com'],\n ['28',\n  'Male',\n  'Nicole Harwood',\n  'OOP',\n  '1242426',\n  '71',\n  'Billi Clore_Loris Crossett@Cloud.com'],\n ['28',\n  'Male',\n  'Gonzalo Ferebee',\n  'Cloud',\n  '1251176',\n  '60',\n  'Santa Kerfien_Tamera Blakley@PF.com'],\n ['29',\n  'Male',\n  'Jalisa Swenson',\n  'Cloud',\n  '1261533',\n  '70',\n  'Dustin Feagins_Nicole Harwood@PF.com'],\n ['28',\n  'Female',\n  'Eda Neathery',\n  'Cloud',\n  '1272870',\n  '69',\n  'Somer Stoecker_Dustin Feagins@DB.com'],\n ['28',\n  'Female',\n  'Toshiko Hillyard',\n  'DSA',\n  '1282835',\n  '79',\n  'Somer Stoecker_Toshiko Hillyard@OOP.com'],\n ['28',\n  'Male',\n  'Paris Hutton',\n  'MVC',\n  '1292279',\n  '26',\n  'Paris Hutton_Eda Neathery@DSA.com'],\n ['29',\n  'Female',\n  'Niki Klimek',\n  'DB',\n  '1301784',\n  '24',\n  'Celeste Lollis_Tamera Blakley@DB.com'],\n ['28',\n  'Male',\n  'Bonita Higuera',\n  'Cloud',\n  '1312294',\n  '94',\n  'Eda Neathery_Priscila Tavernier@PF.com'],\n ['28',\n  'Female',\n  'Leontine Phillips',\n  'MVC',\n  '1322629',\n  '87',\n  'Judie Chipps_Michelle Ruggiero@Cloud.com'],\n ['29',\n  'Male',\n  'Jalisa Swenson',\n  'PF',\n  '1332072',\n  '88',\n  'Billi Clore_Kizzy Brenner@Cloud.com'],\n ['28',\n  'Male',\n  'Clementina Menke',\n  'OOP',\n  '1341574',\n  '46',\n  'Elenore Choy_Mickey Cortright@DB.com'],\n ['28',\n  'Male',\n  'Gonzalo Ferebee',\n  'PF',\n  '1352348',\n  '95',\n  'Neda Briski_Somer Stoecker@DB.com'],\n ['29',\n  'Female',\n  'Jalisa Swenson',\n  'DSA',\n  '1362151',\n  '51',\n  'Lawanda Wohlwend_Jenna Montague@PF.com'],\n ['28',\n  'Male',\n  'Lawanda Wohlwend',\n  'PF',\n  '1372552',\n  '88',\n  'Hubert Oliveras_Tijuana Kropf@DSA.com'],\n ['28',\n  'Male',\n  'Abram Nagao',\n  'DSA',\n  '1382959',\n  '66',\n  'Michelle Ruggiero_Kena Wild@OOP.com'],\n ['29',\n  'Female',\n  'Hubert Oliveras',\n  'Cloud',\n  '1392791',\n  '94',\n  'Anna Santos_Alberta Freund@Cloud.com'],\n ['28',\n  'Male',\n  'Bonita Higuera',\n  'Cloud',\n  '1401526',\n  '24',\n  'Jc Andrepont_Cheri Kenney@Cloud.com'],\n ['29',\n  'Female',\n  'Clementina Menke',\n  'OOP',\n  '1412376',\n  '65',\n  'Elenore Choy_Latia Vanhoose@DSA.com'],\n ['29',\n  'Female',\n  'Mickey Cortright',\n  'Cloud',\n  '1421542',\n  '71',\n  'Latia Vanhoose_Kena Wild@OOP.com'],\n ['29',\n  'Female',\n  'Leontine Phillips',\n  'DB',\n  '1432252',\n  '67',\n  'Billi Clore_Sheryll Towler@DB.com'],\n ['28',\n  'Female',\n  'Nicole Harwood',\n  'PF',\n  '1441367',\n  '95',\n  'Jc Andrepont_Anna Santos@DSA.com'],\n ['28',\n  'Female',\n  'Gonzalo Ferebee',\n  'DB',\n  '1451513',\n  '69',\n  'Claude Panos_Tamera Blakley@PF.com'],\n ['29',\n  'Female',\n  'Judie Chipps',\n  'DB',\n  '1461078',\n  '31',\n  'Tijuana Kropf_Billi Clore@OOP.com'],\n ['29',\n  'Male',\n  'Niki Klimek',\n  'MVC',\n  '1472917',\n  '36',\n  'Sebrina Maresca_Sheryll Towler@MVC.com'],\n ['29',\n  'Female',\n  'Lawanda Wohlwend',\n  'MVC',\n  '1482889',\n  '65',\n  'Gonzalo Ferebee_Dustin Feagins@PF.com'],\n ['28',\n  'Male',\n  'Jc Andrepont',\n  'DSA',\n  '1492828',\n  '78',\n  'Celeste Lollis_Kizzy Brenner@MVC.com'],\n ['28',\n  'Female',\n  'Cordie Harnois',\n  'MVC',\n  '1501333',\n  '94',\n  'Gonzalo Ferebee_Tijuana Kropf@OOP.com'],\n ['29',\n  'Female',\n  'Taryn Brownlee',\n  'OOP',\n  '1511213',\n  '72',\n  'Cheri Kenney_Donna Yerby@DSA.com'],\n ['28',\n  'Male',\n  'Hubert Oliveras',\n  'PF',\n  '1521724',\n  '91',\n  'Eda Neathery_Jeannetta Golden@MVC.com'],\n ['29',\n  'Female',\n  'Naoma Fritts',\n  'MVC',\n  '1532260',\n  '73',\n  'Elenore Choy_Judie Chipps@DSA.com'],\n ['28',\n  'Female',\n  'Marylee Capasso',\n  'Cloud',\n  '1541030',\n  '58',\n  'Cordie Harnois_Celeste Lollis@PF.com'],\n ['29',\n  'Female',\n  'Annika Hoffman',\n  'OOP',\n  '1551846',\n  '50',\n  'Paris Hutton_Melani Engberg@DB.com'],\n ['28',\n  'Female',\n  'Jeannetta Golden',\n  'OOP',\n  '1562758',\n  '40',\n  'Jeannetta Golden_Billi Clore@Cloud.com'],\n ['29',\n  'Female',\n  'Cheri Kenney',\n  'MVC',\n  '1571310',\n  '88',\n  'Cordie Harnois_Lawanda Wohlwend@MVC.com'],\n ['29',\n  'Female',\n  'Jeannetta Golden',\n  'PF',\n  '1581770',\n  '39',\n  'Bonita Higuera_Santa Kerfien@OOP.com'],\n ['28',\n  'Female',\n  'Tamera Blakley',\n  'PF',\n  '1591554',\n  '78',\n  'Sebrina Maresca_Tijuana Kropf@OOP.com'],\n ['28',\n  'Male',\n  'Paris Hutton',\n  'MVC',\n  '1602777',\n  '53',\n  'Sheryll Towler_Loris Crossett@DSA.com'],\n ['28',\n  'Male',\n  'Marylee Capasso',\n  'DB',\n  '1611411',\n  '96',\n  'Annika Hoffman_Loris Crossett@PF.com'],\n ['28',\n  'Male',\n  'Anna Santos',\n  'OOP',\n  '1621905',\n  '24',\n  'Elenore Choy_Santa Kerfien@DB.com'],\n ['28',\n  'Male',\n  'Neda Briski',\n  'DSA',\n  '1632185',\n  '93',\n  'Clementina Menke_Toshiko Hillyard@Cloud.com'],\n ['29',\n  'Female',\n  'Michelle Ruggiero',\n  'DB',\n  '1642509',\n  '45',\n  'Hubert Oliveras_Marylee Capasso@DB.com'],\n ['28',\n  'Female',\n  'Neda Briski',\n  'Cloud',\n  '1651303',\n  '74',\n  'Ernest Rossbach_Donna Yerby@OOP.com'],\n ['28',\n  'Female',\n  'Loris Crossett',\n  'DSA',\n  '1662549',\n  '86',\n  'Paris Hutton_Latia Vanhoose@Cloud.com'],\n ['29',\n  'Male',\n  'Alberta Freund',\n  'DB',\n  '1671638',\n  '98',\n  'Clementina Menke_Jalisa Swenson@Cloud.com'],\n ['28',\n  'Female',\n  'Sebrina Maresca',\n  'MVC',\n  '1681804',\n  '27',\n  'Celeste Lollis_Ernest Rossbach@MVC.com'],\n ['28',\n  'Male',\n  'Celeste Lollis',\n  'DB',\n  '1692106',\n  '36',\n  'Neda Briski_Abram Nagao@MVC.com'],\n ['29',\n  'Female',\n  'Anna Santos',\n  'DSA',\n  '1702439',\n  '64',\n  'Naoma Fritts_Toshiko Hillyard@DB.com'],\n ['28',\n  'Female',\n  'Margene Moores',\n  'DSA',\n  '1712967',\n  '41',\n  'Tijuana Kropf_Sheryll Towler@DB.com'],\n ['28',\n  'Female',\n  'Priscila Tavernier',\n  'DB',\n  '1722388',\n  '86',\n  'Lawanda Wohlwend_Loris Crossett@DSA.com'],\n ['29',\n  'Female',\n  'Jc Andrepont',\n  'MVC',\n  '1731652',\n  '74',\n  'Hubert Oliveras_Michelle Ruggiero@DSA.com'],\n ['28',\n  'Female',\n  'Anna Santos',\n  'DSA',\n  '1741879',\n  '89',\n  'Nicole Harwood_Lawanda Wohlwend@DB.com'],\n ['29',\n  'Female',\n  'Lawanda Wohlwend',\n  'MVC',\n  '1751381',\n  '75',\n  'Jalisa Swenson_Nicole Harwood@OOP.com'],\n ['29',\n  'Male',\n  'Nicole Harwood',\n  'MVC',\n  '1761454',\n  '34',\n  'Taryn Brownlee_Billi Clore@DSA.com'],\n ['29',\n  'Male',\n  'Claude Panos',\n  'DSA',\n  '1771605',\n  '50',\n  'Claude Panos_Tamera Blakley@OOP.com'],\n ['29',\n  'Male',\n  'Dustin Feagins',\n  'DB',\n  '1782045',\n  '81',\n  'Cordie Harnois_Toshiko Hillyard@OOP.com'],\n ['29',\n  'Male',\n  'Toshiko Hillyard',\n  'DSA',\n  '1791364',\n  '50',\n  'Jc Andrepont_Nicole Harwood@MVC.com'],\n ['28',\n  'Male',\n  'Alberta Freund',\n  'Cloud',\n  '1802934',\n  '24',\n  'Maybell Duguay_Paris Hutton@PF.com'],\n ['29',\n  'Female',\n  'Tijuana Kropf',\n  'MVC',\n  '1811192',\n  '51',\n  'Anna Santos_Latia Vanhoose@DSA.com'],\n ['29',\n  'Female',\n  'Ernest Rossbach',\n  'Cloud',\n  '1821977',\n  '28',\n  'Annika Hoffman_Kizzy Brenner@DSA.com'],\n ['29',\n  'Male',\n  'Latia Vanhoose',\n  'Cloud',\n  '1832268',\n  '60',\n  'Marylee Capasso_Santa Kerfien@MVC.com'],\n ['29',\n  'Male',\n  'Alberta Freund',\n  'OOP',\n  '1841931',\n  '37',\n  'Jenna Montague_Taryn Brownlee@Cloud.com'],\n ['28',\n  'Female',\n  'Lawanda Wohlwend',\n  'DB',\n  '1852072',\n  '30',\n  'Bonita Higuera_Jenna Montague@DB.com'],\n ['29',\n  'Male',\n  'Celeste Lollis',\n  'PF',\n  '1861656',\n  '67',\n  'Niki Klimek_Lawanda Wohlwend@DB.com'],\n ['28',\n  'Female',\n  'Melani Engberg',\n  'Cloud',\n  '1872667',\n  '99',\n  'Alberta Freund_Nicole Harwood@DB.com'],\n ['29',\n  'Male',\n  'Tijuana Kropf',\n  'DB',\n  '1882795',\n  '92',\n  'Hubert Oliveras_Elenore Choy@Cloud.com'],\n ['28',\n  'Male',\n  'Somer Stoecker',\n  'Cloud',\n  '1891261',\n  '30',\n  'Taryn Brownlee_Sheryll Towler@PF.com'],\n ['28',\n  'Male',\n  'Ernest Rossbach',\n  'DB',\n  '1901492',\n  '54',\n  'Latia Vanhoose_Jc Andrepont@MVC.com'],\n ['28',\n  'Female',\n  'Anna Santos',\n  'PF',\n  '1911870',\n  '92',\n  'Sebrina Maresca_Clementina Menke@OOP.com'],\n ['28',\n  'Female',\n  'Melani Engberg',\n  'PF',\n  '1922525',\n  '83',\n  'Marylee Capasso_Celeste Lollis@PF.com'],\n ['29',\n  'Male',\n  'Sebrina Maresca',\n  'PF',\n  '1932455',\n  '23',\n  'Tijuana Kropf_Naoma Fritts@Cloud.com'],\n ['29',\n  'Male',\n  'Marylee Capasso',\n  'DSA',\n  '1942185',\n  '37',\n  'Tijuana Kropf_Latia Vanhoose@DSA.com'],\n ['29',\n  'Male',\n  'Jeannetta Golden',\n  'Cloud',\n  '1952763',\n  '67',\n  'Jenna Montague_Jeannetta Golden@OOP.com'],\n ['29',\n  'Male',\n  'Niki Klimek',\n  'MVC',\n  '1962371',\n  '78',\n  'Marylee Capasso_Mickey Cortright@PF.com'],\n ['29',\n  'Female',\n  'Leontine Phillips',\n  'DB',\n  '1972893',\n  '64',\n  'Marylee Capasso_Elenore Choy@OOP.com'],\n ['29',\n  'Male',\n  'Tamera Blakley',\n  'OOP',\n  '1981124',\n  '46',\n  'Taryn Brownlee_Eda Neathery@DB.com'],\n ['28',\n  'Male',\n  'Santa Kerfien',\n  'MVC',\n  '1992202',\n  '23',\n  'Annika Hoffman_Tamera Blakley@OOP.com'],\n ['29',\n  'Female',\n  'Donna Yerby',\n  'OOP',\n  '2002040',\n  '85',\n  'Jeannetta Golden_Clementina Menke@OOP.com'],\n ['29',\n  'Male',\n  'Somer Stoecker',\n  'OOP',\n  '2011301',\n  '47',\n  'Somer Stoecker_Anna Santos@MVC.com'],\n ['28',\n  'Male',\n  'Billi Clore',\n  'PF',\n  '2022282',\n  '77',\n  'Anna Santos_Claude Panos@Cloud.com'],\n ['28',\n  'Male',\n  'Kena Wild',\n  'DB',\n  '2031530',\n  '93',\n  'Jc Andrepont_Jc Andrepont@PF.com'],\n ['29',\n  'Female',\n  'Abram Nagao',\n  'DSA',\n  '2041248',\n  '72',\n  'Latia Vanhoose_Kena Wild@DSA.com'],\n ['28',\n  'Female',\n  'Paris Hutton',\n  'Cloud',\n  '2051881',\n  '79',\n  'Melani Engberg_Marylee Capasso@PF.com'],\n ['28',\n  'Female',\n  'Claude Panos',\n  'OOP',\n  '2061187',\n  '58',\n  'Cheri Kenney_Cordie Harnois@PF.com'],\n ['28',\n  'Female',\n  'Eda Neathery',\n  'Cloud',\n  '2071302',\n  '95',\n  'Latia Vanhoose_Donna Yerby@Cloud.com'],\n ['28',\n  'Male',\n  'Marylee Capasso',\n  'DSA',\n  '2081560',\n  '20',\n  'Sheryll Towler_Donna Yerby@Cloud.com'],\n ['28',\n  'Male',\n  'Neda Briski',\n  'Cloud',\n  '2092176',\n  '81',\n  'Celeste Lollis_Maybell Duguay@PF.com'],\n ['29',\n  'Male',\n  'Donna Yerby',\n  'DSA',\n  '2102495',\n  '97',\n  'Paris Hutton_Celeste Lollis@PF.com'],\n ['29',\n  'Male',\n  'Judie Chipps',\n  'DB',\n  '2112234',\n  '94',\n  'Dustin Feagins_Tamera Blakley@PF.com'],\n ['28',\n  'Female',\n  'Tijuana Kropf',\n  'Cloud',\n  '2121632',\n  '78',\n  'Michelle Ruggiero_Anna Santos@OOP.com'],\n ['29',\n  'Male',\n  'Jeannetta Golden',\n  'MVC',\n  '2132781',\n  '93',\n  'Kizzy Brenner_Cheri Kenney@MVC.com'],\n ['29',\n  'Male',\n  'Naoma Fritts',\n  'PF',\n  '2141246',\n  '91',\n  'Mitzi Seldon_Cordie Harnois@Cloud.com'],\n ['29',\n  'Male',\n  'Somer Stoecker',\n  'MVC',\n  '2151024',\n  '36',\n  'Loris Crossett_Tamera Blakley@DB.com'],\n ['28',\n  'Male',\n  'Toshiko Hillyard',\n  'PF',\n  '2162776',\n  '54',\n  'Jenna Montague_Niki Klimek@MVC.com'],\n ['28',\n  'Male',\n  'Jeannetta Golden',\n  'DB',\n  '2171387',\n  '76',\n  'Cheri Kenney_Billi Clore@DB.com'],\n ['28',\n  'Female',\n  'Billi Clore',\n  'DB',\n  '2181375',\n  '58',\n  'Latia Vanhoose_Eda Neathery@DSA.com'],\n ['29',\n  'Female',\n  'Annika Hoffman',\n  'PF',\n  '2192313',\n  '49',\n  'Naoma Fritts_Tijuana Kropf@DB.com'],\n ['29',\n  'Male',\n  'Mitzi Seldon',\n  'Cloud',\n  '2202649',\n  '43',\n  'Santa Kerfien_Loris Crossett@Cloud.com'],\n ['29',\n  'Female',\n  'Niki Klimek',\n  'DB',\n  '2211319',\n  '61',\n  'Celeste Lollis_Sheryll Towler@DB.com'],\n ['28',\n  'Male',\n  'Jalisa Swenson',\n  'DSA',\n  '2222704',\n  '91',\n  'Judie Chipps_Jalisa Swenson@Cloud.com'],\n ['28',\n  'Male',\n  'Priscila Tavernier',\n  'OOP',\n  '2232863',\n  '60',\n  'Bonita Higuera_Lawanda Wohlwend@MVC.com'],\n ['29',\n  'Male',\n  'Margene Moores',\n  'Cloud',\n  '2241434',\n  '71',\n  'Mitzi Se\n\n*** WARNING: max output size exceeded, skipping output. ***\n\ney@OOP.com'],\n ['29',\n  'Female',\n  'Margene Moores',\n  'PF',\n  '7761927',\n  '32',\n  'Annika Hoffman_Taryn Brownlee@OOP.com'],\n ['29',\n  'Female',\n  'Judie Chipps',\n  'DSA',\n  '7772671',\n  '51',\n  'Jenna Montague_Dustin Feagins@DB.com'],\n ['28',\n  'Female',\n  'Kena Wild',\n  'MVC',\n  '7781364',\n  '75',\n  'Claude Panos_Sebrina Maresca@DB.com'],\n ['28',\n  'Male',\n  'Latia Vanhoose',\n  'DSA',\n  '7792270',\n  '37',\n  'Eda Neathery_Donna Yerby@DSA.com'],\n ['29',\n  'Female',\n  'Cordie Harnois',\n  'Cloud',\n  '7801136',\n  '57',\n  'Nicole Harwood_Neda Briski@DSA.com'],\n ['29',\n  'Male',\n  'Niki Klimek',\n  'DSA',\n  '7811347',\n  '42',\n  'Kena Wild_Maybell Duguay@DB.com'],\n ['29',\n  'Female',\n  'Jalisa Swenson',\n  'Cloud',\n  '7821333',\n  '85',\n  'Priscila Tavernier_Clementina Menke@PF.com'],\n ['28',\n  'Female',\n  'Marylee Capasso',\n  'Cloud',\n  '7831780',\n  '73',\n  'Ernest Rossbach_Michelle Ruggiero@DB.com'],\n ['28',\n  'Female',\n  'Sebrina Maresca',\n  'PF',\n  '7841496',\n  '32',\n  'Alberta Freund_Mitzi Seldon@PF.com'],\n ['29',\n  'Male',\n  'Niki Klimek',\n  'PF',\n  '7852889',\n  '48',\n  'Taryn Brownlee_Elenore Choy@PF.com'],\n ['29',\n  'Male',\n  'Kena Wild',\n  'PF',\n  '7862418',\n  '56',\n  'Clementina Menke_Jalisa Swenson@DB.com'],\n ['29',\n  'Male',\n  'Clementina Menke',\n  'DB',\n  '7872434',\n  '68',\n  'Jalisa Swenson_Alberta Freund@OOP.com'],\n ['28',\n  'Male',\n  'Taryn Brownlee',\n  'Cloud',\n  '7881046',\n  '81',\n  'Eda Neathery_Dustin Feagins@MVC.com'],\n ['29',\n  'Male',\n  'Alberta Freund',\n  'DSA',\n  '7891322',\n  '86',\n  'Maybell Duguay_Loris Crossett@PF.com'],\n ['28',\n  'Male',\n  'Tamera Blakley',\n  'PF',\n  '7901879',\n  '57',\n  'Taryn Brownlee_Gonzalo Ferebee@PF.com'],\n ['29',\n  'Female',\n  'Toshiko Hillyard',\n  'MVC',\n  '7912392',\n  '38',\n  'Kena Wild_Alberta Freund@Cloud.com'],\n ['28',\n  'Male',\n  'Marylee Capasso',\n  'Cloud',\n  '7922051',\n  '92',\n  'Sebrina Maresca_Dustin Feagins@OOP.com'],\n ['29',\n  'Female',\n  'Margene Moores',\n  'MVC',\n  '7932894',\n  '78',\n  'Mickey Cortright_Niki Klimek@OOP.com'],\n ['29',\n  'Male',\n  'Celeste Lollis',\n  'MVC',\n  '7941313',\n  '89',\n  'Eda Neathery_Neda Briski@OOP.com'],\n ['29',\n  'Male',\n  'Santa Kerfien',\n  'PF',\n  '7951241',\n  '31',\n  'Kena Wild_Niki Klimek@OOP.com'],\n ['29',\n  'Male',\n  'Leontine Phillips',\n  'Cloud',\n  '7961043',\n  '26',\n  'Paris Hutton_Marylee Capasso@MVC.com'],\n ['28',\n  'Male',\n  'Michelle Ruggiero',\n  'Cloud',\n  '7972167',\n  '69',\n  'Paris Hutton_Leontine Phillips@DB.com'],\n ['28',\n  'Male',\n  'Margene Moores',\n  'MVC',\n  '7982164',\n  '84',\n  'Neda Briski_Celeste Lollis@Cloud.com'],\n ['29',\n  'Male',\n  'Billi Clore',\n  'DB',\n  '7992784',\n  '58',\n  'Tamera Blakley_Dustin Feagins@MVC.com'],\n ['29',\n  'Male',\n  'Ernest Rossbach',\n  'DB',\n  '8002285',\n  '76',\n  'Marylee Capasso_Naoma Fritts@DSA.com'],\n ['28',\n  'Male',\n  'Santa Kerfien',\n  'OOP',\n  '8011750',\n  '47',\n  'Mitzi Seldon_Somer Stoecker@PF.com'],\n ['29',\n  'Male',\n  'Jc Andrepont',\n  'OOP',\n  '8022618',\n  '97',\n  'Cordie Harnois_Jalisa Swenson@OOP.com'],\n ['29',\n  'Female',\n  'Mickey Cortright',\n  'DB',\n  '8031057',\n  '66',\n  'Dustin Feagins_Tijuana Kropf@DB.com'],\n ['29',\n  'Female',\n  'Eda Neathery',\n  'DSA',\n  '8042646',\n  '55',\n  'Abram Nagao_Donna Yerby@DB.com'],\n ['28',\n  'Male',\n  'Jeannetta Golden',\n  'PF',\n  '8052474',\n  '38',\n  'Tamera Blakley_Sheryll Towler@DSA.com'],\n ['29',\n  'Female',\n  'Lawanda Wohlwend',\n  'DSA',\n  '8061577',\n  '27',\n  'Anna Santos_Elenore Choy@MVC.com'],\n ['28',\n  'Male',\n  'Cheri Kenney',\n  'Cloud',\n  '8071605',\n  '72',\n  'Maybell Duguay_Eda Neathery@MVC.com'],\n ['29',\n  'Male',\n  'Celeste Lollis',\n  'MVC',\n  '8081881',\n  '87',\n  'Jenna Montague_Dustin Feagins@MVC.com'],\n ['28',\n  'Male',\n  'Sebrina Maresca',\n  'DB',\n  '8092398',\n  '42',\n  'Claude Panos_Jc Andrepont@DB.com'],\n ['28',\n  'Male',\n  'Bonita Higuera',\n  'Cloud',\n  '8101902',\n  '84',\n  'Jc Andrepont_Neda Briski@OOP.com'],\n ['29',\n  'Male',\n  'Loris Crossett',\n  'PF',\n  '8111334',\n  '31',\n  'Jeannetta Golden_Mickey Cortright@DSA.com'],\n ['29',\n  'Female',\n  'Nicole Harwood',\n  'PF',\n  '8121198',\n  '21',\n  'Bonita Higuera_Priscila Tavernier@Cloud.com'],\n ['28',\n  'Female',\n  'Somer Stoecker',\n  'PF',\n  '8131896',\n  '40',\n  'Melani Engberg_Sheryll Towler@DSA.com'],\n ['28',\n  'Male',\n  'Elenore Choy',\n  'OOP',\n  '8141533',\n  '28',\n  'Anna Santos_Dustin Feagins@MVC.com'],\n ['28',\n  'Male',\n  'Annika Hoffman',\n  'MVC',\n  '8152949',\n  '62',\n  'Annika Hoffman_Naoma Fritts@MVC.com'],\n ['29',\n  'Male',\n  'Leontine Phillips',\n  'Cloud',\n  '8162392',\n  '23',\n  'Clementina Menke_Neda Briski@Cloud.com'],\n ['28',\n  'Male',\n  'Loris Crossett',\n  'OOP',\n  '8172914',\n  '98',\n  'Paris Hutton_Paris Hutton@OOP.com'],\n ['28',\n  'Female',\n  'Nicole Harwood',\n  'DB',\n  '8181552',\n  '37',\n  'Hubert Oliveras_Gonzalo Ferebee@Cloud.com'],\n ['29',\n  'Male',\n  'Hubert Oliveras',\n  'Cloud',\n  '8191045',\n  '29',\n  'Toshiko Hillyard_Leontine Phillips@DSA.com'],\n ['29',\n  'Male',\n  'Eda Neathery',\n  'MVC',\n  '8202489',\n  '30',\n  'Jc Andrepont_Maybell Duguay@PF.com'],\n ['28',\n  'Female',\n  'Leontine Phillips',\n  'OOP',\n  '8212555',\n  '51',\n  'Jenna Montague_Cheri Kenney@Cloud.com'],\n ['29',\n  'Male',\n  'Melani Engberg',\n  'PF',\n  '8222832',\n  '44',\n  'Niki Klimek_Billi Clore@PF.com'],\n ['29',\n  'Male',\n  'Loris Crossett',\n  'DSA',\n  '8232415',\n  '77',\n  'Priscila Tavernier_Kena Wild@DB.com'],\n ['28',\n  'Male',\n  'Jeannetta Golden',\n  'Cloud',\n  '8242650',\n  '62',\n  'Dustin Feagins_Annika Hoffman@OOP.com'],\n ['28',\n  'Female',\n  'Clementina Menke',\n  'OOP',\n  '8251736',\n  '48',\n  'Tamera Blakley_Loris Crossett@OOP.com'],\n ['29',\n  'Female',\n  'Ernest Rossbach',\n  'DSA',\n  '8262618',\n  '34',\n  'Billi Clore_Clementina Menke@Cloud.com'],\n ['28',\n  'Female',\n  'Sheryll Towler',\n  'DB',\n  '8271000',\n  '37',\n  'Neda Briski_Anna Santos@Cloud.com'],\n ['29',\n  'Male',\n  'Billi Clore',\n  'OOP',\n  '8282116',\n  '72',\n  'Elenore Choy_Clementina Menke@PF.com'],\n ['28',\n  'Male',\n  'Bonita Higuera',\n  'MVC',\n  '8291218',\n  '71',\n  'Jeannetta Golden_Sebrina Maresca@PF.com'],\n ['29',\n  'Female',\n  'Tamera Blakley',\n  'OOP',\n  '8301646',\n  '63',\n  'Abram Nagao_Mitzi Seldon@DB.com'],\n ['28',\n  'Female',\n  'Judie Chipps',\n  'DSA',\n  '8312884',\n  '88',\n  'Kena Wild_Clementina Menke@DB.com'],\n ['28',\n  'Male',\n  'Paris Hutton',\n  'PF',\n  '8321357',\n  '77',\n  'Abram Nagao_Tamera Blakley@OOP.com'],\n ['29',\n  'Male',\n  'Kena Wild',\n  'PF',\n  '8331264',\n  '46',\n  'Marylee Capasso_Celeste Lollis@DSA.com'],\n ['29',\n  'Female',\n  'Elenore Choy',\n  'DSA',\n  '8342105',\n  '41',\n  'Abram Nagao_Nicole Harwood@Cloud.com'],\n ['29',\n  'Female',\n  'Gonzalo Ferebee',\n  'Cloud',\n  '8352347',\n  '69',\n  'Neda Briski_Ernest Rossbach@Cloud.com'],\n ['28',\n  'Male',\n  'Dustin Feagins',\n  'MVC',\n  '8361501',\n  '53',\n  'Billi Clore_Kizzy Brenner@MVC.com'],\n ['28',\n  'Male',\n  'Clementina Menke',\n  'Cloud',\n  '8372528',\n  '43',\n  'Tamera Blakley_Somer Stoecker@MVC.com'],\n ['28',\n  'Male',\n  'Priscila Tavernier',\n  'OOP',\n  '8382954',\n  '93',\n  'Jeannetta Golden_Kizzy Brenner@Cloud.com'],\n ['29',\n  'Female',\n  'Gonzalo Ferebee',\n  'MVC',\n  '8392287',\n  '81',\n  'Santa Kerfien_Neda Briski@OOP.com'],\n ['28',\n  'Female',\n  'Paris Hutton',\n  'PF',\n  '8401106',\n  '51',\n  'Maybell Duguay_Michelle Ruggiero@DB.com'],\n ['28',\n  'Male',\n  'Mickey Cortright',\n  'DB',\n  '8411430',\n  '70',\n  'Hubert Oliveras_Ernest Rossbach@PF.com'],\n ['28',\n  'Female',\n  'Bonita Higuera',\n  'DSA',\n  '8421653',\n  '96',\n  'Annika Hoffman_Bonita Higuera@Cloud.com'],\n ['28',\n  'Female',\n  'Taryn Brownlee',\n  'OOP',\n  '8431353',\n  '63',\n  'Neda Briski_Cordie Harnois@Cloud.com'],\n ['28',\n  'Female',\n  'Eda Neathery',\n  'DSA',\n  '8441503',\n  '78',\n  'Jalisa Swenson_Mitzi Seldon@MVC.com'],\n ['29',\n  'Female',\n  'Cordie Harnois',\n  'OOP',\n  '8452121',\n  '84',\n  'Kena Wild_Dustin Feagins@DB.com'],\n ['29',\n  'Female',\n  'Mickey Cortright',\n  'OOP',\n  '8462156',\n  '77',\n  'Elenore Choy_Tijuana Kropf@Cloud.com'],\n ['28',\n  'Male',\n  'Kena Wild',\n  'DB',\n  '8471833',\n  '36',\n  'Tamera Blakley_Jeannetta Golden@OOP.com'],\n ['28',\n  'Male',\n  'Anna Santos',\n  'MVC',\n  '8482305',\n  '53',\n  'Sheryll Towler_Kizzy Brenner@PF.com'],\n ['28',\n  'Female',\n  'Ernest Rossbach',\n  'DSA',\n  '8492768',\n  '61',\n  'Jenna Montague_Elenore Choy@DSA.com'],\n ['29',\n  'Female',\n  'Annika Hoffman',\n  'MVC',\n  '8502572',\n  '71',\n  'Sebrina Maresca_Jeannetta Golden@Cloud.com'],\n ['29',\n  'Female',\n  'Mickey Cortright',\n  'OOP',\n  '8511805',\n  '47',\n  'Latia Vanhoose_Somer Stoecker@OOP.com'],\n ['28',\n  'Male',\n  'Tijuana Kropf',\n  'DB',\n  '8522175',\n  '87',\n  'Mickey Cortright_Claude Panos@MVC.com'],\n ['28',\n  'Female',\n  'Elenore Choy',\n  'MVC',\n  '8532574',\n  '76',\n  'Tijuana Kropf_Loris Crossett@Cloud.com'],\n ['28',\n  'Male',\n  'Loris Crossett',\n  'MVC',\n  '8541796',\n  '90',\n  'Clementina Menke_Michelle Ruggiero@Cloud.com'],\n ['28',\n  'Female',\n  'Leontine Phillips',\n  'MVC',\n  '8551036',\n  '31',\n  'Celeste Lollis_Anna Santos@MVC.com'],\n ['29',\n  'Female',\n  'Dustin Feagins',\n  'DB',\n  '8561099',\n  '32',\n  'Margene Moores_Margene Moores@Cloud.com'],\n ['28',\n  'Male',\n  'Anna Santos',\n  'Cloud',\n  '8571411',\n  '94',\n  'Jc Andrepont_Cordie Harnois@OOP.com'],\n ['29',\n  'Female',\n  'Loris Crossett',\n  'DSA',\n  '8581552',\n  '86',\n  'Taryn Brownlee_Elenore Choy@Cloud.com'],\n ['29',\n  'Male',\n  'Cordie Harnois',\n  'MVC',\n  '8592355',\n  '95',\n  'Ernest Rossbach_Tijuana Kropf@OOP.com'],\n ['29',\n  'Female',\n  'Taryn Brownlee',\n  'OOP',\n  '8602786',\n  '40',\n  'Elenore Choy_Ernest Rossbach@DB.com'],\n ['28',\n  'Male',\n  'Naoma Fritts',\n  'DB',\n  '8611528',\n  '89',\n  'Nicole Harwood_Clementina Menke@MVC.com'],\n ['29',\n  'Male',\n  'Marylee Capasso',\n  'Cloud',\n  '8622148',\n  '29',\n  'Hubert Oliveras_Claude Panos@Cloud.com'],\n ['29',\n  'Female',\n  'Clementina Menke',\n  'PF',\n  '8632774',\n  '33',\n  'Dustin Feagins_Latia Vanhoose@PF.com'],\n ['29',\n  'Female',\n  'Sheryll Towler',\n  'Cloud',\n  '8641804',\n  '31',\n  'Somer Stoecker_Marylee Capasso@PF.com'],\n ['29',\n  'Male',\n  'Cheri Kenney',\n  'DB',\n  '8652382',\n  '36',\n  'Santa Kerfien_Cordie Harnois@Cloud.com'],\n ['28',\n  'Female',\n  'Loris Crossett',\n  'OOP',\n  '8661474',\n  '72',\n  'Neda Briski_Jeannetta Golden@DB.com'],\n ['29',\n  'Male',\n  'Alberta Freund',\n  'Cloud',\n  '8671926',\n  '85',\n  'Paris Hutton_Somer Stoecker@PF.com'],\n ['28',\n  'Male',\n  'Neda Briski',\n  'OOP',\n  '8681708',\n  '34',\n  'Jenna Montague_Lawanda Wohlwend@OOP.com'],\n ['28',\n  'Male',\n  'Nicole Harwood',\n  'MVC',\n  '8692811',\n  '63',\n  'Neda Briski_Kena Wild@Cloud.com'],\n ['29',\n  'Male',\n  'Donna Yerby',\n  'DB',\n  '8701973',\n  '33',\n  'Priscila Tavernier_Mitzi Seldon@DB.com'],\n ['28',\n  'Female',\n  'Melani Engberg',\n  'DSA',\n  '8712604',\n  '69',\n  'Celeste Lollis_Claude Panos@MVC.com'],\n ['29',\n  'Female',\n  'Neda Briski',\n  'DB',\n  '8722464',\n  '30',\n  'Mickey Cortright_Anna Santos@OOP.com'],\n ['28',\n  'Female',\n  'Somer Stoecker',\n  'OOP',\n  '8732476',\n  '65',\n  'Annika Hoffman_Anna Santos@DB.com'],\n ['29',\n  'Male',\n  'Maybell Duguay',\n  'PF',\n  '8741191',\n  '79',\n  'Judie Chipps_Niki Klimek@OOP.com'],\n ['29',\n  'Male',\n  'Cheri Kenney',\n  'MVC',\n  '8752460',\n  '84',\n  'Cordie Harnois_Jeannetta Golden@PF.com'],\n ['29',\n  'Male',\n  'Celeste Lollis',\n  'MVC',\n  '8762292',\n  '35',\n  'Clementina Menke_Tijuana Kropf@DB.com'],\n ['29',\n  'Female',\n  'Annika Hoffman',\n  'OOP',\n  '8772154',\n  '79',\n  'Tijuana Kropf_Cordie Harnois@DSA.com'],\n ['29',\n  'Male',\n  'Niki Klimek',\n  'Cloud',\n  '8782036',\n  '72',\n  'Clementina Menke_Taryn Brownlee@MVC.com'],\n ['29',\n  'Male',\n  'Billi Clore',\n  'MVC',\n  '8792432',\n  '79',\n  'Anna Santos_Jalisa Swenson@Cloud.com'],\n ['28',\n  'Female',\n  'Toshiko Hillyard',\n  'MVC',\n  '8801160',\n  '86',\n  'Neda Briski_Donna Yerby@DB.com'],\n ['29',\n  'Male',\n  'Mitzi Seldon',\n  'DB',\n  '8811681',\n  '46',\n  'Ernest Rossbach_Eda Neathery@MVC.com'],\n ['28',\n  'Male',\n  'Tijuana Kropf',\n  'Cloud',\n  '8822597',\n  '31',\n  'Lawanda Wohlwend_Eda Neathery@MVC.com'],\n ['28',\n  'Female',\n  'Nicole Harwood',\n  'MVC',\n  '8831173',\n  '27',\n  'Gonzalo Ferebee_Dustin Feagins@OOP.com'],\n ['29',\n  'Female',\n  'Claude Panos',\n  'OOP',\n  '8842014',\n  '30',\n  'Annika Hoffman_Jenna Montague@Cloud.com'],\n ['28',\n  'Male',\n  'Annika Hoffman',\n  'Cloud',\n  '8852570',\n  '82',\n  'Kizzy Brenner_Claude Panos@MVC.com'],\n ['28',\n  'Female',\n  'Nicole Harwood',\n  'Cloud',\n  '8862840',\n  '67',\n  'Claude Panos_Claude Panos@DSA.com'],\n ['28',\n  'Male',\n  'Dustin Feagins',\n  'DB',\n  '8871049',\n  '98',\n  'Jenna Montague_Claude Panos@DSA.com'],\n ['29',\n  'Male',\n  'Nicole Harwood',\n  'MVC',\n  '8882981',\n  '32',\n  'Santa Kerfien_Eda Neathery@OOP.com'],\n ['29',\n  'Male',\n  'Marylee Capasso',\n  'OOP',\n  '8891960',\n  '29',\n  'Mickey Cortright_Billi Clore@PF.com'],\n ['28',\n  'Male',\n  'Somer Stoecker',\n  'DSA',\n  '8902098',\n  '73',\n  'Nicole Harwood_Paris Hutton@PF.com'],\n ['28',\n  'Male',\n  'Celeste Lollis',\n  'PF',\n  '8911713',\n  '93',\n  'Hubert Oliveras_Mitzi Seldon@DB.com'],\n ['28',\n  'Male',\n  'Mitzi Seldon',\n  'Cloud',\n  '8922149',\n  '65',\n  'Maybell Duguay_Hubert Oliveras@PF.com'],\n ['28',\n  'Male',\n  'Billi Clore',\n  'OOP',\n  '8932725',\n  '59',\n  'Kizzy Brenner_Latia Vanhoose@PF.com'],\n ['29',\n  'Female',\n  'Gonzalo Ferebee',\n  'Cloud',\n  '8942812',\n  '87',\n  'Michelle Ruggiero_Neda Briski@Cloud.com'],\n ['29',\n  'Female',\n  'Annika Hoffman',\n  'DSA',\n  '8951068',\n  '94',\n  'Neda Briski_Abram Nagao@OOP.com'],\n ['28',\n  'Female',\n  'Leontine Phillips',\n  'Cloud',\n  '8962531',\n  '84',\n  'Tamera Blakley_Marylee Capasso@Cloud.com'],\n ['28',\n  'Male',\n  'Ernest Rossbach',\n  'MVC',\n  '8972546',\n  '62',\n  'Sheryll Towler_Jeannetta Golden@PF.com'],\n ['28',\n  'Male',\n  'Kizzy Brenner',\n  'OOP',\n  '8981887',\n  '27',\n  'Naoma Fritts_Mitzi Seldon@DB.com'],\n ['28',\n  'Male',\n  'Elenore Choy',\n  'DSA',\n  '8991321',\n  '57',\n  'Celeste Lollis_Margene Moores@DB.com'],\n ['29',\n  'Male',\n  'Santa Kerfien',\n  'DSA',\n  '9002004',\n  '27',\n  'Jeannetta Golden_Clementina Menke@MVC.com'],\n ['28',\n  'Female',\n  'Lawanda Wohlwend',\n  'OOP',\n  '9011862',\n  '48',\n  'Jalisa Swenson_Gonzalo Ferebee@OOP.com'],\n ['29',\n  'Male',\n  'Elenore Choy',\n  'DB',\n  '9021601',\n  '46',\n  'Clementina Menke_Mickey Cortright@PF.com'],\n ['28',\n  'Male',\n  'Alberta Freund',\n  'DSA',\n  '9031966',\n  '56',\n  'Niki Klimek_Alberta Freund@PF.com'],\n ['29',\n  'Male',\n  'Celeste Lollis',\n  'Cloud',\n  '9042870',\n  '52',\n  'Bonita Higuera_Jeannetta Golden@PF.com'],\n ['29',\n  'Male',\n  'Sheryll Towler',\n  'MVC',\n  '9052132',\n  '88',\n  'Jeannetta Golden_Donna Yerby@DB.com'],\n ['29',\n  'Female',\n  'Jalisa Swenson',\n  'DSA',\n  '9061384',\n  '41',\n  'Jenna Montague_Melani Engberg@DSA.com'],\n ['29',\n  'Male',\n  'Celeste Lollis',\n  'Cloud',\n  '9072506',\n  '81',\n  'Celeste Lollis_Cordie Harnois@Cloud.com'],\n ['29',\n  'Female',\n  'Ernest Rossbach',\n  'Cloud',\n  '9082371',\n  '79',\n  'Jalisa Swenson_Mitzi Seldon@DB.com'],\n ['29',\n  'Female',\n  'Annika Hoffman',\n  'OOP',\n  '9091099',\n  '89',\n  'Kizzy Brenner_Jeannetta Golden@MVC.com'],\n ['29',\n  'Male',\n  'Gonzalo Ferebee',\n  'Cloud',\n  '9102078',\n  '45',\n  'Tamera Blakley_Melani Engberg@MVC.com'],\n ['29',\n  'Female',\n  'Marylee Capasso',\n  'DSA',\n  '9112909',\n  '38',\n  'Priscila Tavernier_Hubert Oliveras@Cloud.com'],\n ['29',\n  'Female',\n  'Lawanda Wohlwend',\n  'DSA',\n  '9122250',\n  '46',\n  'Jeannetta Golden_Sheryll Towler@DB.com'],\n ['29',\n  'Female',\n  'Judie Chipps',\n  'MVC',\n  '9131672',\n  '35',\n  'Tijuana Kropf_Taryn Brownlee@DSA.com'],\n ['28',\n  'Female',\n  'Taryn Brownlee',\n  'MVC',\n  '9142398',\n  '59',\n  'Lawanda Wohlwend_Billi Clore@Cloud.com'],\n ['28',\n  'Male',\n  'Billi Clore',\n  'DB',\n  '9151306',\n  '21',\n  'Latia Vanhoose_Ernest Rossbach@DB.com'],\n ['28',\n  'Female',\n  'Nicole Harwood',\n  'PF',\n  '9162701',\n  '61',\n  'Jc Andrepont_Jeannetta Golden@Cloud.com'],\n ['28',\n  'Male',\n  'Claude Panos',\n  'OOP',\n  '9172978',\n  '60',\n  'Cordie Harnois_Tamera Blakley@DSA.com'],\n ['28',\n  'Male',\n  'Cheri Kenney',\n  'DSA',\n  '9181598',\n  '44',\n  'Jc Andrepont_Maybell Duguay@OOP.com'],\n ['29',\n  'Female',\n  'Melani Engberg',\n  'DB',\n  '9192452',\n  '52',\n  'Niki Klimek_Niki Klimek@OOP.com'],\n ['29',\n  'Male',\n  'Ernest Rossbach',\n  'MVC',\n  '9201305',\n  '53',\n  'Gonzalo Ferebee_Billi Clore@DB.com'],\n ['28',\n  'Female',\n  'Cheri Kenney',\n  'PF',\n  '9211167',\n  '30',\n  'Mitzi Seldon_Somer Stoecker@PF.com'],\n ['29',\n  'Female',\n  'Eda Neathery',\n  'PF',\n  '9222608',\n  '99',\n  'Kena Wild_Lawanda Wohlwend@OOP.com'],\n ['29',\n  'Female',\n  'Michelle Ruggiero',\n  'DB',\n  '9232210',\n  '20',\n  'Donna Yerby_Latia Vanhoose@DB.com'],\n ['29',\n  'Male',\n  'Cordie Harnois',\n  'DSA',\n  '9242198',\n  '72',\n  'Maybell Duguay_Tamera Blakley@Cloud.com'],\n ['29',\n  'Female',\n  'Melani Engberg',\n  'DSA',\n  '9252365',\n  '97',\n  'Naoma Fritts_Melani Engberg@OOP.com'],\n ['28',\n  'Female',\n  'Taryn Brownlee',\n  'OOP',\n  '9262265',\n  '43',\n  'Cordie Harnois_Elenore Choy@DB.com'],\n ['28',\n  'Female',\n  'Jalisa Swenson',\n  'Cloud',\n  '9272149',\n  '39',\n  'Gonzalo Ferebee_Nicole Harwood@MVC.com'],\n ['29',\n  'Female',\n  'Jalisa Swenson',\n  'DB',\n  '9282374',\n  '33',\n  'Judie Chipps_Annika Hoffman@OOP.com'],\n ['29',\n  'Male',\n  'Mickey Cortright',\n  'Cloud',\n  '9291579',\n  '86',\n  'Margene Moores_Priscila Tavernier@MVC.com'],\n ['29',\n  'Male',\n  'Gonzalo Ferebee',\n  'Cloud',\n  '9302691',\n  '40',\n  'Niki Klimek_Alberta Freund@MVC.com'],\n ['29',\n  'Male',\n  'Niki Klimek',\n  'DSA',\n  '9311407',\n  '90',\n  'Marylee Capasso_Ernest Rossbach@PF.com'],\n ['28',\n  'Female',\n  'Cheri Kenney',\n  'DSA',\n  '9322391',\n  '71',\n  'Cheri Kenney_Claude Panos@OOP.com'],\n ['29',\n  'Male',\n  'Gonzalo Ferebee',\n  'PF',\n  '9331055',\n  '96',\n  'Kizzy Brenner_Alberta Freund@Cloud.com'],\n ['28',\n  'Female',\n  'Clementina Menke',\n  'DSA',\n  '9342400',\n  '37',\n  'Claude Panos_Ernest Rossbach@DSA.com'],\n ['29',\n  'Female',\n  'Michelle Ruggiero',\n  'DSA',\n  '9352759',\n  '97',\n  'Kena Wild_Nicole Harwood@DSA.com'],\n ['28',\n  'Male',\n  'Mitzi Seldon',\n  'PF',\n  '9362744',\n  '26',\n  'Somer Stoecker_Santa Kerfien@DSA.com'],\n ['29',\n  'Female',\n  'Ernest Rossbach',\n  'DB',\n  '9371629',\n  '96',\n  'Melani Engberg_Latia Vanhoose@PF.com'],\n ['28',\n  'Female',\n  'Paris Hutton',\n  'OOP',\n  '9382928',\n  '28',\n  'Kena Wild_Gonzalo Ferebee@PF.com'],\n ['28',\n  'Female',\n  'Jc Andrepont',\n  'Cloud',\n  '9391046',\n  '34',\n  'Latia Vanhoose_Taryn Brownlee@MVC.com'],\n ['28',\n  'Female',\n  'Kena Wild',\n  'MVC',\n  '9401194',\n  '24',\n  'Niki Klimek_Michelle Ruggiero@DB.com'],\n ['28',\n  'Male',\n  'Jenna Montague',\n  'DB',\n  '9411416',\n  '35',\n  'Latia Vanhoose_Paris Hutton@DSA.com'],\n ['29',\n  'Female',\n  'Abram Nagao',\n  'Cloud',\n  '9422898',\n  '38',\n  'Cheri Kenney_Santa Kerfien@OOP.com'],\n ['29',\n  'Female',\n  'Tijuana Kropf',\n  'Cloud',\n  '9431799',\n  '88',\n  'Lawanda Wohlwend_Cordie Harnois@MVC.com'],\n ['28',\n  'Male',\n  'Latia Vanhoose',\n  'DSA',\n  '9442974',\n  '29',\n  'Jc Andrepont_Celeste Lollis@DB.com'],\n ['28',\n  'Female',\n  'Judie Chipps',\n  'DB',\n  '9451237',\n  '49',\n  'Michelle Ruggiero_Sheryll Towler@MVC.com'],\n ['29',\n  'Female',\n  'Gonzalo Ferebee',\n  'MVC',\n  '9461441',\n  '31',\n  'Michelle Ruggiero_Elenore Choy@DSA.com'],\n ['28',\n  'Female',\n  'Latia Vanhoose',\n  'Cloud',\n  '9471888',\n  '56',\n  'Naoma Fritts_Kena Wild@DB.com'],\n ['29',\n  'Female',\n  'Annika Hoffman',\n  'OOP',\n  '9482135',\n  '96',\n  'Somer Stoecker_Somer Stoecker@OOP.com'],\n ['28',\n  'Male',\n  'Sebrina Maresca',\n  'PF',\n  '9492805',\n  '50',\n  'Neda Briski_Neda Briski@OOP.com'],\n ['28',\n  'Male',\n  'Toshiko Hillyard',\n  'DB',\n  '9502901',\n  '69',\n  'Kena Wild_Leontine Phillips@DSA.com'],\n ['29',\n  'Male',\n  'Kizzy Brenner',\n  'PF',\n  '9512850',\n  '52',\n  'Elenore Choy_Anna Santos@DB.com'],\n ['28',\n  'Female',\n  'Jalisa Swenson',\n  'OOP',\n  '9522521',\n  '50',\n  'Leontine Phillips_Cheri Kenney@DB.com'],\n ['29',\n  'Male',\n  'Celeste Lollis',\n  'Cloud',\n  '9531936',\n  '56',\n  'Cheri Kenney_Margene Moores@MVC.com'],\n ['29',\n  'Female',\n  'Mickey Cortright',\n  'MVC',\n  '9542973',\n  '28',\n  'Sebrina Maresca_Eda Neathery@MVC.com'],\n ['29',\n  'Male',\n  'Taryn Brownlee',\n  'PF',\n  '9551574',\n  '91',\n  'Jenna Montague_Billi Clore@MVC.com'],\n ['29',\n  'Male',\n  'Maybell Duguay',\n  'DB',\n  '9562208',\n  '44',\n  'Celeste Lollis_Anna Santos@DSA.com'],\n ['28',\n  'Female',\n  'Sheryll Towler',\n  'MVC',\n  '9571308',\n  '57',\n  'Margene Moores_Naoma Fritts@PF.com'],\n ['28',\n  'Female',\n  'Naoma Fritts',\n  'MVC',\n  '9581172',\n  '70',\n  'Taryn Brownlee_Cheri Kenney@Cloud.com'],\n ['29',\n  'Female',\n  'Annika Hoffman',\n  'OOP',\n  '9592635',\n  '40',\n  'Kena Wild_Margene Moores@Cloud.com'],\n ['28',\n  'Male',\n  'Melani Engberg',\n  'DB',\n  '9602880',\n  '42',\n  'Niki Klimek_Mickey Cortright@DB.com'],\n ['29',\n  'Male',\n  'Kena Wild',\n  'MVC',\n  '9611287',\n  '76',\n  'Cordie Harnois_Michelle Ruggiero@PF.com'],\n ['28',\n  'Female',\n  'Leontine Phillips',\n  'DB',\n  '9622410',\n  '46',\n  'Kena Wild_Donna Yerby@Cloud.com'],\n ['28',\n  'Male',\n  'Claude Panos',\n  'Cloud',\n  '9631836',\n  '73',\n  'Clementina Menke_Judie Chipps@DSA.com'],\n ['29',\n  'Male',\n  'Celeste Lollis',\n  'DSA',\n  '9642293',\n  '75',\n  'Maybell Duguay_Tijuana Kropf@OOP.com'],\n ['28',\n  'Male',\n  'Jc Andrepont',\n  'MVC',\n  '9652535',\n  '73',\n  'Michelle Ruggiero_Lawanda Wohlwend@DB.com'],\n ['29',\n  'Male',\n  'Kena Wild',\n  'DSA',\n  '9662661',\n  '41',\n  'Latia Vanhoose_Sebrina Maresca@DB.com'],\n ['29',\n  'Male',\n  'Leontine Phillips',\n  'DB',\n  '9671707',\n  '26',\n  'Sebrina Maresca_Jalisa Swenson@MVC.com'],\n ['28',\n  'Female',\n  'Clementina Menke',\n  'DSA',\n  '9682190',\n  '24',\n  'Clementina Menke_Dustin Feagins@DB.com'],\n ['28',\n  'Male',\n  'Loris Crossett',\n  'OOP',\n  '9692316',\n  '99',\n  'Judie Chipps_Michelle Ruggiero@Cloud.com'],\n ['29',\n  'Male',\n  'Paris Hutton',\n  'DSA',\n  '9702829',\n  '22',\n  'Hubert Oliveras_Cheri Kenney@OOP.com'],\n ['29',\n  'Female',\n  'Abram Nagao',\n  'PF',\n  '9711154',\n  '23',\n  'Judie Chipps_Naoma Fritts@DSA.com'],\n ['28',\n  'Female',\n  'Niki Klimek',\n  'MVC',\n  '9722763',\n  '77',\n  'Taryn Brownlee_Jalisa Swenson@OOP.com'],\n ['29',\n  'Male',\n  'Neda Briski',\n  'Cloud',\n  '9732604',\n  '77',\n  'Kena Wild_Hubert Oliveras@Cloud.com'],\n ['29',\n  'Female',\n  'Mickey Cortright',\n  'Cloud',\n  '9741291',\n  '77',\n  'Melani Engberg_Donna Yerby@MVC.com'],\n ['28',\n  'Female',\n  'Somer Stoecker',\n  'PF',\n  '9751163',\n  '36',\n  'Nicole Harwood_Margene Moores@MVC.com'],\n ['28',\n  'Female',\n  'Loris Crossett',\n  'OOP',\n  '9761188',\n  '39',\n  'Alberta Freund_Bonita Higuera@DSA.com'],\n ['28',\n  'Male',\n  'Anna Santos',\n  'DB',\n  '9772185',\n  '22',\n  'Kizzy Brenner_Annika Hoffman@PF.com'],\n ['28',\n  'Female',\n  'Celeste Lollis',\n  'DB',\n  '9782472',\n  '44',\n  'Kena Wild_Hubert Oliveras@DSA.com'],\n ['29',\n  'Female',\n  'Toshiko Hillyard',\n  'DSA',\n  '9792504',\n  '68',\n  'Nicole Harwood_Somer Stoecker@DB.com'],\n ['29',\n  'Male',\n  'Donna Yerby',\n  'MVC',\n  '9802357',\n  '41',\n  'Tamera Blakley_Jalisa Swenson@MVC.com'],\n ['29',\n  'Male',\n  'Santa Kerfien',\n  'DB',\n  '9811489',\n  '31',\n  'Abram Nagao_Melani Engberg@Cloud.com'],\n ['29',\n  'Male',\n  'Hubert Oliveras',\n  'DB',\n  '9822797',\n  '51',\n  'Lawanda Wohlwend_Jalisa Swenson@DB.com'],\n ['28',\n  'Male',\n  'Paris Hutton',\n  'DB',\n  '9832215',\n  '36',\n  'Niki Klimek_Tijuana Kropf@PF.com'],\n ['29',\n  'Male',\n  'Mitzi Seldon',\n  'PF',\n  '9842669',\n  '30',\n  'Jalisa Swenson_Sebrina Maresca@MVC.com'],\n ['28',\n  'Female',\n  'Donna Yerby',\n  'OOP',\n  '9851840',\n  '63',\n  'Ernest Rossbach_Mitzi Seldon@Cloud.com'],\n ['29',\n  'Female',\n  'Marylee Capasso',\n  'DB',\n  '9862444',\n  '60',\n  'Bonita Higuera_Kena Wild@OOP.com'],\n ['29',\n  'Female',\n  'Annika Hoffman',\n  'PF',\n  '9871120',\n  '84',\n  'Ernest Rossbach_Billi Clore@MVC.com'],\n ['28',\n  'Male',\n  'Sheryll Towler',\n  'MVC',\n  '9881953',\n  '76',\n  'Ernest Rossbach_Santa Kerfien@DB.com'],\n ['28',\n  'Male',\n  'Kena Wild',\n  'DSA',\n  '9891274',\n  '85',\n  'Donna Yerby_Leontine Phillips@Cloud.com'],\n ['29',\n  'Male',\n  'Tijuana Kropf',\n  'DB',\n  '9902560',\n  '66',\n  'Tijuana Kropf_Abram Nagao@Cloud.com'],\n ['28',\n  'Male',\n  'Neda Briski',\n  'PF',\n  '9912790',\n  '65',\n  'Hubert Oliveras_Taryn Brownlee@PF.com'],\n ['29',\n  'Female',\n  'Marylee Capasso',\n  'OOP',\n  '9922554',\n  '50',\n  'Naoma Fritts_Paris Hutton@DSA.com'],\n ['29',\n  'Male',\n  'Cordie Harnois',\n  'PF',\n  '9931081',\n  '97',\n  'Toshiko Hillyard_Abram Nagao@Cloud.com'],\n ['29',\n  'Female',\n  'Anna Santos',\n  'Cloud',\n  '9942543',\n  '87',\n  'Somer Stoecker_Mickey Cortright@DB.com'],\n ['28',\n  'Female',\n  'Celeste Lollis',\n  'DB',\n  '9952416',\n  '59',\n  'Gonzalo Ferebee_Jalisa Swenson@DB.com'],\n ['29',\n  'Female',\n  'Somer Stoecker',\n  'Cloud',\n  '9962277',\n  '84',\n  'Clementina Menke_Paris Hutton@OOP.com'],\n ['28',\n  'Male',\n  'Tamera Blakley',\n  'DSA',\n  '9971217',\n  '26',\n  'Anna Santos_Claude Panos@PF.com'],\n ['28',\n  'Female',\n  'Tamera Blakley',\n  'MVC',\n  '9982779',\n  '71',\n  'Toshiko Hillyard_Anna Santos@DSA.com'],\n ['29',\n  'Female',\n  'Jenna Montague',\n  'PF',\n  '9991617',\n  '23',\n  'Anna Santos_Jenna Montague@DB.com']]"
     ]
    }
   ],
   "source": [
    "rdd.collect()"
   ]
  },
  {
   "cell_type": "markdown",
   "metadata": {
    "application/vnd.databricks.v1+cell": {
     "cellMetadata": {},
     "inputWidgets": {},
     "nuid": "745dc299-a3a7-4736-8cf1-940ace5cf502",
     "showTitle": false,
     "title": ""
    }
   },
   "source": [
    "Perform the following analytics on the data\n",
    "\n",
    "\n",
    "\n",
    "\n",
    "\n",
    "\n",
    "\n",
    "\n"
   ]
  },
  {
   "cell_type": "code",
   "execution_count": 0,
   "metadata": {
    "application/vnd.databricks.v1+cell": {
     "cellMetadata": {
      "byteLimit": 2048000,
      "rowLimit": 10000
     },
     "inputWidgets": {},
     "nuid": "6791906b-4560-4d33-89fb-bb445b3faf5d",
     "showTitle": false,
     "title": ""
    }
   },
   "outputs": [
    {
     "output_type": "stream",
     "name": "stdout",
     "output_type": "stream",
     "text": [
      "Out[7]: 1000"
     ]
    }
   ],
   "source": [
    "# 1 Show the number of students in the file.\n",
    "rdd.count()\n"
   ]
  },
  {
   "cell_type": "code",
   "execution_count": 0,
   "metadata": {
    "application/vnd.databricks.v1+cell": {
     "cellMetadata": {
      "byteLimit": 2048000,
      "rowLimit": 10000
     },
     "inputWidgets": {},
     "nuid": "f4eaec96-f78a-495b-9f21-ffe5973be39f",
     "showTitle": false,
     "title": ""
    }
   },
   "outputs": [
    {
     "output_type": "stream",
     "name": "stdout",
     "output_type": "stream",
     "text": [
      "Out[8]: [('Female', 29636), ('Male', 30461)]"
     ]
    }
   ],
   "source": [
    "# 2 Show the total marks achieved by Female and Male students\n",
    "rdd2= rdd \n",
    "rdd2= rdd2.map(lambda x: (x[1], int(x[5])))\n",
    "\n",
    "rdd2=rdd2.reduceByKey(lambda x,y: x+y)\n",
    "rdd2.collect()"
   ]
  },
  {
   "cell_type": "code",
   "execution_count": 0,
   "metadata": {
    "application/vnd.databricks.v1+cell": {
     "cellMetadata": {
      "byteLimit": 2048000,
      "rowLimit": 10000
     },
     "inputWidgets": {},
     "nuid": "8d1bf17e-1f7c-4cac-8673-25a2382678c4",
     "showTitle": false,
     "title": ""
    }
   },
   "outputs": [
    {
     "output_type": "stream",
     "name": "stdout",
     "output_type": "stream",
     "text": [
      "630 370\n630 370\n"
     ]
    }
   ],
   "source": [
    "# 3 Show the total number of students that have passed and failed. 50+ marks are required to pass the course.\n",
    "rdd3= rdd \n",
    "passed = rdd3.filter(lambda x: int(x[5])>50).count()\n",
    "failed = rdd3.filter(lambda x: int(x[5])<=50).count()\n",
    "\n",
    "print(passed, failed)\n",
    "\n",
    "# or\n",
    "\n",
    "passed2= rdd3.filter(lambda x: int(x[5])>50).count()\n",
    "failed2= rdd.count() - passed2 \n",
    "print(passed2, failed2) \n",
    "\n"
   ]
  },
  {
   "cell_type": "code",
   "execution_count": 0,
   "metadata": {
    "application/vnd.databricks.v1+cell": {
     "cellMetadata": {
      "byteLimit": 2048000,
      "rowLimit": 10000
     },
     "inputWidgets": {},
     "nuid": "0b8562fe-5026-4bb3-b41e-6680c00fec20",
     "showTitle": false,
     "title": ""
    }
   },
   "outputs": [
    {
     "output_type": "stream",
     "name": "stdout",
     "output_type": "stream",
     "text": [
      "Out[15]: [('DB', 157),\n ('Cloud', 192),\n ('PF', 166),\n ('MVC', 157),\n ('OOP', 152),\n ('DSA', 176)]"
     ]
    }
   ],
   "source": [
    "# 4 Show the total number of students enrolled per course \n",
    "rdd4 = rdd\n",
    "rdd4 = rdd4.map(lambda x: (x[3],1))\n",
    "rdd4.reduceByKey(lambda x,y: x+y).collect()\n"
   ]
  },
  {
   "cell_type": "code",
   "execution_count": 0,
   "metadata": {
    "application/vnd.databricks.v1+cell": {
     "cellMetadata": {
      "byteLimit": 2048000,
      "rowLimit": 10000
     },
     "inputWidgets": {},
     "nuid": "e2a959b1-4b3e-4717-a9b4-d991c7007ed3",
     "showTitle": false,
     "title": ""
    }
   },
   "outputs": [
    {
     "output_type": "stream",
     "name": "stdout",
     "output_type": "stream",
     "text": [
      "Out[16]: [('DB', 9270),\n ('Cloud', 11443),\n ('PF', 9933),\n ('MVC', 9585),\n ('OOP', 8916),\n ('DSA', 10950)]"
     ]
    }
   ],
   "source": [
    "# 5 Show the total marks that students have achieved per course\n",
    "rdd5 = rdd\n",
    "rdd5 = rdd5.map(lambda x: (x[3], int(x[5])))\n",
    "rdd5.reduceByKey(lambda x,y: x+y).collect()"
   ]
  },
  {
   "cell_type": "code",
   "execution_count": 0,
   "metadata": {
    "application/vnd.databricks.v1+cell": {
     "cellMetadata": {
      "byteLimit": 2048000,
      "rowLimit": 10000
     },
     "inputWidgets": {},
     "nuid": "5574bf8f-aca6-4deb-b793-5e80c2316d70",
     "showTitle": false,
     "title": ""
    }
   },
   "outputs": [
    {
     "output_type": "stream",
     "name": "stdout",
     "output_type": "stream",
     "text": [
      "Out[20]: [('DB', 59.044585987261144),\n ('Cloud', 59.598958333333336),\n ('PF', 59.83734939759036),\n ('MVC', 61.05095541401274),\n ('OOP', 58.6578947368421),\n ('DSA', 62.21590909090909)]"
     ]
    }
   ],
   "source": [
    "# 6 Show the average marks that students have achieved per course\n",
    "rdd6 = rdd\n",
    "rdd6 = rdd6.map(lambda x: (x[3], (int(x[5]), 1) ))\n",
    "rdd6 = rdd6.reduceByKey( lambda x,y : (x[0] + y[0], x[1] + y[1]))\n",
    "rdd6.collect()\n",
    "rdd6.map(lambda x: (x[0], (x[1][0] / x[1][1]))).collect()\n",
    "rdd6.mapValues(lambda x: (x[0] / x[1])).collect()\n"
   ]
  },
  {
   "cell_type": "code",
   "execution_count": 0,
   "metadata": {
    "application/vnd.databricks.v1+cell": {
     "cellMetadata": {
      "byteLimit": 2048000,
      "rowLimit": 10000
     },
     "inputWidgets": {},
     "nuid": "eae088e9-92b9-45d0-9eb7-0c3f80f9a599",
     "showTitle": false,
     "title": ""
    }
   },
   "outputs": [
    {
     "output_type": "stream",
     "name": "stdout",
     "output_type": "stream",
     "text": [
      "[('DB', 98), ('Cloud', 99), ('PF', 99), ('MVC', 99), ('OOP', 99), ('DSA', 99)]\n[('DB', 20), ('Cloud', 20), ('PF', 20), ('MVC', 22), ('OOP', 20), ('DSA', 20)]\n"
     ]
    }
   ],
   "source": [
    "# 7 Show the minimum and maximum marks achieved per course\n",
    "rdd7 = rdd\n",
    "rdd7 = rdd7.map(lambda x: (x[3], int(x[5])))\n",
    "print(rdd7.reduceByKey(lambda x,y: x if x > y else y).collect())\n",
    "print(rdd7.reduceByKey(lambda x,y: x if x < y else y).collect())\n"
   ]
  },
  {
   "cell_type": "code",
   "execution_count": 0,
   "metadata": {
    "application/vnd.databricks.v1+cell": {
     "cellMetadata": {
      "byteLimit": 2048000,
      "rowLimit": 10000
     },
     "inputWidgets": {},
     "nuid": "d2e6c771-8ef4-4d53-9a5a-6157f3075353",
     "showTitle": false,
     "title": ""
    }
   },
   "outputs": [
    {
     "output_type": "stream",
     "name": "stdout",
     "output_type": "stream",
     "text": [
      "Out[25]: [('Female', 28.489021956087825), ('Male', 28.52304609218437)]"
     ]
    }
   ],
   "source": [
    "# 8 Show the average age of male and female students\n",
    "rdd8 = rdd\n",
    "rdd8 = rdd8.map( lambda x: ( x[1] , ( int(x[0]), 1 ) ) )\n",
    "rdd8 = rdd8.reduceByKey(lambda x,y: ( x[0] + y[0], x[1] + y[1] )  )\n",
    "# rdd8.collect()\n",
    "rdd8.mapValues(lambda x: x[0]/x[1]).collect()"
   ]
  },
  {
   "cell_type": "code",
   "execution_count": 0,
   "metadata": {
    "application/vnd.databricks.v1+cell": {
     "cellMetadata": {},
     "inputWidgets": {},
     "nuid": "6cb1abd4-708e-4592-a69e-644be3d3f2c4",
     "showTitle": false,
     "title": ""
    }
   },
   "outputs": [],
   "source": []
  }
 ],
 "metadata": {
  "application/vnd.databricks.v1+notebook": {
   "dashboards": [],
   "environmentMetadata": null,
   "language": "python",
   "notebookMetadata": {
    "pythonIndentUnit": 4
   },
   "notebookName": "Day 4 PySpark Session",
   "widgets": {}
  }
 },
 "nbformat": 4,
 "nbformat_minor": 0
}
