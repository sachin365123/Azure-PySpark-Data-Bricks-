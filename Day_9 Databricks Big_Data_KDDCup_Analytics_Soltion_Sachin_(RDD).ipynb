{
 "cells": [
  {
   "cell_type": "markdown",
   "metadata": {
    "application/vnd.databricks.v1+cell": {
     "cellMetadata": {},
     "inputWidgets": {},
     "nuid": "f8bf46b6-5fe7-48e9-b71d-13ec72ea300c",
     "showTitle": false,
     "tableResultSettingsMap": {},
     "title": ""
    },
    "id": "tQWyvE6oKP34"
   },
   "source": [
    "# **KDDCup Data Analytics with PySpark RDD: A structured case study**"
   ]
  },
  {
   "cell_type": "markdown",
   "metadata": {
    "application/vnd.databricks.v1+cell": {
     "cellMetadata": {},
     "inputWidgets": {},
     "nuid": "d313610a-7aee-4aad-a750-e45dacc2a6ae",
     "showTitle": false,
     "tableResultSettingsMap": {},
     "title": ""
    },
    "id": "OfJ9r2fSKh8_"
   },
   "source": [
    "## YouTube channel: Code with Kristi\n",
    "## Tutor: Dr Sachin Saxena (PhD, MTech, BTech)"
   ]
  },
  {
   "cell_type": "markdown",
   "metadata": {
    "application/vnd.databricks.v1+cell": {
     "cellMetadata": {},
     "inputWidgets": {},
     "nuid": "6a570268-5612-40c6-8d38-554527b35e45",
     "showTitle": false,
     "tableResultSettingsMap": {},
     "title": ""
    },
    "id": "zS3wzWb8Kmyf"
   },
   "source": [
    "### data source: http://kdd.ics.uci.edu/databases/kddcup99/kddcup99.html"
   ]
  },
  {
   "cell_type": "code",
   "execution_count": 0,
   "metadata": {
    "application/vnd.databricks.v1+cell": {
     "cellMetadata": {
      "byteLimit": 2048000,
      "rowLimit": 10000
     },
     "inputWidgets": {},
     "nuid": "659bdbb1-7110-477a-975d-86d42d3e0934",
     "showTitle": false,
     "tableResultSettingsMap": {},
     "title": ""
    },
    "id": "pk0qcfhTIPsY"
   },
   "outputs": [
    {
     "output_type": "stream",
     "name": "stdout",
     "output_type": "stream",
     "text": [
      "['0,tcp,http,SF,215,45076,0,0,0,0,0,1,0,0,0,0,0,0,0,0,0,0,1,1,0.00,0.00,0.00,0.00,1.00,0.00,0.00,0,0,0.00,0.00,0.00,0.00,0.00,0.00,0.00,0.00,normal.', '0,tcp,http,SF,162,4528,0,0,0,0,0,1,0,0,0,0,0,0,0,0,0,0,2,2,0.00,0.00,0.00,0.00,1.00,0.00,0.00,1,1,1.00,0.00,1.00,0.00,0.00,0.00,0.00,0.00,normal.', '0,tcp,http,SF,236,1228,0,0,0,0,0,1,0,0,0,0,0,0,0,0,0,0,1,1,0.00,0.00,0.00,0.00,1.00,0.00,0.00,2,2,1.00,0.00,0.50,0.00,0.00,0.00,0.00,0.00,normal.', '0,tcp,http,SF,233,2032,0,0,0,0,0,1,0,0,0,0,0,0,0,0,0,0,2,2,0.00,0.00,0.00,0.00,1.00,0.00,0.00,3,3,1.00,0.00,0.33,0.00,0.00,0.00,0.00,0.00,normal.', '0,tcp,http,SF,239,486,0,0,0,0,0,1,0,0,0,0,0,0,0,0,0,0,3,3,0.00,0.00,0.00,0.00,1.00,0.00,0.00,4,4,1.00,0.00,0.25,0.00,0.00,0.00,0.00,0.00,normal.']\nRDD successfully loaded from DBFS!\n"
     ]
    }
   ],
   "source": [
    "# Initialize SparkContext - not required in Databricks, it's auto-initialized\n",
    "# from pyspark import SparkContext\n",
    "# sc = SparkContext.getOrCreate()\n",
    "\n",
    "# DBFS file path (no need for /dbfs prefix inside Spark code)\n",
    "file_path = \"dbfs:/FileStore/kddcup_data.gz\"\n",
    "\n",
    "# Load data using SparkContext\n",
    "rdd = sc.textFile(file_path)\n",
    "\n",
    "# Check data\n",
    "print(rdd.take(5))  # sample output\n",
    "print(\"RDD successfully loaded from DBFS!\")"
   ]
  },
  {
   "cell_type": "markdown",
   "metadata": {
    "application/vnd.databricks.v1+cell": {
     "cellMetadata": {},
     "inputWidgets": {},
     "nuid": "61d2f493-cb6c-4559-bd7c-18037b537e3e",
     "showTitle": false,
     "tableResultSettingsMap": {},
     "title": ""
    },
    "id": "q2cfL1eVOUWT"
   },
   "source": [
    "# Repartition and Cache Data:"
   ]
  },
  {
   "cell_type": "code",
   "execution_count": 0,
   "metadata": {
    "application/vnd.databricks.v1+cell": {
     "cellMetadata": {
      "byteLimit": 2048000,
      "rowLimit": 10000
     },
     "inputWidgets": {},
     "nuid": "5ef91db5-5da6-4598-932f-46d179aaeef2",
     "showTitle": false,
     "tableResultSettingsMap": {},
     "title": ""
    },
    "colab": {
     "base_uri": "https://localhost:8080/"
    },
    "id": "8Hhj6cAHOZQw",
    "outputId": "060c9adf-827a-4acc-d19c-75a9f6595d7d"
   },
   "outputs": [
    {
     "output_type": "execute_result",
     "data": {
      "text/plain": [
       "1"
      ]
     },
     "execution_count": 2,
     "metadata": {},
     "output_type": "execute_result"
    }
   ],
   "source": [
    "# How many partitions do we have?\n",
    "# By default, the number of partitions is determined by the number of cores available\n",
    "# in your local setup or cluster.\n",
    "# If you are running it locally, it's often based on the number of CPU cores.\n",
    "rdd.getNumPartitions()"
   ]
  },
  {
   "cell_type": "code",
   "execution_count": 0,
   "metadata": {
    "application/vnd.databricks.v1+cell": {
     "cellMetadata": {
      "byteLimit": 2048000,
      "rowLimit": 10000
     },
     "inputWidgets": {},
     "nuid": "1fb818d6-5181-4749-b285-4612f86c45d8",
     "showTitle": false,
     "tableResultSettingsMap": {},
     "title": ""
    },
    "colab": {
     "base_uri": "https://localhost:8080/",
     "height": 172
    },
    "id": "dctlJdikWDGk",
    "outputId": "fc893947-1dc0-4cd5-c2c7-105ff02945e6"
   },
   "outputs": [
    {
     "output_type": "execute_result",
     "data": {
      "text/plain": [
       "pyspark.core.rdd.RDD"
      ]
     },
     "execution_count": 3,
     "metadata": {},
     "output_type": "execute_result"
    }
   ],
   "source": [
    "type(rdd)"
   ]
  },
  {
   "cell_type": "code",
   "execution_count": 0,
   "metadata": {
    "application/vnd.databricks.v1+cell": {
     "cellMetadata": {
      "byteLimit": 2048000,
      "rowLimit": 10000
     },
     "inputWidgets": {},
     "nuid": "2a8dc04e-5b9b-487b-b042-d51ccdc88bb2",
     "showTitle": false,
     "tableResultSettingsMap": {},
     "title": ""
    },
    "colab": {
     "base_uri": "https://localhost:8080/"
    },
    "id": "ZDLSwlK9Osgt",
    "outputId": "e28fe9ab-b864-4f12-b071-b1e291e5265f"
   },
   "outputs": [
    {
     "output_type": "execute_result",
     "data": {
      "text/plain": [
       "[4898431]"
      ]
     },
     "execution_count": 4,
     "metadata": {},
     "output_type": "execute_result"
    }
   ],
   "source": [
    "rdd.glom().map(len).collect()\n",
    "\n",
    "# glom(): Transforms each partition of the RDD into a list. Instead of working with individual elements, you now have a list of elements for each partition.\n",
    "\n",
    "# map(len): Applies the len function to each partition (which is now a list) to get the count of elements in that partition.\n",
    "\n",
    "# collect(): Collects the result back to the driver as a list, giving the count of elements in each partition."
   ]
  },
  {
   "cell_type": "code",
   "execution_count": 0,
   "metadata": {
    "application/vnd.databricks.v1+cell": {
     "cellMetadata": {},
     "inputWidgets": {},
     "nuid": "1d99e48c-27a1-47c3-b76f-8aa7ab019f8f",
     "showTitle": false,
     "tableResultSettingsMap": {},
     "title": ""
    },
    "id": "PJEIdXXQV4U2"
   },
   "outputs": [],
   "source": [
    "# To check the contents of the RDD\n",
    "# print(rdd.collect())"
   ]
  },
  {
   "cell_type": "code",
   "execution_count": 0,
   "metadata": {
    "application/vnd.databricks.v1+cell": {
     "cellMetadata": {
      "byteLimit": 2048000,
      "rowLimit": 10000
     },
     "inputWidgets": {},
     "nuid": "63088f86-520b-4a65-958c-e9bef821326d",
     "showTitle": false,
     "tableResultSettingsMap": {},
     "title": ""
    },
    "id": "VpQyCebVV1GY"
   },
   "outputs": [],
   "source": [
    "rdd =rdd.repartition(10)\n",
    "\n",
    "# Can increase or decrease the level of parallelism in this RDD.\n",
    "# Internally, this uses a shuffle to redistribute data.\n",
    "# If you are decreasing the number of partitions in this RDD, consider using coalesce,\n",
    "#  which can avoid performing a shuffle.\n"
   ]
  },
  {
   "cell_type": "code",
   "execution_count": 0,
   "metadata": {
    "application/vnd.databricks.v1+cell": {
     "cellMetadata": {
      "byteLimit": 2048000,
      "rowLimit": 10000
     },
     "inputWidgets": {},
     "nuid": "a607449c-20f3-40ec-a76f-088916dc2c98",
     "showTitle": false,
     "tableResultSettingsMap": {},
     "title": ""
    },
    "colab": {
     "base_uri": "https://localhost:8080/"
    },
    "id": "cP1G91PtXNNt",
    "outputId": "9b83aa1f-15c0-4c2d-cf1f-d8fbd29627ce"
   },
   "outputs": [
    {
     "output_type": "execute_result",
     "data": {
      "text/plain": [
       "[489850,\n",
       " 489850,\n",
       " 489841,\n",
       " 489840,\n",
       " 489840,\n",
       " 489840,\n",
       " 489840,\n",
       " 489840,\n",
       " 489840,\n",
       " 489850]"
      ]
     },
     "execution_count": 6,
     "metadata": {},
     "output_type": "execute_result"
    }
   ],
   "source": [
    "rdd.glom().map(len).collect()"
   ]
  },
  {
   "cell_type": "code",
   "execution_count": 0,
   "metadata": {
    "application/vnd.databricks.v1+cell": {
     "cellMetadata": {},
     "inputWidgets": {},
     "nuid": "690f7f41-456a-400d-8ef2-a1a5858d7257",
     "showTitle": false,
     "tableResultSettingsMap": {},
     "title": ""
    },
    "colab": {
     "base_uri": "https://localhost:8080/"
    },
    "id": "jA2DqwYlXIzg",
    "outputId": "40a4fa21-bab9-4210-fc80-49f29af43bad"
   },
   "outputs": [
    {
     "output_type": "stream",
     "name": "stdout",
     "output_type": "stream",
     "text": [
      "2\n10\n"
     ]
    },
    {
     "output_type": "execute_result",
     "data": {
      "text/plain": [
       "MapPartitionsRDD[12] at coalesce at NativeMethodAccessorImpl.java:0"
      ]
     },
     "execution_count": 10,
     "metadata": {},
     "output_type": "execute_result"
    }
   ],
   "source": [
    "print(sc.defaultParallelism)\n",
    "print(rdd.getNumPartitions())\n",
    "\n",
    "rdd.persist()\n",
    "# 2 cores and 10 partitions, 5 partitions in each core"
   ]
  },
  {
   "cell_type": "markdown",
   "metadata": {
    "application/vnd.databricks.v1+cell": {
     "cellMetadata": {},
     "inputWidgets": {},
     "nuid": "7ad12cb7-88cb-43ef-9b84-614de7045e1a",
     "showTitle": false,
     "tableResultSettingsMap": {},
     "title": ""
    },
    "id": "Rr1a72ZSPZD6"
   },
   "source": [
    "# Custom dataset"
   ]
  },
  {
   "cell_type": "code",
   "execution_count": 0,
   "metadata": {
    "application/vnd.databricks.v1+cell": {
     "cellMetadata": {},
     "inputWidgets": {},
     "nuid": "e131b6eb-d438-4eb2-a495-124ff47c1275",
     "showTitle": false,
     "tableResultSettingsMap": {},
     "title": ""
    },
    "id": "VL55PmjTOe8Y"
   },
   "outputs": [],
   "source": [
    "# your list of data\n",
    "data = [('Siva',30), ('Sachin',25),('Manish',41),('Lavya',47),('Varun',72)]\n",
    "\n"
   ]
  },
  {
   "cell_type": "code",
   "execution_count": 0,
   "metadata": {
    "application/vnd.databricks.v1+cell": {
     "cellMetadata": {},
     "inputWidgets": {},
     "nuid": "1573d24a-be93-4ae9-8599-d81b96cf000c",
     "showTitle": false,
     "tableResultSettingsMap": {},
     "title": ""
    },
    "colab": {
     "base_uri": "https://localhost:8080/"
    },
    "id": "vHFt8wMUP0XC",
    "outputId": "adf09a92-eea4-42ca-dd96-746ed57f0c9e"
   },
   "outputs": [
    {
     "output_type": "execute_result",
     "data": {
      "text/plain": [
       "list"
      ]
     },
     "execution_count": 9,
     "metadata": {},
     "output_type": "execute_result"
    }
   ],
   "source": [
    "type(data)"
   ]
  },
  {
   "cell_type": "code",
   "execution_count": 0,
   "metadata": {
    "application/vnd.databricks.v1+cell": {
     "cellMetadata": {},
     "inputWidgets": {},
     "nuid": "2038d6dc-c239-4b61-9242-a39e8e1477be",
     "showTitle": false,
     "tableResultSettingsMap": {},
     "title": ""
    },
    "id": "ryCPYIntP3OF"
   },
   "outputs": [],
   "source": [
    "# Convert the list into an RDD\n",
    "rdd = sc.parallelize(data)"
   ]
  },
  {
   "cell_type": "code",
   "execution_count": 0,
   "metadata": {
    "application/vnd.databricks.v1+cell": {
     "cellMetadata": {},
     "inputWidgets": {},
     "nuid": "908cbcc0-67d8-42a2-966e-16ffa03c1d0d",
     "showTitle": false,
     "tableResultSettingsMap": {},
     "title": ""
    },
    "colab": {
     "base_uri": "https://localhost:8080/"
    },
    "id": "TN5FXHqFP1re",
    "outputId": "18a13b64-ff73-4283-eaaf-4e32a0315bc5"
   },
   "outputs": [
    {
     "output_type": "stream",
     "name": "stdout",
     "output_type": "stream",
     "text": [
      "[('Siva', 30), ('Sachin', 25), ('Manish', 41), ('Lavya', 47), ('Varun', 72)]\n"
     ]
    }
   ],
   "source": [
    "# To check the contents of the RDD\n",
    "print(rdd.collect())"
   ]
  },
  {
   "cell_type": "code",
   "execution_count": 0,
   "metadata": {
    "application/vnd.databricks.v1+cell": {
     "cellMetadata": {},
     "inputWidgets": {},
     "nuid": "51e15023-7ac2-4ea4-a015-d7dba9c24175",
     "showTitle": false,
     "tableResultSettingsMap": {},
     "title": ""
    },
    "colab": {
     "base_uri": "https://localhost:8080/",
     "height": 172
    },
    "id": "lI6oat15QIRE",
    "outputId": "f3f0f085-cb75-4a28-9372-9d8cfe754b7c"
   },
   "outputs": [
    {
     "output_type": "execute_result",
     "data": {
      "text/html": [
       "<div style=\"max-width:800px; border: 1px solid var(--colab-border-color);\"><style>\n",
       "      pre.function-repr-contents {\n",
       "        overflow-x: auto;\n",
       "        padding: 8px 12px;\n",
       "        max-height: 500px;\n",
       "      }\n",
       "\n",
       "      pre.function-repr-contents.function-repr-contents-collapsed {\n",
       "        cursor: pointer;\n",
       "        max-height: 100px;\n",
       "      }\n",
       "    </style>\n",
       "    <pre style=\"white-space: initial; background:\n",
       "         var(--colab-secondary-surface-color); padding: 8px 12px;\n",
       "         border-bottom: 1px solid var(--colab-border-color);\"><b>pyspark.rdd.RDD</b><br/>def __init__(jrdd: &#x27;JavaObject&#x27;, ctx: &#x27;SparkContext&#x27;, jrdd_deserializer: Serializer=AutoBatchedSerializer(CPickleSerializer()))</pre><pre class=\"function-repr-contents function-repr-contents-collapsed\" style=\"\"><a class=\"filepath\" style=\"display:none\" href=\"#\">/usr/local/lib/python3.10/dist-packages/pyspark/rdd.py</a>A Resilient Distributed Dataset (RDD), the basic abstraction in Spark.\n",
       "Represents an immutable, partitioned collection of elements that can be\n",
       "operated on in parallel.</pre>\n",
       "      <script>\n",
       "      if (google.colab.kernel.accessAllowed && google.colab.files && google.colab.files.view) {\n",
       "        for (const element of document.querySelectorAll('.filepath')) {\n",
       "          element.style.display = 'block'\n",
       "          element.onclick = (event) => {\n",
       "            event.preventDefault();\n",
       "            event.stopPropagation();\n",
       "            google.colab.files.view(element.textContent, 336);\n",
       "          };\n",
       "        }\n",
       "      }\n",
       "      for (const element of document.querySelectorAll('.function-repr-contents')) {\n",
       "        element.onclick = (event) => {\n",
       "          event.preventDefault();\n",
       "          event.stopPropagation();\n",
       "          element.classList.toggle('function-repr-contents-collapsed');\n",
       "        };\n",
       "      }\n",
       "      </script>\n",
       "      </div>"
      ],
      "text/plain": [
       "pyspark.rdd.RDD"
      ]
     },
     "execution_count": 12,
     "metadata": {},
     "output_type": "execute_result"
    }
   ],
   "source": [
    "type(rdd)"
   ]
  },
  {
   "cell_type": "code",
   "execution_count": 0,
   "metadata": {
    "application/vnd.databricks.v1+cell": {
     "cellMetadata": {},
     "inputWidgets": {},
     "nuid": "a6a700b2-a89d-46a3-bb56-791a7729b61f",
     "showTitle": false,
     "tableResultSettingsMap": {},
     "title": ""
    },
    "colab": {
     "base_uri": "https://localhost:8080/"
    },
    "id": "fNwuG8kqQK4e",
    "outputId": "9c5b635f-4a60-405d-a4de-3d404a80a109"
   },
   "outputs": [
    {
     "output_type": "execute_result",
     "data": {
      "text/plain": [
       "[2, 3]"
      ]
     },
     "execution_count": 13,
     "metadata": {},
     "output_type": "execute_result"
    }
   ],
   "source": [
    "rdd.glom().map(len).collect()\n",
    "\n",
    "# [number of partitions, elements in each list]\n",
    "# For example, if the RDD is divided into 2 partitions like this:\n",
    "\n",
    "# Partition 1: [('Lavya', 47), ('Varun', 72)]\n",
    "# Partition 2: [('Siva', 30), ('Sachin', 25), ('Manish', 41)]"
   ]
  },
  {
   "cell_type": "code",
   "execution_count": 0,
   "metadata": {
    "application/vnd.databricks.v1+cell": {
     "cellMetadata": {},
     "inputWidgets": {},
     "nuid": "53bef3c6-21d0-4401-9c38-de50fc0532eb",
     "showTitle": false,
     "tableResultSettingsMap": {},
     "title": ""
    },
    "id": "hLZVpov0Sxdy"
   },
   "outputs": [],
   "source": [
    "# Create RDD with a specific number of partitions (e.g., 5 partitions)\n",
    "\n",
    "rdd = sc.parallelize(data, 5)\n",
    "\n"
   ]
  },
  {
   "cell_type": "code",
   "execution_count": 0,
   "metadata": {
    "application/vnd.databricks.v1+cell": {
     "cellMetadata": {},
     "inputWidgets": {},
     "nuid": "e6d55271-51f9-40eb-bc9a-07f05f12ffa2",
     "showTitle": false,
     "tableResultSettingsMap": {},
     "title": ""
    },
    "id": "gEmLhJm1S4W3"
   },
   "outputs": [],
   "source": [
    "# Check the number of partitions again\n",
    "\n",
    "num_partitions = rdd.getNumPartitions()"
   ]
  },
  {
   "cell_type": "code",
   "execution_count": 0,
   "metadata": {
    "application/vnd.databricks.v1+cell": {
     "cellMetadata": {},
     "inputWidgets": {},
     "nuid": "168cf766-e128-41b7-8b55-f05d85fb02a1",
     "showTitle": false,
     "tableResultSettingsMap": {},
     "title": ""
    },
    "colab": {
     "base_uri": "https://localhost:8080/"
    },
    "id": "Gol4xfQdS_g3",
    "outputId": "4872b6f8-3d21-46cd-e8f0-74b48060e0a4"
   },
   "outputs": [
    {
     "output_type": "execute_result",
     "data": {
      "text/plain": [
       "5"
      ]
     },
     "execution_count": 21,
     "metadata": {},
     "output_type": "execute_result"
    }
   ],
   "source": [
    "num_partitions"
   ]
  },
  {
   "cell_type": "code",
   "execution_count": 0,
   "metadata": {
    "application/vnd.databricks.v1+cell": {
     "cellMetadata": {},
     "inputWidgets": {},
     "nuid": "470166f9-b49b-4df0-b4f6-046e23128d9c",
     "showTitle": false,
     "tableResultSettingsMap": {},
     "title": ""
    },
    "colab": {
     "base_uri": "https://localhost:8080/"
    },
    "id": "8ZA4LmI0TBXt",
    "outputId": "85ae5e0e-7054-4708-84cd-6ec44b8d22c1"
   },
   "outputs": [
    {
     "output_type": "execute_result",
     "data": {
      "text/plain": [
       "[1, 1, 1, 1, 1]"
      ]
     },
     "execution_count": 22,
     "metadata": {},
     "output_type": "execute_result"
    }
   ],
   "source": [
    "rdd.glom().map(len).collect()"
   ]
  },
  {
   "cell_type": "code",
   "execution_count": 0,
   "metadata": {
    "application/vnd.databricks.v1+cell": {
     "cellMetadata": {},
     "inputWidgets": {},
     "nuid": "5df2bfa6-c6ed-4412-98a7-0221989d2a60",
     "showTitle": false,
     "tableResultSettingsMap": {},
     "title": ""
    },
    "colab": {
     "base_uri": "https://localhost:8080/"
    },
    "id": "oD3Go3kmVR8B",
    "outputId": "53830df7-81f6-40b5-9ada-b66dea565cc7"
   },
   "outputs": [
    {
     "output_type": "stream",
     "name": "stdout",
     "output_type": "stream",
     "text": [
      "2\n"
     ]
    }
   ],
   "source": [
    "print(sc.defaultParallelism)"
   ]
  },
  {
   "cell_type": "code",
   "execution_count": 0,
   "metadata": {
    "application/vnd.databricks.v1+cell": {
     "cellMetadata": {},
     "inputWidgets": {},
     "nuid": "394753c7-7804-4e1c-8e5b-367404553847",
     "showTitle": false,
     "tableResultSettingsMap": {},
     "title": ""
    },
    "colab": {
     "base_uri": "https://localhost:8080/"
    },
    "id": "MWpOfAwvVVCr",
    "outputId": "6df17f78-c022-470d-d690-2e9139b001bc"
   },
   "outputs": [
    {
     "output_type": "stream",
     "name": "stdout",
     "output_type": "stream",
     "text": [
      "5\n"
     ]
    }
   ],
   "source": [
    "print(rdd.getNumPartitions())"
   ]
  },
  {
   "cell_type": "code",
   "execution_count": 0,
   "metadata": {
    "application/vnd.databricks.v1+cell": {
     "cellMetadata": {},
     "inputWidgets": {},
     "nuid": "a41e6e83-1603-4fed-ac8d-71ba729c5cf6",
     "showTitle": false,
     "tableResultSettingsMap": {},
     "title": ""
    },
    "colab": {
     "base_uri": "https://localhost:8080/"
    },
    "id": "IgaA6XltVYoP",
    "outputId": "9da265e4-f7c1-4b4c-9252-d317c01cfd3d"
   },
   "outputs": [
    {
     "output_type": "execute_result",
     "data": {
      "text/plain": [
       "ParallelCollectionRDD[8] at readRDDFromFile at PythonRDD.scala:289"
      ]
     },
     "execution_count": 25,
     "metadata": {},
     "output_type": "execute_result"
    }
   ],
   "source": [
    "rdd.persist()\n",
    "# Set this RDD’s storage level to persist its values across operations after\n",
    "# the first time it is computed. This can only be used to\n",
    "# assign a new storage level if the RDD does not have a storage level set yet."
   ]
  },
  {
   "cell_type": "code",
   "execution_count": 0,
   "metadata": {
    "application/vnd.databricks.v1+cell": {
     "cellMetadata": {},
     "inputWidgets": {},
     "nuid": "ca69fa2b-50eb-485c-897f-e0b2249590b9",
     "showTitle": false,
     "tableResultSettingsMap": {},
     "title": ""
    },
    "id": "11TgetyhVcUq"
   },
   "outputs": [],
   "source": []
  }
 ],
 "metadata": {
  "application/vnd.databricks.v1+notebook": {
   "computePreferences": null,
   "dashboards": [],
   "environmentMetadata": null,
   "inputWidgetPreferences": null,
   "language": "python",
   "notebookMetadata": {
    "pythonIndentUnit": 4
   },
   "notebookName": "Day_9 Databricks Big_Data_KDDCup_Analytics_Soltion_Sachin_(RDD)",
   "widgets": {}
  },
  "colab": {
   "provenance": []
  },
  "kernelspec": {
   "display_name": "Python 3",
   "name": "python3"
  },
  "language_info": {
   "name": "python"
  }
 },
 "nbformat": 4,
 "nbformat_minor": 0
}