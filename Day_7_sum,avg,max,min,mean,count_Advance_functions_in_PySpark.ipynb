{
  "nbformat": 4,
  "nbformat_minor": 0,
  "metadata": {
    "colab": {
      "provenance": []
    },
    "kernelspec": {
      "name": "python3",
      "display_name": "Python 3"
    },
    "language_info": {
      "name": "python"
    }
  },
  "cells": [
    {
      "cell_type": "code",
      "execution_count": null,
      "metadata": {
        "id": "QNv4xUcraxVa"
      },
      "outputs": [],
      "source": [
        "# Databricks notebook source\n",
        "from pyspark.sql import SparkSession\n",
        "spark = SparkSession.builder.appName(\"Second App\").getOrCreate()"
      ]
    },
    {
      "cell_type": "code",
      "source": [
        "df= spark.read.options(header='True',inferScema='True').csv('/content/sample_data/StudentData_.csv')"
      ],
      "metadata": {
        "id": "hrxFWzYybgx1"
      },
      "execution_count": null,
      "outputs": []
    },
    {
      "cell_type": "code",
      "source": [
        "df.show()"
      ],
      "metadata": {
        "colab": {
          "base_uri": "https://localhost:8080/"
        },
        "id": "osOH10Ucnj-X",
        "outputId": "30bb6366-7a84-4911-f97f-1a1022597357"
      },
      "execution_count": null,
      "outputs": [
        {
          "output_type": "stream",
          "name": "stdout",
          "text": [
            "+---+------+----------------+------+------+-----+--------------------+\n",
            "|age|gender|            name|course|  roll|marks|               email|\n",
            "+---+------+----------------+------+------+-----+--------------------+\n",
            "| 28|Female| Hubert Oliveras|    DB|  2984|   59|Annika Hoffman_Na...|\n",
            "| 29|Female|Toshiko Hillyard| Cloud| 12899|   62|Margene Moores_Ma...|\n",
            "| 28|  Male|  Celeste Lollis|    PF| 21267|   45|Jeannetta Golden_...|\n",
            "| 29|Female|    Elenore Choy|    DB| 32877|   29|Billi Clore_Mitzi...|\n",
            "| 28|  Male|  Sheryll Towler|   DSA| 41487|   41|Claude Panos_Judi...|\n",
            "| 28|  Male|  Margene Moores|   MVC| 52771|   32|Toshiko Hillyard_...|\n",
            "| 28|  Male|     Neda Briski|   OOP| 61973|   69|Alberta Freund_El...|\n",
            "| 28|Female|    Claude Panos| Cloud| 72409|   85|Sheryll Towler_Al...|\n",
            "| 28|  Male|  Celeste Lollis|   MVC| 81492|   64|Nicole Harwood_Cl...|\n",
            "| 29|  Male|  Cordie Harnois|   OOP| 92882|   51|Judie Chipps_Clem...|\n",
            "| 29|Female|       Kena Wild|   DSA|102285|   35|Dustin Feagins_Ma...|\n",
            "| 29|  Male| Ernest Rossbach|    DB|111449|   53|Maybell Duguay_Ab...|\n",
            "| 28|Female|  Latia Vanhoose|    DB|122502|   27|Latia Vanhoose_Mi...|\n",
            "| 29|Female|  Latia Vanhoose|   MVC|132110|   55|Eda Neathery_Nico...|\n",
            "| 29|  Male|     Neda Briski|    PF|141770|   42|Margene Moores_Mi...|\n",
            "| 29|Female|  Latia Vanhoose|    DB|152159|   27|Claude Panos_Sant...|\n",
            "| 29|  Male|  Loris Crossett|   MVC|161771|   36|Mitzi Seldon_Jenn...|\n",
            "| 29|  Male|  Annika Hoffman|   OOP|171660|   22|Taryn Brownlee_Mi...|\n",
            "| 29|  Male|   Santa Kerfien|    PF|182129|   56|Judie Chipps_Tary...|\n",
            "| 28|Female|Mickey Cortright|    DB|192537|   62|Ernest Rossbach_M...|\n",
            "+---+------+----------------+------+------+-----+--------------------+\n",
            "only showing top 20 rows\n",
            "\n"
          ]
        }
      ]
    },
    {
      "cell_type": "markdown",
      "source": [
        "# lit()"
      ],
      "metadata": {
        "id": "EwicqNKoqYT0"
      }
    },
    {
      "cell_type": "markdown",
      "source": [
        "The lit() function is used to create a literal value in a PySpark DataFrame. This is useful when you want to add a constant value to a DataFrame column.\n",
        "For example, if you want to add a new column with the same value for every row, you can use lit().\n"
      ],
      "metadata": {
        "id": "Yz4tmZpToYvF"
      }
    },
    {
      "cell_type": "code",
      "source": [
        "from pyspark.sql.functions import lit\n",
        "\n",
        "df.withColumn(\"new_column\", lit(100)).show()"
      ],
      "metadata": {
        "colab": {
          "base_uri": "https://localhost:8080/"
        },
        "id": "BLVlIL7JnkVi",
        "outputId": "d6363ec4-683d-46ea-cc98-287f54e52a56"
      },
      "execution_count": null,
      "outputs": [
        {
          "output_type": "stream",
          "name": "stdout",
          "text": [
            "+---+------+----------------+------+------+-----+--------------------+----------+\n",
            "|age|gender|            name|course|  roll|marks|               email|new_column|\n",
            "+---+------+----------------+------+------+-----+--------------------+----------+\n",
            "| 28|Female| Hubert Oliveras|    DB|  2984|   59|Annika Hoffman_Na...|       100|\n",
            "| 29|Female|Toshiko Hillyard| Cloud| 12899|   62|Margene Moores_Ma...|       100|\n",
            "| 28|  Male|  Celeste Lollis|    PF| 21267|   45|Jeannetta Golden_...|       100|\n",
            "| 29|Female|    Elenore Choy|    DB| 32877|   29|Billi Clore_Mitzi...|       100|\n",
            "| 28|  Male|  Sheryll Towler|   DSA| 41487|   41|Claude Panos_Judi...|       100|\n",
            "| 28|  Male|  Margene Moores|   MVC| 52771|   32|Toshiko Hillyard_...|       100|\n",
            "| 28|  Male|     Neda Briski|   OOP| 61973|   69|Alberta Freund_El...|       100|\n",
            "| 28|Female|    Claude Panos| Cloud| 72409|   85|Sheryll Towler_Al...|       100|\n",
            "| 28|  Male|  Celeste Lollis|   MVC| 81492|   64|Nicole Harwood_Cl...|       100|\n",
            "| 29|  Male|  Cordie Harnois|   OOP| 92882|   51|Judie Chipps_Clem...|       100|\n",
            "| 29|Female|       Kena Wild|   DSA|102285|   35|Dustin Feagins_Ma...|       100|\n",
            "| 29|  Male| Ernest Rossbach|    DB|111449|   53|Maybell Duguay_Ab...|       100|\n",
            "| 28|Female|  Latia Vanhoose|    DB|122502|   27|Latia Vanhoose_Mi...|       100|\n",
            "| 29|Female|  Latia Vanhoose|   MVC|132110|   55|Eda Neathery_Nico...|       100|\n",
            "| 29|  Male|     Neda Briski|    PF|141770|   42|Margene Moores_Mi...|       100|\n",
            "| 29|Female|  Latia Vanhoose|    DB|152159|   27|Claude Panos_Sant...|       100|\n",
            "| 29|  Male|  Loris Crossett|   MVC|161771|   36|Mitzi Seldon_Jenn...|       100|\n",
            "| 29|  Male|  Annika Hoffman|   OOP|171660|   22|Taryn Brownlee_Mi...|       100|\n",
            "| 29|  Male|   Santa Kerfien|    PF|182129|   56|Judie Chipps_Tary...|       100|\n",
            "| 28|Female|Mickey Cortright|    DB|192537|   62|Ernest Rossbach_M...|       100|\n",
            "+---+------+----------------+------+------+-----+--------------------+----------+\n",
            "only showing top 20 rows\n",
            "\n"
          ]
        }
      ]
    },
    {
      "cell_type": "code",
      "source": [
        "df = df.withColumn(\"total_marks\", lit(120))"
      ],
      "metadata": {
        "id": "rhmP-3IKo48z"
      },
      "execution_count": null,
      "outputs": []
    },
    {
      "cell_type": "code",
      "source": [
        "df.show()"
      ],
      "metadata": {
        "colab": {
          "base_uri": "https://localhost:8080/"
        },
        "id": "_vjFuS9Oo7eN",
        "outputId": "a2f69546-c566-4d6f-a187-a6f49a8a7477"
      },
      "execution_count": null,
      "outputs": [
        {
          "output_type": "stream",
          "name": "stdout",
          "text": [
            "+---+------+----------------+------+------+-----+--------------------+-----------+\n",
            "|age|gender|            name|course|  roll|marks|               email|total_marks|\n",
            "+---+------+----------------+------+------+-----+--------------------+-----------+\n",
            "| 28|Female| Hubert Oliveras|    DB|  2984|   59|Annika Hoffman_Na...|        120|\n",
            "| 29|Female|Toshiko Hillyard| Cloud| 12899|   62|Margene Moores_Ma...|        120|\n",
            "| 28|  Male|  Celeste Lollis|    PF| 21267|   45|Jeannetta Golden_...|        120|\n",
            "| 29|Female|    Elenore Choy|    DB| 32877|   29|Billi Clore_Mitzi...|        120|\n",
            "| 28|  Male|  Sheryll Towler|   DSA| 41487|   41|Claude Panos_Judi...|        120|\n",
            "| 28|  Male|  Margene Moores|   MVC| 52771|   32|Toshiko Hillyard_...|        120|\n",
            "| 28|  Male|     Neda Briski|   OOP| 61973|   69|Alberta Freund_El...|        120|\n",
            "| 28|Female|    Claude Panos| Cloud| 72409|   85|Sheryll Towler_Al...|        120|\n",
            "| 28|  Male|  Celeste Lollis|   MVC| 81492|   64|Nicole Harwood_Cl...|        120|\n",
            "| 29|  Male|  Cordie Harnois|   OOP| 92882|   51|Judie Chipps_Clem...|        120|\n",
            "| 29|Female|       Kena Wild|   DSA|102285|   35|Dustin Feagins_Ma...|        120|\n",
            "| 29|  Male| Ernest Rossbach|    DB|111449|   53|Maybell Duguay_Ab...|        120|\n",
            "| 28|Female|  Latia Vanhoose|    DB|122502|   27|Latia Vanhoose_Mi...|        120|\n",
            "| 29|Female|  Latia Vanhoose|   MVC|132110|   55|Eda Neathery_Nico...|        120|\n",
            "| 29|  Male|     Neda Briski|    PF|141770|   42|Margene Moores_Mi...|        120|\n",
            "| 29|Female|  Latia Vanhoose|    DB|152159|   27|Claude Panos_Sant...|        120|\n",
            "| 29|  Male|  Loris Crossett|   MVC|161771|   36|Mitzi Seldon_Jenn...|        120|\n",
            "| 29|  Male|  Annika Hoffman|   OOP|171660|   22|Taryn Brownlee_Mi...|        120|\n",
            "| 29|  Male|   Santa Kerfien|    PF|182129|   56|Judie Chipps_Tary...|        120|\n",
            "| 28|Female|Mickey Cortright|    DB|192537|   62|Ernest Rossbach_M...|        120|\n",
            "+---+------+----------------+------+------+-----+--------------------+-----------+\n",
            "only showing top 20 rows\n",
            "\n"
          ]
        }
      ]
    },
    {
      "cell_type": "markdown",
      "source": [
        "# Col()"
      ],
      "metadata": {
        "id": "XGfguc3uqT71"
      }
    },
    {
      "cell_type": "markdown",
      "source": [
        "The col() function is used to refer to an existing column in a DataFrame. It allows you to reference a column to perform transformations or computations."
      ],
      "metadata": {
        "id": "X4a88BCrqBCK"
      }
    },
    {
      "cell_type": "code",
      "source": [
        "from pyspark.sql.functions import col"
      ],
      "metadata": {
        "id": "pEMUl_1YqSn1"
      },
      "execution_count": null,
      "outputs": []
    },
    {
      "cell_type": "code",
      "source": [
        "df = df.withColumn(\"average\", (col(\"marks\") / col (\"total_marks\"))*100 )"
      ],
      "metadata": {
        "id": "YA-m_2I3pDSb"
      },
      "execution_count": null,
      "outputs": []
    },
    {
      "cell_type": "code",
      "source": [
        "df.show()"
      ],
      "metadata": {
        "colab": {
          "base_uri": "https://localhost:8080/"
        },
        "id": "jJ6ooghLpFcw",
        "outputId": "9acc41b9-92b5-41b4-d8f1-001d3f32ec45"
      },
      "execution_count": null,
      "outputs": [
        {
          "output_type": "stream",
          "name": "stdout",
          "text": [
            "+---+------+----------------+------+------+-----+--------------------+-----------+------------------+\n",
            "|age|gender|            name|course|  roll|marks|               email|total_marks|           average|\n",
            "+---+------+----------------+------+------+-----+--------------------+-----------+------------------+\n",
            "| 28|Female| Hubert Oliveras|    DB|  2984|   59|Annika Hoffman_Na...|        120|49.166666666666664|\n",
            "| 29|Female|Toshiko Hillyard| Cloud| 12899|   62|Margene Moores_Ma...|        120| 51.66666666666667|\n",
            "| 28|  Male|  Celeste Lollis|    PF| 21267|   45|Jeannetta Golden_...|        120|              37.5|\n",
            "| 29|Female|    Elenore Choy|    DB| 32877|   29|Billi Clore_Mitzi...|        120|24.166666666666668|\n",
            "| 28|  Male|  Sheryll Towler|   DSA| 41487|   41|Claude Panos_Judi...|        120|34.166666666666664|\n",
            "| 28|  Male|  Margene Moores|   MVC| 52771|   32|Toshiko Hillyard_...|        120|26.666666666666668|\n",
            "| 28|  Male|     Neda Briski|   OOP| 61973|   69|Alberta Freund_El...|        120| 57.49999999999999|\n",
            "| 28|Female|    Claude Panos| Cloud| 72409|   85|Sheryll Towler_Al...|        120| 70.83333333333334|\n",
            "| 28|  Male|  Celeste Lollis|   MVC| 81492|   64|Nicole Harwood_Cl...|        120|53.333333333333336|\n",
            "| 29|  Male|  Cordie Harnois|   OOP| 92882|   51|Judie Chipps_Clem...|        120|              42.5|\n",
            "| 29|Female|       Kena Wild|   DSA|102285|   35|Dustin Feagins_Ma...|        120|29.166666666666668|\n",
            "| 29|  Male| Ernest Rossbach|    DB|111449|   53|Maybell Duguay_Ab...|        120|44.166666666666664|\n",
            "| 28|Female|  Latia Vanhoose|    DB|122502|   27|Latia Vanhoose_Mi...|        120|              22.5|\n",
            "| 29|Female|  Latia Vanhoose|   MVC|132110|   55|Eda Neathery_Nico...|        120| 45.83333333333333|\n",
            "| 29|  Male|     Neda Briski|    PF|141770|   42|Margene Moores_Mi...|        120|              35.0|\n",
            "| 29|Female|  Latia Vanhoose|    DB|152159|   27|Claude Panos_Sant...|        120|              22.5|\n",
            "| 29|  Male|  Loris Crossett|   MVC|161771|   36|Mitzi Seldon_Jenn...|        120|              30.0|\n",
            "| 29|  Male|  Annika Hoffman|   OOP|171660|   22|Taryn Brownlee_Mi...|        120|18.333333333333332|\n",
            "| 29|  Male|   Santa Kerfien|    PF|182129|   56|Judie Chipps_Tary...|        120|46.666666666666664|\n",
            "| 28|Female|Mickey Cortright|    DB|192537|   62|Ernest Rossbach_M...|        120| 51.66666666666667|\n",
            "+---+------+----------------+------+------+-----+--------------------+-----------+------------------+\n",
            "only showing top 20 rows\n",
            "\n"
          ]
        }
      ]
    },
    {
      "cell_type": "code",
      "source": [
        "df_OOP = df.filter((df.course == \"OOP\") & (df.average > 80))\n",
        "df_OOP.show()"
      ],
      "metadata": {
        "colab": {
          "base_uri": "https://localhost:8080/"
        },
        "id": "6Tea7FqWpibA",
        "outputId": "14827124-ff85-4de9-9ef5-04e14d59c246"
      },
      "execution_count": null,
      "outputs": [
        {
          "output_type": "stream",
          "name": "stdout",
          "text": [
            "+---+------+------------------+------+-------+-----+--------------------+-----------+-----------------+\n",
            "|age|gender|              name|course|   roll|marks|               email|total_marks|          average|\n",
            "+---+------+------------------+------+-------+-----+--------------------+-----------+-----------------+\n",
            "| 28|  Male|    Jenna Montague|   OOP|3331161|   98|Leontine Phillips...|        120|81.66666666666667|\n",
            "| 29|Female|Priscila Tavernier|   OOP|3902993|   99|Celeste Lollis_Bi...|        120|             82.5|\n",
            "| 28|Female|      Judie Chipps|   OOP|5451977|   99|Tamera Blakley_Mi...|        120|             82.5|\n",
            "| 29|  Male|    Margene Moores|   OOP|5621072|   97|Sheryll Towler_Ma...|        120|80.83333333333333|\n",
            "| 29|  Male|      Jc Andrepont|   OOP|8022618|   97|Cordie Harnois_Ja...|        120|80.83333333333333|\n",
            "| 28|  Male|    Loris Crossett|   OOP|8172914|   98|Paris Hutton_Pari...|        120|81.66666666666667|\n",
            "| 28|  Male|    Loris Crossett|   OOP|9692316|   99|Judie Chipps_Mich...|        120|             82.5|\n",
            "+---+------+------------------+------+-------+-----+--------------------+-----------+-----------------+\n",
            "\n"
          ]
        }
      ]
    },
    {
      "cell_type": "code",
      "source": [
        "# COMMAND ----------\n",
        "\n",
        "df_Cloud = df.filter((df.course == \"Cloud\") & (df.average > 60))\n",
        "df_Cloud.show()\n",
        "# COMMAND ----------"
      ],
      "metadata": {
        "colab": {
          "base_uri": "https://localhost:8080/"
        },
        "id": "LklMGQ5WpjLy",
        "outputId": "185d4a40-7606-4889-83e2-1409c019e518"
      },
      "execution_count": null,
      "outputs": [
        {
          "output_type": "stream",
          "name": "stdout",
          "text": [
            "+---+------+-----------------+------+-------+-----+--------------------+-----------+-----------------+\n",
            "|age|gender|             name|course|   roll|marks|               email|total_marks|          average|\n",
            "+---+------+-----------------+------+-------+-----+--------------------+-----------+-----------------+\n",
            "| 28|Female|     Claude Panos| Cloud|  72409|   85|Sheryll Towler_Al...|        120|70.83333333333334|\n",
            "| 29|  Male|      Billi Clore| Cloud| 512047|   76|Taryn Brownlee_Ju...|        120|63.33333333333333|\n",
            "| 28|Female|   Somer Stoecker| Cloud| 612490|   82|Sebrina Maresca_G...|        120|68.33333333333333|\n",
            "| 29|Female|     Judie Chipps| Cloud| 632793|   75|Tijuana Kropf_Ele...|        120|             62.5|\n",
            "| 29|Female|     Eda Neathery| Cloud|1011971|   91|Margene Moores_El...|        120|75.83333333333333|\n",
            "| 28|  Male|   Bonita Higuera| Cloud|1312294|   94|Eda Neathery_Pris...|        120|78.33333333333333|\n",
            "| 29|Female|  Hubert Oliveras| Cloud|1392791|   94|Anna Santos_Alber...|        120|78.33333333333333|\n",
            "| 28|Female|      Neda Briski| Cloud|1651303|   74|Ernest Rossbach_D...|        120|61.66666666666667|\n",
            "| 28|Female|   Melani Engberg| Cloud|1872667|   99|Alberta Freund_Ni...|        120|             82.5|\n",
            "| 28|Female|     Paris Hutton| Cloud|2051881|   79|Melani Engberg_Ma...|        120|65.83333333333333|\n",
            "| 28|Female|     Eda Neathery| Cloud|2071302|   95|Latia Vanhoose_Do...|        120|79.16666666666666|\n",
            "| 28|  Male|      Neda Briski| Cloud|2092176|   81|Celeste Lollis_Ma...|        120|             67.5|\n",
            "| 28|Female|    Tijuana Kropf| Cloud|2121632|   78|Michelle Ruggiero...|        120|             65.0|\n",
            "| 28|Female|   Jenna Montague| Cloud|2402240|   96|Annika Hoffman_Du...|        120|             80.0|\n",
            "| 29|Female|   Dustin Feagins| Cloud|2421900|   89|Niki Klimek_Latia...|        120|74.16666666666667|\n",
            "| 28|Female|  Ernest Rossbach| Cloud|2602027|   83|Alberta Freund_Go...|        120|69.16666666666667|\n",
            "| 28|  Male|Leontine Phillips| Cloud|3011586|   76|Dustin Feagins_Al...|        120|63.33333333333333|\n",
            "| 29|Female|  Sebrina Maresca| Cloud|3261159|   97|Maybell Duguay_Ja...|        120|80.83333333333333|\n",
            "| 28|  Male| Clementina Menke| Cloud|3352508|   95|Naoma Fritts_Mick...|        120|79.16666666666666|\n",
            "| 28|  Male|    Kizzy Brenner| Cloud|3581303|   80|Margene Moores_Ta...|        120|66.66666666666666|\n",
            "+---+------+-----------------+------+-------+-----+--------------------+-----------+-----------------+\n",
            "only showing top 20 rows\n",
            "\n"
          ]
        }
      ]
    },
    {
      "cell_type": "code",
      "source": [
        "df_OOP.select(\"name\",\"marks\").show()\n",
        "# df_OOP.show()\n",
        "# COMMAND ----------\n"
      ],
      "metadata": {
        "colab": {
          "base_uri": "https://localhost:8080/"
        },
        "id": "H0K_Mr7fpk3S",
        "outputId": "516e5c76-5ebb-4178-8731-8b342643f5e3"
      },
      "execution_count": null,
      "outputs": [
        {
          "output_type": "stream",
          "name": "stdout",
          "text": [
            "+------------------+-----+\n",
            "|              name|marks|\n",
            "+------------------+-----+\n",
            "|    Jenna Montague|   98|\n",
            "|Priscila Tavernier|   99|\n",
            "|      Judie Chipps|   99|\n",
            "|    Margene Moores|   97|\n",
            "|      Jc Andrepont|   97|\n",
            "|    Loris Crossett|   98|\n",
            "|    Loris Crossett|   99|\n",
            "+------------------+-----+\n",
            "\n"
          ]
        }
      ]
    },
    {
      "cell_type": "code",
      "source": [
        "df_Cloud.select(\"name\",\"marks\").show()\n",
        "# df_Cloud.show()"
      ],
      "metadata": {
        "colab": {
          "base_uri": "https://localhost:8080/"
        },
        "id": "eHzRcovepVyG",
        "outputId": "a43d8dd7-a9e2-4639-b5bb-657e1f9a77ca"
      },
      "execution_count": null,
      "outputs": [
        {
          "output_type": "stream",
          "name": "stdout",
          "text": [
            "+-----------------+-----+\n",
            "|             name|marks|\n",
            "+-----------------+-----+\n",
            "|     Claude Panos|   85|\n",
            "|      Billi Clore|   76|\n",
            "|   Somer Stoecker|   82|\n",
            "|     Judie Chipps|   75|\n",
            "|     Eda Neathery|   91|\n",
            "|   Bonita Higuera|   94|\n",
            "|  Hubert Oliveras|   94|\n",
            "|      Neda Briski|   74|\n",
            "|   Melani Engberg|   99|\n",
            "|     Paris Hutton|   79|\n",
            "|     Eda Neathery|   95|\n",
            "|      Neda Briski|   81|\n",
            "|    Tijuana Kropf|   78|\n",
            "|   Jenna Montague|   96|\n",
            "|   Dustin Feagins|   89|\n",
            "|  Ernest Rossbach|   83|\n",
            "|Leontine Phillips|   76|\n",
            "|  Sebrina Maresca|   97|\n",
            "| Clementina Menke|   95|\n",
            "|    Kizzy Brenner|   80|\n",
            "+-----------------+-----+\n",
            "only showing top 20 rows\n",
            "\n"
          ]
        }
      ]
    },
    {
      "cell_type": "code",
      "source": [
        "df.filter(df.course == \"DB\").count()\n",
        "\n",
        "# COMMAND ----------"
      ],
      "metadata": {
        "colab": {
          "base_uri": "https://localhost:8080/"
        },
        "id": "bjooKaUfo60T",
        "outputId": "84bb6178-a2ee-4072-8eaf-3d5cbb3307db"
      },
      "execution_count": null,
      "outputs": [
        {
          "output_type": "execute_result",
          "data": {
            "text/plain": [
              "157"
            ]
          },
          "metadata": {},
          "execution_count": 18
        }
      ]
    },
    {
      "cell_type": "code",
      "source": [
        "df.select(\"gender\").distinct().show()\n",
        "\n",
        "# COMMAND ----------\n",
        "\n"
      ],
      "metadata": {
        "colab": {
          "base_uri": "https://localhost:8080/"
        },
        "id": "A9x7ahZBnkbi",
        "outputId": "861d4358-6b74-42c6-c30e-c624f00c4b46"
      },
      "execution_count": null,
      "outputs": [
        {
          "output_type": "stream",
          "name": "stdout",
          "text": [
            "+------+\n",
            "|gender|\n",
            "+------+\n",
            "|Female|\n",
            "|  Male|\n",
            "| Male |\n",
            "|  NULL|\n",
            "+------+\n",
            "\n"
          ]
        }
      ]
    },
    {
      "cell_type": "code",
      "source": [
        "df.dropDuplicates([\"gender\",\"course\"]).show()"
      ],
      "metadata": {
        "colab": {
          "base_uri": "https://localhost:8080/"
        },
        "id": "UU1RGn91nke7",
        "outputId": "577e9a51-de0e-461f-8043-ff94759cf19f"
      },
      "execution_count": null,
      "outputs": [
        {
          "output_type": "stream",
          "name": "stdout",
          "text": [
            "+----+------+----------------+------+------+-----+--------------------+-----------+------------------+\n",
            "| age|gender|            name|course|  roll|marks|               email|total_marks|           average|\n",
            "+----+------+----------------+------+------+-----+--------------------+-----------+------------------+\n",
            "|NULL|  NULL|            NULL|  NULL|  NULL| NULL|                NULL|        120|              NULL|\n",
            "|  29|Female|Toshiko Hillyard| Cloud| 12899|   62|Margene Moores_Ma...|        120| 51.66666666666667|\n",
            "|  28|Female| Hubert Oliveras|    DB|  2984|   59|Annika Hoffman_Na...|        120|49.166666666666664|\n",
            "|  29|Female|       Kena Wild|   DSA|102285|   35|Dustin Feagins_Ma...|        120|29.166666666666668|\n",
            "|  29|Female|  Latia Vanhoose|   MVC|132110|   55|Eda Neathery_Nico...|        120| 45.83333333333333|\n",
            "|  28|Female|  Alberta Freund|   OOP|251805|   83|Annika Hoffman_Sh...|        120| 69.16666666666667|\n",
            "|  29|Female|  Loris Crossett|    PF|201487|   96|Elenore Choy_Lati...|        120|              80.0|\n",
            "|  29|  Male|     Billi Clore| Cloud|512047|   76|Taryn Brownlee_Ju...|        120| 63.33333333333333|\n",
            "|  29|  Male| Ernest Rossbach|    DB|111449|   53|Maybell Duguay_Ab...|        120|44.166666666666664|\n",
            "|  28|  Male|  Sheryll Towler|   DSA| 41487|   41|Claude Panos_Judi...|        120|34.166666666666664|\n",
            "|  28|  Male|  Margene Moores|   MVC| 52771|   32|Toshiko Hillyard_...|        120|26.666666666666668|\n",
            "|  28|  Male|     Neda Briski|   OOP| 61973|   69|Alberta Freund_El...|        120| 57.49999999999999|\n",
            "|  28|  Male|  Celeste Lollis|    PF| 21267|   45|Jeannetta Golden_...|        120|              37.5|\n",
            "|  31| Male |            NULL|   DSA|  NULL|   ? |                NULL|        120|              NULL|\n",
            "+----+------+----------------+------+------+-----+--------------------+-----------+------------------+\n",
            "\n"
          ]
        }
      ]
    },
    {
      "cell_type": "code",
      "source": [
        "df.dropDuplicates([\"gender\",\"course\"]).count()"
      ],
      "metadata": {
        "colab": {
          "base_uri": "https://localhost:8080/"
        },
        "id": "K8thGwR0nkiE",
        "outputId": "32a3801a-d75d-4e12-eece-239b2959a966"
      },
      "execution_count": null,
      "outputs": [
        {
          "output_type": "execute_result",
          "data": {
            "text/plain": [
              "14"
            ]
          },
          "metadata": {},
          "execution_count": 21
        }
      ]
    },
    {
      "cell_type": "code",
      "source": [
        "df2 = df.select(\"age\",\"gender\",\"course\")\n",
        "df2.distinct().show()\n",
        "df2.distinct().count()"
      ],
      "metadata": {
        "colab": {
          "base_uri": "https://localhost:8080/"
        },
        "id": "Jo5FB_tRnklZ",
        "outputId": "2d9559ad-f45c-46f5-b07a-e7de1695c58d"
      },
      "execution_count": null,
      "outputs": [
        {
          "output_type": "stream",
          "name": "stdout",
          "text": [
            "+---+------+------+\n",
            "|age|gender|course|\n",
            "+---+------+------+\n",
            "| 28|Female|   OOP|\n",
            "| 28|  Male|    DB|\n",
            "| 29|  Male|   OOP|\n",
            "| 29|  Male|   DSA|\n",
            "| 28|Female|    PF|\n",
            "| 28|Female|   DSA|\n",
            "| 29|  Male|   MVC|\n",
            "| 29|Female|    PF|\n",
            "| 29|  Male|    DB|\n",
            "| 29|Female|   MVC|\n",
            "| 29|Female|    DB|\n",
            "| 28|  Male|   OOP|\n",
            "| 28|  Male|   DSA|\n",
            "| 28|Female|   MVC|\n",
            "| 28|  Male|   MVC|\n",
            "| 28|Female|    DB|\n",
            "| 29|Female|   DSA|\n",
            "| 29|Female| Cloud|\n",
            "| 28|  Male| Cloud|\n",
            "| 31| Male |   DSA|\n",
            "+---+------+------+\n",
            "only showing top 20 rows\n",
            "\n"
          ]
        },
        {
          "output_type": "execute_result",
          "data": {
            "text/plain": [
              "26"
            ]
          },
          "metadata": {},
          "execution_count": 22
        }
      ]
    },
    {
      "cell_type": "code",
      "source": [
        "df3 = df.dropDuplicates([\"age\", \"gender\", \"course\"])\n",
        "df3.show()\n",
        "df3.count()\n"
      ],
      "metadata": {
        "colab": {
          "base_uri": "https://localhost:8080/"
        },
        "id": "vUFbg04mnkoX",
        "outputId": "4b7608cb-2206-4323-f1b6-8a0d74aa2431"
      },
      "execution_count": null,
      "outputs": [
        {
          "output_type": "stream",
          "name": "stdout",
          "text": [
            "+----+------+----------------+------+------+-----+--------------------+-----------+------------------+\n",
            "| age|gender|            name|course|  roll|marks|               email|total_marks|           average|\n",
            "+----+------+----------------+------+------+-----+--------------------+-----------+------------------+\n",
            "|NULL|  NULL|            NULL|  NULL|  NULL| NULL|                NULL|        120|              NULL|\n",
            "|  28|Female|    Claude Panos| Cloud| 72409|   85|Sheryll Towler_Al...|        120| 70.83333333333334|\n",
            "|  28|Female| Hubert Oliveras|    DB|  2984|   59|Annika Hoffman_Na...|        120|49.166666666666664|\n",
            "|  28|Female|    Jc Andrepont|   DSA|232060|   58|Billi Clore_Abram...|        120|48.333333333333336|\n",
            "|  28|Female|    Cheri Kenney|   MVC|321816|   24|Kena Wild_Michell...|        120|              20.0|\n",
            "|  28|Female|  Alberta Freund|   OOP|251805|   83|Annika Hoffman_Sh...|        120| 69.16666666666667|\n",
            "|  28|Female|  Loris Crossett|    PF|332739|   62|Michelle Ruggiero...|        120| 51.66666666666667|\n",
            "|  28|  Male|  Annika Hoffman| Cloud|722193|   55|Taryn Brownlee_El...|        120| 45.83333333333333|\n",
            "|  28|  Male|   Kizzy Brenner|    DB|381712|   36|Paris Hutton_Kena...|        120|              30.0|\n",
            "|  28|  Male|  Sheryll Towler|   DSA| 41487|   41|Claude Panos_Judi...|        120|34.166666666666664|\n",
            "|  28|  Male|  Margene Moores|   MVC| 52771|   32|Toshiko Hillyard_...|        120|26.666666666666668|\n",
            "|  28|  Male|     Neda Briski|   OOP| 61973|   69|Alberta Freund_El...|        120| 57.49999999999999|\n",
            "|  28|  Male|  Celeste Lollis|    PF| 21267|   45|Jeannetta Golden_...|        120|              37.5|\n",
            "|  29|Female|Toshiko Hillyard| Cloud| 12899|   62|Margene Moores_Ma...|        120| 51.66666666666667|\n",
            "|  29|Female|    Elenore Choy|    DB| 32877|   29|Billi Clore_Mitzi...|        120|24.166666666666668|\n",
            "|  29|Female|       Kena Wild|   DSA|102285|   35|Dustin Feagins_Ma...|        120|29.166666666666668|\n",
            "|  29|Female|  Latia Vanhoose|   MVC|132110|   55|Eda Neathery_Nico...|        120| 45.83333333333333|\n",
            "|  29|Female|    Claude Panos|   OOP|542821|   28|Hubert Oliveras_P...|        120|23.333333333333332|\n",
            "|  29|Female|  Loris Crossett|    PF|201487|   96|Elenore Choy_Lati...|        120|              80.0|\n",
            "|  29|  Male|     Billi Clore| Cloud|512047|   76|Taryn Brownlee_Ju...|        120| 63.33333333333333|\n",
            "+----+------+----------------+------+------+-----+--------------------+-----------+------------------+\n",
            "only showing top 20 rows\n",
            "\n"
          ]
        },
        {
          "output_type": "execute_result",
          "data": {
            "text/plain": [
              "26"
            ]
          },
          "metadata": {},
          "execution_count": 23
        }
      ]
    },
    {
      "cell_type": "code",
      "source": [
        "df.show()"
      ],
      "metadata": {
        "colab": {
          "base_uri": "https://localhost:8080/"
        },
        "id": "SqSrzLtjnkrp",
        "outputId": "9541e9cc-6ea6-4369-b396-f273a0a6b435"
      },
      "execution_count": null,
      "outputs": [
        {
          "output_type": "stream",
          "name": "stdout",
          "text": [
            "+---+------+----------------+------+------+-----+--------------------+-----------+------------------+\n",
            "|age|gender|            name|course|  roll|marks|               email|total_marks|           average|\n",
            "+---+------+----------------+------+------+-----+--------------------+-----------+------------------+\n",
            "| 28|Female| Hubert Oliveras|    DB|  2984|   59|Annika Hoffman_Na...|        120|49.166666666666664|\n",
            "| 29|Female|Toshiko Hillyard| Cloud| 12899|   62|Margene Moores_Ma...|        120| 51.66666666666667|\n",
            "| 28|  Male|  Celeste Lollis|    PF| 21267|   45|Jeannetta Golden_...|        120|              37.5|\n",
            "| 29|Female|    Elenore Choy|    DB| 32877|   29|Billi Clore_Mitzi...|        120|24.166666666666668|\n",
            "| 28|  Male|  Sheryll Towler|   DSA| 41487|   41|Claude Panos_Judi...|        120|34.166666666666664|\n",
            "| 28|  Male|  Margene Moores|   MVC| 52771|   32|Toshiko Hillyard_...|        120|26.666666666666668|\n",
            "| 28|  Male|     Neda Briski|   OOP| 61973|   69|Alberta Freund_El...|        120| 57.49999999999999|\n",
            "| 28|Female|    Claude Panos| Cloud| 72409|   85|Sheryll Towler_Al...|        120| 70.83333333333334|\n",
            "| 28|  Male|  Celeste Lollis|   MVC| 81492|   64|Nicole Harwood_Cl...|        120|53.333333333333336|\n",
            "| 29|  Male|  Cordie Harnois|   OOP| 92882|   51|Judie Chipps_Clem...|        120|              42.5|\n",
            "| 29|Female|       Kena Wild|   DSA|102285|   35|Dustin Feagins_Ma...|        120|29.166666666666668|\n",
            "| 29|  Male| Ernest Rossbach|    DB|111449|   53|Maybell Duguay_Ab...|        120|44.166666666666664|\n",
            "| 28|Female|  Latia Vanhoose|    DB|122502|   27|Latia Vanhoose_Mi...|        120|              22.5|\n",
            "| 29|Female|  Latia Vanhoose|   MVC|132110|   55|Eda Neathery_Nico...|        120| 45.83333333333333|\n",
            "| 29|  Male|     Neda Briski|    PF|141770|   42|Margene Moores_Mi...|        120|              35.0|\n",
            "| 29|Female|  Latia Vanhoose|    DB|152159|   27|Claude Panos_Sant...|        120|              22.5|\n",
            "| 29|  Male|  Loris Crossett|   MVC|161771|   36|Mitzi Seldon_Jenn...|        120|              30.0|\n",
            "| 29|  Male|  Annika Hoffman|   OOP|171660|   22|Taryn Brownlee_Mi...|        120|18.333333333333332|\n",
            "| 29|  Male|   Santa Kerfien|    PF|182129|   56|Judie Chipps_Tary...|        120|46.666666666666664|\n",
            "| 28|Female|Mickey Cortright|    DB|192537|   62|Ernest Rossbach_M...|        120| 51.66666666666667|\n",
            "+---+------+----------------+------+------+-----+--------------------+-----------+------------------+\n",
            "only showing top 20 rows\n",
            "\n"
          ]
        }
      ]
    },
    {
      "cell_type": "code",
      "source": [
        "df.sort(df.marks, df.age).show()"
      ],
      "metadata": {
        "colab": {
          "base_uri": "https://localhost:8080/"
        },
        "id": "LIyp5Ji0nku4",
        "outputId": "98d2a114-861d-408d-d793-2f31558947ea"
      },
      "execution_count": null,
      "outputs": [
        {
          "output_type": "stream",
          "name": "stdout",
          "text": [
            "+----+------+-----------------+------+-------+-----+--------------------+-----------+------------------+\n",
            "| age|gender|             name|course|   roll|marks|               email|total_marks|           average|\n",
            "+----+------+-----------------+------+-------+-----+--------------------+-----------+------------------+\n",
            "|NULL|  NULL|             NULL|  NULL|   NULL| NULL|                NULL|        120|              NULL|\n",
            "|  28|Female|     Jc Andrepont|    PF| 972733|   20|Eda Neathery_Eda ...|        120|16.666666666666664|\n",
            "|  28|Female|   Maybell Duguay| Cloud| 261439|   20|Nicole Harwood_Ju...|        120|16.666666666666664|\n",
            "|  28|  Male|  Marylee Capasso|   DSA|2081560|   20|Sheryll Towler_Do...|        120|16.666666666666664|\n",
            "|  29|  Male|     Elenore Choy|    DB|3652057|   20|Jc Andrepont_Gonz...|        120|16.666666666666664|\n",
            "|  29|Female|   Tamera Blakley|   DSA|3911247|   20|Donna Yerby_Bonit...|        120|16.666666666666664|\n",
            "|  29|  Male|   Jalisa Swenson|   OOP|4751515|   20|Annika Hoffman_Hu...|        120|16.666666666666664|\n",
            "|  29|Female|  Gonzalo Ferebee|   DSA|5631172|   20|Jeannetta Golden_...|        120|16.666666666666664|\n",
            "|  29|  Male|Michelle Ruggiero|    PF|6001585|   20|Paris Hutton_Marg...|        120|16.666666666666664|\n",
            "|  29|Female|Michelle Ruggiero|    DB|9232210|   20|Donna Yerby_Latia...|        120|16.666666666666664|\n",
            "|  28|  Male|      Abram Nagao| Cloud|2652463|   21|Eda Neathery_Anni...|        120|              17.5|\n",
            "|  28|  Male|    Kizzy Brenner| Cloud|4622328|   21|Leontine Phillips...|        120|              17.5|\n",
            "|  28|Female|  Sebrina Maresca|    PF|5742239|   21|Bonita Higuera_Se...|        120|              17.5|\n",
            "|  28|  Male|   Bonita Higuera| Cloud|7671835|   21|Taryn Brownlee_Se...|        120|              17.5|\n",
            "|  28|  Male|      Billi Clore|    DB|9151306|   21|Latia Vanhoose_Er...|        120|              17.5|\n",
            "|  29|Female|  Gonzalo Ferebee|   OOP|2262603|   21|Bonita Higuera_Ch...|        120|              17.5|\n",
            "|  29|Female|   Alberta Freund|   OOP|4501424|   21|Toshiko Hillyard_...|        120|              17.5|\n",
            "|  29|  Male|  Sebrina Maresca| Cloud|5042394|   21|Donna Yerby_Miche...|        120|              17.5|\n",
            "|  29|  Male|   Tamera Blakley|   OOP|7341268|   21|Anna Santos_Naoma...|        120|              17.5|\n",
            "|  29|Female|   Nicole Harwood|    PF|8121198|   21|Bonita Higuera_Pr...|        120|              17.5|\n",
            "+----+------+-----------------+------+-------+-----+--------------------+-----------+------------------+\n",
            "only showing top 20 rows\n",
            "\n"
          ]
        }
      ]
    },
    {
      "cell_type": "code",
      "source": [
        "from pyspark.sql.functions import desc\n",
        "\n",
        "# Sorting by 'marks' and 'age' in descending order\n",
        "df.sort(desc(\"marks\"), desc(\"age\")).show()\n",
        "\n",
        "# Sorting by 'marks' in descending order\n",
        "df.sort(desc(\"marks\")).show()\n"
      ],
      "metadata": {
        "colab": {
          "base_uri": "https://localhost:8080/"
        },
        "id": "I6HjXG5fnkxG",
        "outputId": "fabed475-d343-412b-a10c-40027a68063b"
      },
      "execution_count": null,
      "outputs": [
        {
          "output_type": "stream",
          "name": "stdout",
          "text": [
            "+---+------+------------------+------+-------+-----+--------------------+-----------+-----------------+\n",
            "|age|gender|              name|course|   roll|marks|               email|total_marks|          average|\n",
            "+---+------+------------------+------+-------+-----+--------------------+-----------+-----------------+\n",
            "| 31| Male |              NULL|   DSA|   NULL|   ? |                NULL|        120|             NULL|\n",
            "| 29|Female|      Paris Hutton|   DSA| 271472|   99|Sheryll Towler_Al...|        120|             82.5|\n",
            "| 29|  Male|    Maybell Duguay|    PF| 701486|   99|Clementina Menke_...|        120|             82.5|\n",
            "| 29|  Male| Michelle Ruggiero|   DSA|1022971|   99|Cordie Harnois_Cl...|        120|             82.5|\n",
            "| 29|Female|Priscila Tavernier|   OOP|3902993|   99|Celeste Lollis_Bi...|        120|             82.5|\n",
            "| 29|  Male|   Gonzalo Ferebee|   MVC|5772006|   99|Niki Klimek_Marge...|        120|             82.5|\n",
            "| 29|Female|    Alberta Freund|   DSA|6071316|   99|Dustin Feagins_Se...|        120|             82.5|\n",
            "| 29|Female|      Eda Neathery|    PF|9222608|   99|Kena Wild_Lawanda...|        120|             82.5|\n",
            "| 28|Female|    Melani Engberg| Cloud|1872667|   99|Alberta Freund_Ni...|        120|             82.5|\n",
            "| 28|  Male|       Niki Klimek|   DSA|5172507|   99|Marylee Capasso_E...|        120|             82.5|\n",
            "| 28|Female|      Judie Chipps|   OOP|5451977|   99|Tamera Blakley_Mi...|        120|             82.5|\n",
            "| 28|Female|    Jalisa Swenson|   MVC|5712033|   99|Dustin Feagins_Hu...|        120|             82.5|\n",
            "| 28|  Male|    Loris Crossett|   OOP|9692316|   99|Judie Chipps_Mich...|        120|             82.5|\n",
            "| 29|  Male|    Alberta Freund|    DB|1671638|   98|Clementina Menke_...|        120|81.66666666666667|\n",
            "| 29|  Male|    Melani Engberg|    DB|2941257|   98|Claude Panos_Kena...|        120|81.66666666666667|\n",
            "| 29|Female|  Clementina Menke|   DSA|3982381|   98|Tamera Blakley_Ki...|        120|81.66666666666667|\n",
            "| 29|Female|  Lawanda Wohlwend| Cloud|7222880|   98|Sheryll Towler_An...|        120|81.66666666666667|\n",
            "| 28|Female|    Somer Stoecker|    PF|5882098|   98|Judie Chipps_Clem...|        120|81.66666666666667|\n",
            "| 28|  Male|  Clementina Menke|   DSA|2772189|   98|Donna Yerby_Judie...|        120|81.66666666666667|\n",
            "| 28|Female|      Judie Chipps|   DSA|4631068|   98|Toshiko Hillyard_...|        120|81.66666666666667|\n",
            "+---+------+------------------+------+-------+-----+--------------------+-----------+-----------------+\n",
            "only showing top 20 rows\n",
            "\n",
            "+---+------+------------------+------+-------+-----+--------------------+-----------+-----------------+\n",
            "|age|gender|              name|course|   roll|marks|               email|total_marks|          average|\n",
            "+---+------+------------------+------+-------+-----+--------------------+-----------+-----------------+\n",
            "| 31| Male |              NULL|   DSA|   NULL|   ? |                NULL|        120|             NULL|\n",
            "| 28|  Male|       Niki Klimek|   DSA|5172507|   99|Marylee Capasso_E...|        120|             82.5|\n",
            "| 28|  Male|    Loris Crossett|   OOP|9692316|   99|Judie Chipps_Mich...|        120|             82.5|\n",
            "| 29|  Male|    Maybell Duguay|    PF| 701486|   99|Clementina Menke_...|        120|             82.5|\n",
            "| 29|Female|      Eda Neathery|    PF|9222608|   99|Kena Wild_Lawanda...|        120|             82.5|\n",
            "| 28|Female|      Judie Chipps|   OOP|5451977|   99|Tamera Blakley_Mi...|        120|             82.5|\n",
            "| 29|Female|Priscila Tavernier|   OOP|3902993|   99|Celeste Lollis_Bi...|        120|             82.5|\n",
            "| 29|Female|      Paris Hutton|   DSA| 271472|   99|Sheryll Towler_Al...|        120|             82.5|\n",
            "| 29|  Male| Michelle Ruggiero|   DSA|1022971|   99|Cordie Harnois_Cl...|        120|             82.5|\n",
            "| 28|Female|    Melani Engberg| Cloud|1872667|   99|Alberta Freund_Ni...|        120|             82.5|\n",
            "| 28|Female|    Jalisa Swenson|   MVC|5712033|   99|Dustin Feagins_Hu...|        120|             82.5|\n",
            "| 29|  Male|   Gonzalo Ferebee|   MVC|5772006|   99|Niki Klimek_Marge...|        120|             82.5|\n",
            "| 29|Female|    Alberta Freund|   DSA|6071316|   99|Dustin Feagins_Se...|        120|             82.5|\n",
            "| 29|  Male|    Melani Engberg|    DB|2941257|   98|Claude Panos_Kena...|        120|81.66666666666667|\n",
            "| 28|  Male|    Jenna Montague|   OOP|3331161|   98|Leontine Phillips...|        120|81.66666666666667|\n",
            "| 29|Female|  Lawanda Wohlwend| Cloud|7222880|   98|Sheryll Towler_An...|        120|81.66666666666667|\n",
            "| 28|  Male|  Clementina Menke|   DSA|2772189|   98|Donna Yerby_Judie...|        120|81.66666666666667|\n",
            "| 28|  Male|    Loris Crossett|   OOP|8172914|   98|Paris Hutton_Pari...|        120|81.66666666666667|\n",
            "| 28|Female|      Judie Chipps|   DSA|4631068|   98|Toshiko Hillyard_...|        120|81.66666666666667|\n",
            "| 28|  Male|    Dustin Feagins|    DB|8871049|   98|Jenna Montague_Cl...|        120|81.66666666666667|\n",
            "+---+------+------------------+------+-------+-----+--------------------+-----------+-----------------+\n",
            "only showing top 20 rows\n",
            "\n"
          ]
        }
      ]
    },
    {
      "cell_type": "code",
      "source": [
        "# COMMAND ----------\n",
        "\n",
        "df.orderBy(df.marks, df.age).show()"
      ],
      "metadata": {
        "colab": {
          "base_uri": "https://localhost:8080/"
        },
        "id": "hbbheSQjrV9N",
        "outputId": "3531321d-c08d-41e8-f37b-35f351f072de"
      },
      "execution_count": null,
      "outputs": [
        {
          "output_type": "stream",
          "name": "stdout",
          "text": [
            "+----+------+-----------------+------+-------+-----+--------------------+-----------+------------------+\n",
            "| age|gender|             name|course|   roll|marks|               email|total_marks|           average|\n",
            "+----+------+-----------------+------+-------+-----+--------------------+-----------+------------------+\n",
            "|NULL|  NULL|             NULL|  NULL|   NULL| NULL|                NULL|        120|              NULL|\n",
            "|  28|Female|     Jc Andrepont|    PF| 972733|   20|Eda Neathery_Eda ...|        120|16.666666666666664|\n",
            "|  28|Female|   Maybell Duguay| Cloud| 261439|   20|Nicole Harwood_Ju...|        120|16.666666666666664|\n",
            "|  28|  Male|  Marylee Capasso|   DSA|2081560|   20|Sheryll Towler_Do...|        120|16.666666666666664|\n",
            "|  29|  Male|     Elenore Choy|    DB|3652057|   20|Jc Andrepont_Gonz...|        120|16.666666666666664|\n",
            "|  29|Female|   Tamera Blakley|   DSA|3911247|   20|Donna Yerby_Bonit...|        120|16.666666666666664|\n",
            "|  29|  Male|   Jalisa Swenson|   OOP|4751515|   20|Annika Hoffman_Hu...|        120|16.666666666666664|\n",
            "|  29|Female|  Gonzalo Ferebee|   DSA|5631172|   20|Jeannetta Golden_...|        120|16.666666666666664|\n",
            "|  29|  Male|Michelle Ruggiero|    PF|6001585|   20|Paris Hutton_Marg...|        120|16.666666666666664|\n",
            "|  29|Female|Michelle Ruggiero|    DB|9232210|   20|Donna Yerby_Latia...|        120|16.666666666666664|\n",
            "|  28|  Male|      Abram Nagao| Cloud|2652463|   21|Eda Neathery_Anni...|        120|              17.5|\n",
            "|  28|  Male|    Kizzy Brenner| Cloud|4622328|   21|Leontine Phillips...|        120|              17.5|\n",
            "|  28|Female|  Sebrina Maresca|    PF|5742239|   21|Bonita Higuera_Se...|        120|              17.5|\n",
            "|  28|  Male|   Bonita Higuera| Cloud|7671835|   21|Taryn Brownlee_Se...|        120|              17.5|\n",
            "|  28|  Male|      Billi Clore|    DB|9151306|   21|Latia Vanhoose_Er...|        120|              17.5|\n",
            "|  29|Female|  Gonzalo Ferebee|   OOP|2262603|   21|Bonita Higuera_Ch...|        120|              17.5|\n",
            "|  29|Female|   Alberta Freund|   OOP|4501424|   21|Toshiko Hillyard_...|        120|              17.5|\n",
            "|  29|  Male|  Sebrina Maresca| Cloud|5042394|   21|Donna Yerby_Miche...|        120|              17.5|\n",
            "|  29|  Male|   Tamera Blakley|   OOP|7341268|   21|Anna Santos_Naoma...|        120|              17.5|\n",
            "|  29|Female|   Nicole Harwood|    PF|8121198|   21|Bonita Higuera_Pr...|        120|              17.5|\n",
            "+----+------+-----------------+------+-------+-----+--------------------+-----------+------------------+\n",
            "only showing top 20 rows\n",
            "\n"
          ]
        }
      ]
    },
    {
      "cell_type": "code",
      "source": [
        "# COMMAND ----------\n",
        "\n",
        "df.sort(df.marks.asc(), df.age.desc()).show()"
      ],
      "metadata": {
        "colab": {
          "base_uri": "https://localhost:8080/"
        },
        "id": "DcArnk51rWAo",
        "outputId": "e5216e45-e4a1-46e8-8116-f1c15459fc66"
      },
      "execution_count": null,
      "outputs": [
        {
          "output_type": "stream",
          "name": "stdout",
          "text": [
            "+----+------+-----------------+------+-------+-----+--------------------+-----------+------------------+\n",
            "| age|gender|             name|course|   roll|marks|               email|total_marks|           average|\n",
            "+----+------+-----------------+------+-------+-----+--------------------+-----------+------------------+\n",
            "|NULL|  NULL|             NULL|  NULL|   NULL| NULL|                NULL|        120|              NULL|\n",
            "|  29|  Male|     Elenore Choy|    DB|3652057|   20|Jc Andrepont_Gonz...|        120|16.666666666666664|\n",
            "|  29|Female|   Tamera Blakley|   DSA|3911247|   20|Donna Yerby_Bonit...|        120|16.666666666666664|\n",
            "|  29|  Male|   Jalisa Swenson|   OOP|4751515|   20|Annika Hoffman_Hu...|        120|16.666666666666664|\n",
            "|  29|Female|  Gonzalo Ferebee|   DSA|5631172|   20|Jeannetta Golden_...|        120|16.666666666666664|\n",
            "|  29|  Male|Michelle Ruggiero|    PF|6001585|   20|Paris Hutton_Marg...|        120|16.666666666666664|\n",
            "|  29|Female|Michelle Ruggiero|    DB|9232210|   20|Donna Yerby_Latia...|        120|16.666666666666664|\n",
            "|  28|Female|     Jc Andrepont|    PF| 972733|   20|Eda Neathery_Eda ...|        120|16.666666666666664|\n",
            "|  28|Female|   Maybell Duguay| Cloud| 261439|   20|Nicole Harwood_Ju...|        120|16.666666666666664|\n",
            "|  28|  Male|  Marylee Capasso|   DSA|2081560|   20|Sheryll Towler_Do...|        120|16.666666666666664|\n",
            "|  29|  Male|  Sebrina Maresca| Cloud|5042394|   21|Donna Yerby_Miche...|        120|              17.5|\n",
            "|  29|Female|   Alberta Freund|   OOP|4501424|   21|Toshiko Hillyard_...|        120|              17.5|\n",
            "|  29|  Male|   Tamera Blakley|   OOP|7341268|   21|Anna Santos_Naoma...|        120|              17.5|\n",
            "|  29|Female|   Nicole Harwood|    PF|8121198|   21|Bonita Higuera_Pr...|        120|              17.5|\n",
            "|  29|Female|  Gonzalo Ferebee|   OOP|2262603|   21|Bonita Higuera_Ch...|        120|              17.5|\n",
            "|  28|  Male|   Bonita Higuera| Cloud|7671835|   21|Taryn Brownlee_Se...|        120|              17.5|\n",
            "|  28|Female|  Sebrina Maresca|    PF|5742239|   21|Bonita Higuera_Se...|        120|              17.5|\n",
            "|  28|  Male|    Kizzy Brenner| Cloud|4622328|   21|Leontine Phillips...|        120|              17.5|\n",
            "|  28|  Male|      Abram Nagao| Cloud|2652463|   21|Eda Neathery_Anni...|        120|              17.5|\n",
            "|  28|  Male|      Billi Clore|    DB|9151306|   21|Latia Vanhoose_Er...|        120|              17.5|\n",
            "+----+------+-----------------+------+-------+-----+--------------------+-----------+------------------+\n",
            "only showing top 20 rows\n",
            "\n"
          ]
        }
      ]
    },
    {
      "cell_type": "code",
      "source": [
        "# Casting 'marks' to integer and grouping by 'gender'\n",
        "df = df.withColumn(\"marks\", col(\"marks\").cast(\"int\"))\n"
      ],
      "metadata": {
        "id": "iwaP4UMYrWD4"
      },
      "execution_count": null,
      "outputs": []
    },
    {
      "cell_type": "code",
      "source": [
        "df.printSchema()"
      ],
      "metadata": {
        "colab": {
          "base_uri": "https://localhost:8080/"
        },
        "id": "SxIXLZ_asVFi",
        "outputId": "eea98596-15e2-4f1d-d457-4296b2fa5c41"
      },
      "execution_count": null,
      "outputs": [
        {
          "output_type": "stream",
          "name": "stdout",
          "text": [
            "root\n",
            " |-- age: string (nullable = true)\n",
            " |-- gender: string (nullable = true)\n",
            " |-- name: string (nullable = true)\n",
            " |-- course: string (nullable = true)\n",
            " |-- roll: string (nullable = true)\n",
            " |-- marks: integer (nullable = true)\n",
            " |-- email: string (nullable = true)\n",
            " |-- total_marks: integer (nullable = false)\n",
            " |-- average: double (nullable = true)\n",
            "\n"
          ]
        }
      ]
    },
    {
      "cell_type": "code",
      "source": [
        "df.groupBy(\"gender\").sum(\"marks\").show()"
      ],
      "metadata": {
        "colab": {
          "base_uri": "https://localhost:8080/"
        },
        "id": "Pgm2ZmuBrWHJ",
        "outputId": "dddd198a-82b3-463e-e370-101838145841"
      },
      "execution_count": null,
      "outputs": [
        {
          "output_type": "stream",
          "name": "stdout",
          "text": [
            "+------+----------+\n",
            "|gender|sum(marks)|\n",
            "+------+----------+\n",
            "|  NULL|      NULL|\n",
            "|Female|     29636|\n",
            "|  Male|     30461|\n",
            "| Male |      NULL|\n",
            "+------+----------+\n",
            "\n"
          ]
        }
      ]
    },
    {
      "cell_type": "code",
      "source": [
        "df.groupBy(\"gender\").count().show()\n",
        "df.groupBy(\"course\").count().show()"
      ],
      "metadata": {
        "colab": {
          "base_uri": "https://localhost:8080/"
        },
        "id": "Km0Ds7LmrWKU",
        "outputId": "e99762ed-2afa-457e-8206-863f651089c2"
      },
      "execution_count": null,
      "outputs": [
        {
          "output_type": "stream",
          "name": "stdout",
          "text": [
            "+------+-----+\n",
            "|gender|count|\n",
            "+------+-----+\n",
            "|  NULL|    1|\n",
            "|Female|  501|\n",
            "|  Male|  499|\n",
            "| Male |    1|\n",
            "+------+-----+\n",
            "\n",
            "+------+-----+\n",
            "|course|count|\n",
            "+------+-----+\n",
            "|    PF|  166|\n",
            "|  NULL|    1|\n",
            "|    DB|  157|\n",
            "|   MVC|  157|\n",
            "|   DSA|  177|\n",
            "| Cloud|  192|\n",
            "|   OOP|  152|\n",
            "+------+-----+\n",
            "\n"
          ]
        }
      ]
    },
    {
      "cell_type": "code",
      "source": [
        "df.groupBy(\"age\").avg(\"marks\").show()"
      ],
      "metadata": {
        "colab": {
          "base_uri": "https://localhost:8080/"
        },
        "id": "rZ--uiTwrWNZ",
        "outputId": "217fe8fd-aaf4-44e2-df65-7a657e657100"
      },
      "execution_count": null,
      "outputs": [
        {
          "output_type": "stream",
          "name": "stdout",
          "text": [
            "+----+------------------+\n",
            "| age|        avg(marks)|\n",
            "+----+------------------+\n",
            "|  29|59.715415019762844|\n",
            "|  28|60.487854251012145|\n",
            "|NULL|              NULL|\n",
            "|  31|              NULL|\n",
            "+----+------------------+\n",
            "\n"
          ]
        }
      ]
    },
    {
      "cell_type": "code",
      "source": [
        "df.groupBy(\"gender\").mean(\"marks\").show()"
      ],
      "metadata": {
        "colab": {
          "base_uri": "https://localhost:8080/"
        },
        "id": "SWRPDjVcrWQr",
        "outputId": "eb113248-512f-4345-c629-bf12e47877b0"
      },
      "execution_count": null,
      "outputs": [
        {
          "output_type": "stream",
          "name": "stdout",
          "text": [
            "+------+------------------+\n",
            "|gender|        avg(marks)|\n",
            "+------+------------------+\n",
            "|  NULL|              NULL|\n",
            "|Female|59.153692614770456|\n",
            "|  Male| 61.04408817635271|\n",
            "| Male |              NULL|\n",
            "+------+------------------+\n",
            "\n"
          ]
        }
      ]
    },
    {
      "cell_type": "code",
      "source": [
        "from pyspark.sql.functions import sum,avg,max,min,mean,count\n",
        "\n",
        "# COMMAND ----------\n",
        "\n",
        "df.groupBy(\"course\",\"gender\").agg(count(\"*\").alias(\"total_enrollments\"), sum(\"marks\").alias(\"total_marks\"), min(\"marks\").alias(\"min_makrs\"), max(\"marks\"), avg(\"marks\")).show()"
      ],
      "metadata": {
        "colab": {
          "base_uri": "https://localhost:8080/"
        },
        "id": "W59Tp63SrWTw",
        "outputId": "968fbc6b-03ed-4866-8382-11d15a2894e9"
      },
      "execution_count": null,
      "outputs": [
        {
          "output_type": "stream",
          "name": "stdout",
          "text": [
            "+------+------+-----------------+-----------+---------+----------+------------------+\n",
            "|course|gender|total_enrollments|total_marks|min_makrs|max(marks)|        avg(marks)|\n",
            "+------+------+-----------------+-----------+---------+----------+------------------+\n",
            "|   OOP|  Male|               70|       4234|       20|        99| 60.48571428571429|\n",
            "|    DB|  Male|               82|       5073|       20|        98| 61.86585365853659|\n",
            "| Cloud|Female|              106|       6316|       20|        99| 59.58490566037736|\n",
            "|  NULL|  NULL|                1|       NULL|     NULL|      NULL|              NULL|\n",
            "|   MVC|  Male|               86|       5241|       22|        99| 60.94186046511628|\n",
            "|   DSA|Female|               98|       6124|       20|        99| 62.48979591836735|\n",
            "|   DSA| Male |                1|       NULL|     NULL|      NULL|              NULL|\n",
            "|    PF|  Male|               97|       5960|       20|        99| 61.44329896907217|\n",
            "|   MVC|Female|               71|       4344|       22|        99|61.183098591549296|\n",
            "| Cloud|  Male|               86|       5127|       21|        97|59.616279069767444|\n",
            "|    PF|Female|               69|       3973|       20|        99| 57.57971014492754|\n",
            "|   DSA|  Male|               78|       4826|       20|        99| 61.87179487179487|\n",
            "|    DB|Female|               75|       4197|       20|        96|             55.96|\n",
            "|   OOP|Female|               82|       4682|       21|        99| 57.09756097560975|\n",
            "+------+------+-----------------+-----------+---------+----------+------------------+\n",
            "\n"
          ]
        }
      ]
    },
    {
      "cell_type": "markdown",
      "source": [
        "# Work on Text file"
      ],
      "metadata": {
        "id": "Kf8Xb9LJtY4B"
      }
    },
    {
      "cell_type": "markdown",
      "source": [
        "The 'value' refers to the default column name that PySpark assigns when reading a file using the .text() method. When you use the text() method to load a text file, each line of the file is treated as a single string, and PySpark assigns the column name value to represent the contents of each line.\n",
        "\n",
        "So, in this case:\n",
        "\n",
        "df contains a DataFrame where each row is a line from the file WordData.txt, and each line is stored in a column named value."
      ],
      "metadata": {
        "id": "19Ifnlz3t8CB"
      }
    },
    {
      "cell_type": "code",
      "source": [
        "# COMMAND ----------\n",
        "\n",
        "df = spark.read.options().text('/content/sample_data/WordData.txt')\n",
        "df.show()\n",
        "\n",
        "# COMMAND ----------\n",
        "\n",
        "df.groupBy('value').count().show()"
      ],
      "metadata": {
        "colab": {
          "base_uri": "https://localhost:8080/"
        },
        "id": "4vPBjtmkrWWs",
        "outputId": "44fd0ee4-d7ce-4682-f8d3-526e18b2bd5d"
      },
      "execution_count": null,
      "outputs": [
        {
          "output_type": "stream",
          "name": "stdout",
          "text": [
            "+------+\n",
            "| value|\n",
            "+------+\n",
            "| Apple|\n",
            "|   Mic|\n",
            "|   Mic|\n",
            "| Apple|\n",
            "|Laptop|\n",
            "| Apple|\n",
            "|   Mic|\n",
            "|   Mic|\n",
            "| Apple|\n",
            "|Laptop|\n",
            "| Chair|\n",
            "| Chair|\n",
            "| Chair|\n",
            "|   Bag|\n",
            "|Mobile|\n",
            "|  Book|\n",
            "| Chair|\n",
            "| Chair|\n",
            "| Chair|\n",
            "|   Bag|\n",
            "+------+\n",
            "only showing top 20 rows\n",
            "\n",
            "+------+-----+\n",
            "| value|count|\n",
            "+------+-----+\n",
            "|   Mic|   10|\n",
            "| Chair|   15|\n",
            "|  Book|    5|\n",
            "|Laptop|    5|\n",
            "|   Bag|    5|\n",
            "|Mobile|    5|\n",
            "| Apple|   10|\n",
            "+------+-----+\n",
            "\n"
          ]
        }
      ]
    },
    {
      "cell_type": "code",
      "source": [
        "\n",
        "spark.sql(\"select course, gender, count(*) from Student group by course, gender\").show()\n",
        "df.groupBy(\"course\", \"gender\").count().show()"
      ],
      "metadata": {
        "colab": {
          "base_uri": "https://localhost:8080/"
        },
        "id": "GwrR2-FHyssQ",
        "outputId": "6974f843-204b-4a37-8ac6-8b9426acaeec"
      },
      "execution_count": null,
      "outputs": [
        {
          "output_type": "stream",
          "name": "stdout",
          "text": [
            "+------+------+--------+\n",
            "|course|gender|count(1)|\n",
            "+------+------+--------+\n",
            "|   OOP|  Male|      70|\n",
            "|    DB|  Male|      82|\n",
            "| Cloud|Female|     106|\n",
            "|  NULL|  NULL|       1|\n",
            "|   MVC|  Male|      86|\n",
            "|   DSA|Female|      98|\n",
            "|   DSA| Male |       1|\n",
            "|    PF|  Male|      97|\n",
            "|   MVC|Female|      71|\n",
            "| Cloud|  Male|      86|\n",
            "|    PF|Female|      69|\n",
            "|   DSA|  Male|      78|\n",
            "|    DB|Female|      75|\n",
            "|   OOP|Female|      82|\n",
            "+------+------+--------+\n",
            "\n",
            "+------+------+-----+\n",
            "|course|gender|count|\n",
            "+------+------+-----+\n",
            "|   OOP|  Male|   70|\n",
            "|    DB|  Male|   82|\n",
            "| Cloud|Female|  106|\n",
            "|  NULL|  NULL|    1|\n",
            "|   MVC|  Male|   86|\n",
            "|   DSA|Female|   98|\n",
            "|   DSA| Male |    1|\n",
            "|    PF|  Male|   97|\n",
            "|   MVC|Female|   71|\n",
            "| Cloud|  Male|   86|\n",
            "|    PF|Female|   69|\n",
            "|   DSA|  Male|   78|\n",
            "|    DB|Female|   75|\n",
            "|   OOP|Female|   82|\n",
            "+------+------+-----+\n",
            "\n"
          ]
        }
      ]
    }
  ]
}